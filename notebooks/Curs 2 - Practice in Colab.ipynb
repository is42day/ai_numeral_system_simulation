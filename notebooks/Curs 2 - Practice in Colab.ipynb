{
  "cells": [
    {
      "cell_type": "code",
      "execution_count": 1,
      "metadata": {
        "id": "hrgsehW2Mg-E",
        "colab": {
          "base_uri": "https://localhost:8080/"
        },
        "outputId": "d9299e17-72ac-4b39-dd36-e96ce26aa5a9"
      },
      "outputs": [
        {
          "output_type": "stream",
          "name": "stdout",
          "text": [
            "Mounted at /content/drive\n"
          ]
        }
      ],
      "source": [
        "\"\"\"\n",
        "Pregătire mediu de lucru\n",
        "Stabilirea conexiunii dintre Google drive si Colab notebook\n",
        "\"\"\"\n",
        "from google.colab import drive\n",
        "drive.mount('/content/drive')\n"
      ]
    },
    {
      "cell_type": "code",
      "execution_count": 3,
      "metadata": {
        "colab": {
          "base_uri": "https://localhost:8080/",
          "height": 777
        },
        "id": "NlPQG_VVOEAV",
        "outputId": "a8902351-b1b0-435e-b1ef-9cad9656b39b",
        "collapsed": true
      },
      "outputs": [
        {
          "output_type": "stream",
          "name": "stdout",
          "text": [
            "Get:1 http://security.ubuntu.com/ubuntu jammy-security InRelease [129 kB]\n",
            "Hit:2 http://archive.ubuntu.com/ubuntu jammy InRelease\n",
            "Get:3 https://cloud.r-project.org/bin/linux/ubuntu jammy-cran40/ InRelease [3,632 B]\n",
            "Get:4 http://archive.ubuntu.com/ubuntu jammy-updates InRelease [128 kB]\n",
            "Get:5 https://developer.download.nvidia.com/compute/cuda/repos/ubuntu2204/x86_64  InRelease [1,581 B]\n",
            "Get:6 https://r2u.stat.illinois.edu/ubuntu jammy InRelease [6,555 B]\n",
            "Get:7 http://archive.ubuntu.com/ubuntu jammy-backports InRelease [127 kB]\n",
            "Get:8 http://security.ubuntu.com/ubuntu jammy-security/multiverse amd64 Packages [47.7 kB]\n",
            "Get:9 http://security.ubuntu.com/ubuntu jammy-security/main amd64 Packages [2,735 kB]\n",
            "Hit:10 https://ppa.launchpadcontent.net/deadsnakes/ppa/ubuntu jammy InRelease\n",
            "Hit:11 https://ppa.launchpadcontent.net/graphics-drivers/ppa/ubuntu jammy InRelease\n",
            "Get:12 http://security.ubuntu.com/ubuntu jammy-security/universe amd64 Packages [1,239 kB]\n",
            "Hit:13 https://ppa.launchpadcontent.net/ubuntugis/ppa/ubuntu jammy InRelease\n",
            "Get:14 http://security.ubuntu.com/ubuntu jammy-security/restricted amd64 Packages [3,884 kB]\n",
            "Get:15 https://developer.download.nvidia.com/compute/cuda/repos/ubuntu2204/x86_64  Packages [1,381 kB]\n",
            "Get:16 http://archive.ubuntu.com/ubuntu jammy-updates/restricted amd64 Packages [4,049 kB]\n",
            "Get:17 http://archive.ubuntu.com/ubuntu jammy-updates/main amd64 Packages [3,045 kB]\n",
            "Get:18 http://archive.ubuntu.com/ubuntu jammy-updates/multiverse amd64 Packages [55.7 kB]\n",
            "Get:19 http://archive.ubuntu.com/ubuntu jammy-updates/universe amd64 Packages [1,538 kB]\n",
            "Get:20 https://r2u.stat.illinois.edu/ubuntu jammy/main amd64 Packages [2,684 kB]\n",
            "Get:21 https://r2u.stat.illinois.edu/ubuntu jammy/main all Packages [8,784 kB]\n",
            "Get:22 http://archive.ubuntu.com/ubuntu jammy-backports/universe amd64 Packages [35.2 kB]\n",
            "Fetched 29.9 MB in 4s (7,011 kB/s)\n",
            "Reading package lists... Done\n",
            "Building dependency tree... Done\n",
            "Reading state information... Done\n",
            "38 packages can be upgraded. Run 'apt list --upgradable' to see them.\n",
            "\u001b[1;33mW: \u001b[0mSkipping acquire of configured file 'main/source/Sources' as repository 'https://r2u.stat.illinois.edu/ubuntu jammy InRelease' does not seem to provide it (sources.list entry misspelt?)\u001b[0m\n",
            "Requirement already satisfied: pyspark in /usr/local/lib/python3.11/dist-packages (3.5.5)\n",
            "Requirement already satisfied: py4j==0.10.9.7 in /usr/local/lib/python3.11/dist-packages (from pyspark) (0.10.9.7)\n",
            "Requirement already satisfied: py4j in /usr/local/lib/python3.11/dist-packages (0.10.9.7)\n"
          ]
        },
        {
          "output_type": "execute_result",
          "data": {
            "text/plain": [
              "<pyspark.sql.session.SparkSession at 0x7f29beb54c50>"
            ],
            "text/html": [
              "\n",
              "            <div>\n",
              "                <p><b>SparkSession - in-memory</b></p>\n",
              "                \n",
              "        <div>\n",
              "            <p><b>SparkContext</b></p>\n",
              "\n",
              "            <p><a href=\"http://6521e1262092:4040\">Spark UI</a></p>\n",
              "\n",
              "            <dl>\n",
              "              <dt>Version</dt>\n",
              "                <dd><code>v3.5.5</code></dd>\n",
              "              <dt>Master</dt>\n",
              "                <dd><code>local[*]</code></dd>\n",
              "              <dt>AppName</dt>\n",
              "                <dd><code>pyspark-shell</code></dd>\n",
              "            </dl>\n",
              "        </div>\n",
              "        \n",
              "            </div>\n",
              "        "
            ]
          },
          "metadata": {},
          "execution_count": 3
        }
      ],
      "source": [
        "# Instalarea PySpark\n",
        "\n",
        "!sudo apt update\n",
        "!apt-get install openjdk-8-jdk-headless -qq > /dev/null\n",
        "#Check this site for the latest download link https://dlcdn.apache.org/spark/\n",
        "!wget -q https://dlcdn.apache.org/spark/spark-3.4.4/spark-3.4.4-bin-hadoop3.tgz\n",
        "!tar xf spark-3.4.4-bin-hadoop3.tgz\n",
        "!pip install -q findspark\n",
        "!pip install pyspark\n",
        "!pip install py4j\n",
        "\n",
        "import os\n",
        "import sys\n",
        "# os.environ[\"JAVA_HOME\"] = \"/usr/lib/jvm/java-8-openjdk-amd64\"\n",
        "# os.environ[\"SPARK_HOME\"] = \"/content/spark-3.4.4-bin-hadoop3\"\n",
        "\n",
        "import findspark\n",
        "findspark.init()\n",
        "findspark.find()\n",
        "import pyspark\n",
        "\n",
        "from pyspark.sql import DataFrame, SparkSession\n",
        "from typing import List\n",
        "import pyspark.sql.types as T\n",
        "import pyspark.sql.functions as F\n",
        "\n",
        "spark= SparkSession \\\n",
        "  .builder \\\n",
        "  .getOrCreate()\n",
        "\n",
        "spark"
      ]
    },
    {
      "cell_type": "code",
      "execution_count": 55,
      "metadata": {
        "id": "3wUauomaPTYE",
        "colab": {
          "base_uri": "https://localhost:8080/"
        },
        "outputId": "de27bf66-7904-4ab9-bcbc-f63310bb8737"
      },
      "outputs": [
        {
          "output_type": "stream",
          "name": "stdout",
          "text": [
            "+-----------------------+-------+-----------+--------------------+------+-------+\n",
            "|extra                  |inactiv|nume       |ocupatie            |varsta|vechime|\n",
            "+-----------------------+-------+-----------+--------------------+------+-------+\n",
            "|[PV, EV]               |NULL   |Andrei     |Specialist marketing|38    |13     |\n",
            "|[3D Printer, WII]      |NULL   |Alexandru  |Specialist HR       |34    |8      |\n",
            "|[AC, EV, 5G Router]    |NULL   |Adrian     |Inginer civil       |45    |23     |\n",
            "|[XBOX]                 |NULL   | Alin      |Vânzător  retail    |26    |2      |\n",
            "|[5G Router, 3D Printer]|NULL   |Anton      |Manager proiect     |40    |15     |\n",
            "|[EV, AC]               |NULL   |Ana        |Muncitor alimentar  |35    |9      |\n",
            "|[PC, 3D Printer, AC]   |false  |Bogdan     |Farmacist           |50    |32     |\n",
            "|NULL                   |true   |  Cătălin  |Medic primar        |20    |0      |\n",
            "|[AC, XBOX, PV]         |NULL   |Cosmin     |Farmacist           |49    |31     |\n",
            "|[XBOX, 3D Printer, EV] |false  |Cristian   | Asistent  social   |44    |21     |\n",
            "+-----------------------+-------+-----------+--------------------+------+-------+\n",
            "only showing top 10 rows\n",
            "\n"
          ]
        }
      ],
      "source": [
        "data_type ='json'\n",
        "path      = '/content/drive/MyDrive/Colab Notebooks/Data/Data/practice/'+ data_type\n",
        "data_df   = spark.read.format(data_type).load(path)\n",
        "data_df.show(10, truncate = False)"
      ]
    },
    {
      "cell_type": "code",
      "execution_count": 5,
      "metadata": {
        "colab": {
          "base_uri": "https://localhost:8080/"
        },
        "id": "UoEE3SjpP9oL",
        "outputId": "0d8abab9-a4c1-4cfa-fec2-ac2f11f0dcef"
      },
      "outputs": [
        {
          "output_type": "stream",
          "name": "stdout",
          "text": [
            "root\n",
            " |-- extra: array (nullable = true)\n",
            " |    |-- element: string (containsNull = true)\n",
            " |-- inactiv: boolean (nullable = true)\n",
            " |-- nume: string (nullable = true)\n",
            " |-- ocupatie: string (nullable = true)\n",
            " |-- varsta: long (nullable = true)\n",
            " |-- vechime: long (nullable = true)\n",
            "\n"
          ]
        }
      ],
      "source": [
        "data_df.printSchema()"
      ]
    },
    {
      "cell_type": "code",
      "execution_count": 6,
      "metadata": {
        "colab": {
          "base_uri": "https://localhost:8080/"
        },
        "id": "HX_Ygbj_QETD",
        "outputId": "6ce037d6-00b6-4acd-8850-47c752970769"
      },
      "outputs": [
        {
          "output_type": "stream",
          "name": "stdout",
          "text": [
            "+--------------------+-------+-----------+--------------------+------+-------+\n",
            "|               extra|inactiv|       nume|            ocupatie|varsta|vechime|\n",
            "+--------------------+-------+-----------+--------------------+------+-------+\n",
            "|            [PV, EV]|   NULL|     Andrei|Specialist marketing|    38|     13|\n",
            "|   [3D Printer, WII]|   NULL|  Alexandru|      Specialist HR |    34|      8|\n",
            "| [AC, EV, 5G Router]|   NULL|     Adrian|       Inginer civil|    45|     23|\n",
            "|              [XBOX]|   NULL|      Alin |   Vânzător  retail |    26|      2|\n",
            "|[5G Router, 3D Pr...|   NULL|      Anton|     Manager proiect|    40|     15|\n",
            "|            [EV, AC]|   NULL|        Ana|  Muncitor alimentar|    35|      9|\n",
            "|[PC, 3D Printer, AC]|  false|     Bogdan|           Farmacist|    50|     32|\n",
            "|                NULL|   true|  Cătălin  |        Medic primar|    20|      0|\n",
            "|      [AC, XBOX, PV]|   NULL|     Cosmin|           Farmacist|    49|     31|\n",
            "|[XBOX, 3D Printer...|  false|   Cristian|    Asistent  social|    44|     21|\n",
            "|[3D Printer, 3D P...|   NULL|    Gabriel|     Asistent social|    44|     21|\n",
            "|[3D Printer, AC, ...|  false|     George|     Agent imobiliar|    46|     25|\n",
            "|   [WII, 3D Printer]|   NULL|   Gheorghe|      Specialist HR |    34|      8|\n",
            "|[WII, 5G Router, ...|   NULL|    Grigore|    Asistent  social|    44|     21|\n",
            "|     [5G Router, PV]|   NULL|      Horia|           Arhitect |    42|     18|\n",
            "|                [PC]|   NULL|      Ilie |     Vânzător retail|    26|      2|\n",
            "|              [XBOX]|   NULL|       Ion |     Vânzător retail|    27|      2|\n",
            "|[EV, XBOX, 3D Pri...|   NULL|      Ionel|     Inginer  civil |    45|     23|\n",
            "|                NULL|   NULL|     Iosif |   Vânzător  retail |    26|      2|\n",
            "|      [PV, XBOX, AC]|  false|     Lucian|     Designer grafic|    49|     30|\n",
            "+--------------------+-------+-----------+--------------------+------+-------+\n",
            "only showing top 20 rows\n",
            "\n"
          ]
        }
      ],
      "source": [
        "data_df.show()"
      ]
    },
    {
      "cell_type": "code",
      "execution_count": 7,
      "metadata": {
        "id": "wIEijGiuRcXC",
        "colab": {
          "base_uri": "https://localhost:8080/"
        },
        "outputId": "03683977-350f-4323-df61-b38bf793ca59"
      },
      "outputs": [
        {
          "output_type": "stream",
          "name": "stdout",
          "text": [
            "+------------+------+--------------------+-------+-------+--------------------+\n",
            "|        nume|varsta|            ocupatie|vechime|inactiv|               extra|\n",
            "+------------+------+--------------------+-------+-------+--------------------+\n",
            "|       Daria|    33|   Inginer  mecanic |      7|   NULL|                [EV]|\n",
            "|     Delia  |    20|        Medic primar|      0|   true|                NULL|\n",
            "|       Diana|    45|   Asistent  social |     23|   NULL|[XBOX, 3D Printer...|\n",
            "|       Doina|    37|Specialist  marke...|     11|   NULL|          [WII, PS5]|\n",
            "|      Elena |    25|            Contabil|      1|   NULL|                NULL|\n",
            "|     Eliza  |    23|          Instalator|      0|   NULL|                NULL|\n",
            "|     Emilia |    25|            Contabil|      1|   NULL|                NULL|\n",
            "|   Eugenia  |    24|        Programator |      1|   NULL|                NULL|\n",
            "|     Felicia|    34|      Specialist  HR|      8|   NULL|          [WII, PS5]|\n",
            "|    Florina |    28|               Șofer|      3|   NULL|                [EV]|\n",
            "|      Vasile|    40|     Manager proiect|     15|   NULL|            [AC, AC]|\n",
            "|      Victor|    42|            Arhitect|     18|   NULL|   [5G Router, XBOX]|\n",
            "|      Viorel|    50|          Farmacist |     32|  false|[PS5, 3D Printer,...|\n",
            "|  Vladimir  |    18|   Asistent  medical|      0|   true|                NULL|\n",
            "|     Voicu  |    22|          Instalator|      0|   NULL|                NULL|\n",
            "|      Zamfir|    46|       Inginer civil|     24|   NULL|[3D Printer, 3D P...|\n",
            "|  Alexandra |    29|Operator call center|      4|  false|                [PC]|\n",
            "|         Ana|    45|     Asistent social|     22|   NULL|[3D Printer, 5G R...|\n",
            "|       Alina|    44|    Asistent  social|     21|   NULL|      [PS5, AC, PS5]|\n",
            "|       Adela|    40|    Manager  proiect|     15|   NULL|    [3D Printer, PC]|\n",
            "+------------+------+--------------------+-------+-------+--------------------+\n",
            "only showing top 20 rows\n",
            "\n"
          ]
        }
      ],
      "source": [
        "data_type     = 'parquet'\n",
        "path          = '/content/drive/MyDrive/Colab Notebooks/Data/Data/practice/'+ data_type\n",
        "data_practice = spark.read.format(data_type).load(path)\n",
        "data_practice.show()"
      ]
    },
    {
      "cell_type": "code",
      "execution_count": 8,
      "metadata": {
        "id": "r2taq2uUpnoi"
      },
      "outputs": [],
      "source": [
        "from pyspark.sql import functions as f"
      ]
    },
    {
      "cell_type": "code",
      "execution_count": 56,
      "metadata": {
        "colab": {
          "base_uri": "https://localhost:8080/"
        },
        "id": "76C4FTmIRm2f",
        "outputId": "8552151c-a12b-4385-ea07-80d072c85cd0"
      },
      "outputs": [
        {
          "output_type": "execute_result",
          "data": {
            "text/plain": [
              "103"
            ]
          },
          "metadata": {},
          "execution_count": 56
        }
      ],
      "source": [
        "data_practice.count()"
      ]
    },
    {
      "cell_type": "code",
      "execution_count": 10,
      "metadata": {
        "colab": {
          "base_uri": "https://localhost:8080/"
        },
        "id": "5i3t5BjaRzuR",
        "outputId": "801bb5a9-4f03-4432-859a-335baa20e461"
      },
      "outputs": [
        {
          "output_type": "stream",
          "name": "stdout",
          "text": [
            "+------------+------+----------------------+-------+-------+----------------------------+\n",
            "|nume        |varsta|ocupatie              |vechime|inactiv|extra                       |\n",
            "+------------+------+----------------------+-------+-------+----------------------------+\n",
            "|Daria       |33    |Inginer  mecanic      |7      |NULL   |[EV]                        |\n",
            "|  Delia     |20    |Medic primar          |0      |true   |NULL                        |\n",
            "|Diana       |45    |Asistent  social      |23     |NULL   |[XBOX, 3D Printer, PV]      |\n",
            "|Doina       |37    |Specialist  marketing |11     |NULL   |[WII, PS5]                  |\n",
            "| Elena      |25    |Contabil              |1      |NULL   |NULL                        |\n",
            "|  Eliza     |23    |Instalator            |0      |NULL   |NULL                        |\n",
            "| Emilia     |25    |Contabil              |1      |NULL   |NULL                        |\n",
            "|  Eugenia   |24    |Programator           |1      |NULL   |NULL                        |\n",
            "|Felicia     |34    |Specialist  HR        |8      |NULL   |[WII, PS5]                  |\n",
            "| Florina    |28    |Șofer                 |3      |NULL   |[EV]                        |\n",
            "|Vasile      |40    |Manager proiect       |15     |NULL   |[AC, AC]                    |\n",
            "|Victor      |42    |Arhitect              |18     |NULL   |[5G Router, XBOX]           |\n",
            "|Viorel      |50    | Farmacist            |32     |false  |[PS5, 3D Printer, PC]       |\n",
            "|  Vladimir  |18    |Asistent  medical     |0      |true   |NULL                        |\n",
            "|  Voicu     |22    |Instalator            |0      |NULL   |NULL                        |\n",
            "|Zamfir      |46    |Inginer civil         |24     |NULL   |[3D Printer, 3D Printer, AC]|\n",
            "| Alexandra  |29    |Operator call center  |4      |false  |[PC]                        |\n",
            "|Ana         |45    |Asistent social       |22     |NULL   |[3D Printer, 5G Router, PV] |\n",
            "|Alina       |44    |Asistent  social      |21     |NULL   |[PS5, AC, PS5]              |\n",
            "|Adela       |40    |Manager  proiect      |15     |NULL   |[3D Printer, PC]            |\n",
            "+------------+------+----------------------+-------+-------+----------------------------+\n",
            "only showing top 20 rows\n",
            "\n"
          ]
        }
      ],
      "source": [
        "data_practice.show(truncate=False)"
      ]
    },
    {
      "cell_type": "markdown",
      "metadata": {
        "id": "T4Of_wv9kvv7"
      },
      "source": [
        "Curățarea coloanei „nume” de spații suplimentare - Se recomandă folosirea funcției trim sau replace.\n",
        "\n",
        "Curățarea coloanei „ocupatie” de sparții suplimentare -  Se recomandă folosirea funcției trim sau replace.\n",
        "\n",
        "Eliminarea diacriticelor din coloana „nume” -\n",
        "\n",
        "Scoaterea valorilor duplicate din coloana „extra”\n",
        "\n",
        "Setarea coloanei „inactiv” pe false atunci când valoarea lipsește. - Se recomandă folosirea funcției coalesce.\n"
      ]
    },
    {
      "cell_type": "code",
      "source": [
        "from pyspark.sql.functions import col, lit, trim, coalesce, translate, array_distinct, concat, when, size, array_join, desc_nulls_last, desc"
      ],
      "metadata": {
        "id": "TshVr0Zhkh04"
      },
      "execution_count": 31,
      "outputs": []
    },
    {
      "cell_type": "markdown",
      "metadata": {
        "id": "5s7KkviqiQI6"
      },
      "source": []
    },
    {
      "cell_type": "code",
      "execution_count": 17,
      "metadata": {
        "id": "u2MqL2RvkAvk"
      },
      "outputs": [],
      "source": [
        "df_tasks = (\n",
        "    data_practice\n",
        "    .withColumn('nume', trim(col('nume'))   )\n",
        "    .withColumn('ocupatie',trim(col('ocupatie')))\n",
        "    .withColumn('inactiv',coalesce(col('inactiv'),f.lit(False) ) )\n",
        "    .withColumn('nume',translate(col('nume'),'șțăîâ','staia' ))\n",
        "    .withColumn('extra',array_distinct(col('extra')))\n",
        ")"
      ]
    },
    {
      "cell_type": "code",
      "execution_count": 18,
      "metadata": {
        "colab": {
          "base_uri": "https://localhost:8080/"
        },
        "id": "NtSkSx8FkQdw",
        "outputId": "2de83b92-7cd2-4d03-806f-b9ad79036e34"
      },
      "outputs": [
        {
          "output_type": "stream",
          "name": "stdout",
          "text": [
            "+---------+------+--------------------+-------+-------+--------------------+\n",
            "|     nume|varsta|            ocupatie|vechime|inactiv|               extra|\n",
            "+---------+------+--------------------+-------+-------+--------------------+\n",
            "|    Daria|    33|    Inginer  mecanic|      7|  false|                [EV]|\n",
            "|    Delia|    20|        Medic primar|      0|   true|                NULL|\n",
            "|    Diana|    45|    Asistent  social|     23|  false|[XBOX, 3D Printer...|\n",
            "|    Doina|    37|Specialist  marke...|     11|  false|          [WII, PS5]|\n",
            "|    Elena|    25|            Contabil|      1|  false|                NULL|\n",
            "|    Eliza|    23|          Instalator|      0|  false|                NULL|\n",
            "|   Emilia|    25|            Contabil|      1|  false|                NULL|\n",
            "|  Eugenia|    24|         Programator|      1|  false|                NULL|\n",
            "|  Felicia|    34|      Specialist  HR|      8|  false|          [WII, PS5]|\n",
            "|  Florina|    28|               Șofer|      3|  false|                [EV]|\n",
            "|   Vasile|    40|     Manager proiect|     15|  false|                [AC]|\n",
            "|   Victor|    42|            Arhitect|     18|  false|   [5G Router, XBOX]|\n",
            "|   Viorel|    50|           Farmacist|     32|  false|[PS5, 3D Printer,...|\n",
            "| Vladimir|    18|   Asistent  medical|      0|   true|                NULL|\n",
            "|    Voicu|    22|          Instalator|      0|  false|                NULL|\n",
            "|   Zamfir|    46|       Inginer civil|     24|  false|    [3D Printer, AC]|\n",
            "|Alexandra|    29|Operator call center|      4|  false|                [PC]|\n",
            "|      Ana|    45|     Asistent social|     22|  false|[3D Printer, 5G R...|\n",
            "|    Alina|    44|    Asistent  social|     21|  false|           [PS5, AC]|\n",
            "|    Adela|    40|    Manager  proiect|     15|  false|    [3D Printer, PC]|\n",
            "+---------+------+--------------------+-------+-------+--------------------+\n",
            "only showing top 20 rows\n",
            "\n"
          ]
        }
      ],
      "source": [
        "df_tasks.show()"
      ]
    },
    {
      "cell_type": "markdown",
      "metadata": {
        "id": "LVB5uD7GphF5"
      },
      "source": [
        "Adăugarea coloanei „varstă_la_contractare” egală cu diferența dintre vârsta persoanei și vechime\n",
        "\n",
        "Scoaterea coloanei „vechime”\n",
        "\n",
        "Adăugarea coloanei „text_descriptiv” care să fie un text ce descrie clientul și conține neapărat toate informațiile știute despre el, mai puțin despre starea contractului dacă este activ. (e.g. X, în vârstă de ... ani,\n",
        "este ...). Atenție la cazul special la coloana „extra” când numărul de elemente este 0. -  Se recomandă cel folosirea funcțiilor when și printf."
      ]
    },
    {
      "cell_type": "code",
      "execution_count": 23,
      "metadata": {
        "id": "PDpviShopgJK"
      },
      "outputs": [],
      "source": [
        "df_transformare = (\n",
        "    data_practice\n",
        "    .withColumn('varsta_la_contractare',col('varsta') - col('vechime'))\n",
        "    .drop(col('vechime'))\n",
        "  #  .withColumn('array_extra', array_join(col('extra'),', '))\n",
        "  #  .withColumn('extra cnt', size(col('extra') ) )\n",
        "    .withColumn('text_descriptiv',\n",
        "                trim(\n",
        "                    concat(\n",
        "                          col('nume'),\n",
        "                          lit(', in varsta de '),\n",
        "                          col('varsta'),\n",
        "                          lit(' ani, este '),\n",
        "                          col('ocupatie'),\n",
        "\n",
        "                          when(\n",
        "                              size(f.col('extra') ) > 0 ,\n",
        "                                concat(\n",
        "                                      lit(' cu extra activitati in : ') ,\n",
        "                                      array_join(col('extra'),', '))\n",
        "                          )\n",
        "                          .otherwise(lit(''))\n",
        "\n",
        "                      )                                                                              ))\n",
        ")"
      ]
    },
    {
      "cell_type": "code",
      "source": [
        "df_transformare.explain('extended')"
      ],
      "metadata": {
        "colab": {
          "base_uri": "https://localhost:8080/"
        },
        "id": "3Sjg6MblwML3",
        "outputId": "dba9042e-2b9f-4884-ba60-eeb11d45e552"
      },
      "execution_count": 59,
      "outputs": [
        {
          "output_type": "stream",
          "name": "stdout",
          "text": [
            "== Parsed Logical Plan ==\n",
            "'Project [nume#83, varsta#84, ocupatie#85, inactiv#87, extra#88, varsta_la_contractare#388, trim(concat('nume, , in varsta de , 'varsta,  ani, este , 'ocupatie, CASE WHEN (size('extra, true) > 0) THEN concat( cu extra activitati in : , array_join('extra, , , None)) ELSE  END), None) AS text_descriptiv#402]\n",
            "+- Project [nume#83, varsta#84, ocupatie#85, inactiv#87, extra#88, varsta_la_contractare#388]\n",
            "   +- Project [nume#83, varsta#84, ocupatie#85, vechime#86, inactiv#87, extra#88, (varsta#84 - vechime#86) AS varsta_la_contractare#388]\n",
            "      +- Relation [nume#83,varsta#84,ocupatie#85,vechime#86,inactiv#87,extra#88] parquet\n",
            "\n",
            "== Analyzed Logical Plan ==\n",
            "nume: string, varsta: int, ocupatie: string, inactiv: boolean, extra: array<string>, varsta_la_contractare: int, text_descriptiv: string\n",
            "Project [nume#83, varsta#84, ocupatie#85, inactiv#87, extra#88, varsta_la_contractare#388, trim(concat(nume#83, , in varsta de , cast(varsta#84 as string),  ani, este , ocupatie#85, CASE WHEN (size(extra#88, true) > 0) THEN concat( cu extra activitati in : , array_join(extra#88, , , None)) ELSE  END), None) AS text_descriptiv#402]\n",
            "+- Project [nume#83, varsta#84, ocupatie#85, inactiv#87, extra#88, varsta_la_contractare#388]\n",
            "   +- Project [nume#83, varsta#84, ocupatie#85, vechime#86, inactiv#87, extra#88, (varsta#84 - vechime#86) AS varsta_la_contractare#388]\n",
            "      +- Relation [nume#83,varsta#84,ocupatie#85,vechime#86,inactiv#87,extra#88] parquet\n",
            "\n",
            "== Optimized Logical Plan ==\n",
            "Project [nume#83, varsta#84, ocupatie#85, inactiv#87, extra#88, (varsta#84 - vechime#86) AS varsta_la_contractare#388, trim(concat(nume#83, , in varsta de , cast(varsta#84 as string),  ani, este , ocupatie#85, CASE WHEN (size(extra#88, true) > 0) THEN concat( cu extra activitati in : , array_join(extra#88, , , None)) ELSE  END), None) AS text_descriptiv#402]\n",
            "+- Relation [nume#83,varsta#84,ocupatie#85,vechime#86,inactiv#87,extra#88] parquet\n",
            "\n",
            "== Physical Plan ==\n",
            "*(1) Project [nume#83, varsta#84, ocupatie#85, inactiv#87, extra#88, (varsta#84 - vechime#86) AS varsta_la_contractare#388, trim(concat(nume#83, , in varsta de , cast(varsta#84 as string),  ani, este , ocupatie#85, CASE WHEN (size(extra#88, true) > 0) THEN concat( cu extra activitati in : , array_join(extra#88, , , None)) ELSE  END), None) AS text_descriptiv#402]\n",
            "+- *(1) ColumnarToRow\n",
            "   +- FileScan parquet [nume#83,varsta#84,ocupatie#85,vechime#86,inactiv#87,extra#88] Batched: true, DataFilters: [], Format: Parquet, Location: InMemoryFileIndex(1 paths)[file:/content/drive/MyDrive/Colab Notebooks/Data/Data/practice/parquet], PartitionFilters: [], PushedFilters: [], ReadSchema: struct<nume:string,varsta:int,ocupatie:string,vechime:int,inactiv:boolean,extra:array<string>>\n",
            "\n"
          ]
        }
      ]
    },
    {
      "cell_type": "code",
      "execution_count": 24,
      "metadata": {
        "colab": {
          "base_uri": "https://localhost:8080/"
        },
        "id": "QgbMWWuIqQbB",
        "outputId": "f954de78-37de-43c2-add5-e9f9f166bdc0"
      },
      "outputs": [
        {
          "output_type": "stream",
          "name": "stdout",
          "text": [
            "+------------+------+----------------------+-------+----------------------------+---------------------+---------------------------------------------------------------------------------------------------+\n",
            "|nume        |varsta|ocupatie              |inactiv|extra                       |varsta_la_contractare|text_descriptiv                                                                                    |\n",
            "+------------+------+----------------------+-------+----------------------------+---------------------+---------------------------------------------------------------------------------------------------+\n",
            "|Daria       |33    |Inginer  mecanic      |NULL   |[EV]                        |26                   |Daria, in varsta de 33 ani, este Inginer  mecanic  cu extra activitati in : EV                     |\n",
            "|  Delia     |20    |Medic primar          |true   |NULL                        |20                   |Delia  , in varsta de 20 ani, este Medic primar                                                    |\n",
            "|Diana       |45    |Asistent  social      |NULL   |[XBOX, 3D Printer, PV]      |22                   |Diana, in varsta de 45 ani, este Asistent  social  cu extra activitati in : XBOX, 3D Printer, PV   |\n",
            "|Doina       |37    |Specialist  marketing |NULL   |[WII, PS5]                  |26                   |Doina, in varsta de 37 ani, este Specialist  marketing  cu extra activitati in : WII, PS5          |\n",
            "| Elena      |25    |Contabil              |NULL   |NULL                        |24                   |Elena , in varsta de 25 ani, este Contabil                                                         |\n",
            "|  Eliza     |23    |Instalator            |NULL   |NULL                        |23                   |Eliza  , in varsta de 23 ani, este Instalator                                                      |\n",
            "| Emilia     |25    |Contabil              |NULL   |NULL                        |24                   |Emilia , in varsta de 25 ani, este Contabil                                                        |\n",
            "|  Eugenia   |24    |Programator           |NULL   |NULL                        |23                   |Eugenia  , in varsta de 24 ani, este Programator                                                   |\n",
            "|Felicia     |34    |Specialist  HR        |NULL   |[WII, PS5]                  |26                   |Felicia, in varsta de 34 ani, este Specialist  HR cu extra activitati in : WII, PS5                |\n",
            "| Florina    |28    |Șofer                 |NULL   |[EV]                        |25                   |Florina , in varsta de 28 ani, este Șofer cu extra activitati in : EV                              |\n",
            "|Vasile      |40    |Manager proiect       |NULL   |[AC, AC]                    |25                   |Vasile, in varsta de 40 ani, este Manager proiect cu extra activitati in : AC, AC                  |\n",
            "|Victor      |42    |Arhitect              |NULL   |[5G Router, XBOX]           |24                   |Victor, in varsta de 42 ani, este Arhitect cu extra activitati in : 5G Router, XBOX                |\n",
            "|Viorel      |50    | Farmacist            |false  |[PS5, 3D Printer, PC]       |18                   |Viorel, in varsta de 50 ani, este  Farmacist  cu extra activitati in : PS5, 3D Printer, PC         |\n",
            "|  Vladimir  |18    |Asistent  medical     |true   |NULL                        |18                   |Vladimir  , in varsta de 18 ani, este Asistent  medical                                            |\n",
            "|  Voicu     |22    |Instalator            |NULL   |NULL                        |22                   |Voicu  , in varsta de 22 ani, este Instalator                                                      |\n",
            "|Zamfir      |46    |Inginer civil         |NULL   |[3D Printer, 3D Printer, AC]|22                   |Zamfir, in varsta de 46 ani, este Inginer civil cu extra activitati in : 3D Printer, 3D Printer, AC|\n",
            "| Alexandra  |29    |Operator call center  |false  |[PC]                        |25                   |Alexandra , in varsta de 29 ani, este Operator call center cu extra activitati in : PC             |\n",
            "|Ana         |45    |Asistent social       |NULL   |[3D Printer, 5G Router, PV] |23                   |Ana, in varsta de 45 ani, este Asistent social cu extra activitati in : 3D Printer, 5G Router, PV  |\n",
            "|Alina       |44    |Asistent  social      |NULL   |[PS5, AC, PS5]              |23                   |Alina, in varsta de 44 ani, este Asistent  social cu extra activitati in : PS5, AC, PS5            |\n",
            "|Adela       |40    |Manager  proiect      |NULL   |[3D Printer, PC]            |25                   |Adela, in varsta de 40 ani, este Manager  proiect cu extra activitati in : 3D Printer, PC          |\n",
            "+------------+------+----------------------+-------+----------------------------+---------------------+---------------------------------------------------------------------------------------------------+\n",
            "only showing top 20 rows\n",
            "\n"
          ]
        }
      ],
      "source": [
        "df_transformare.show(truncate=False)"
      ]
    },
    {
      "cell_type": "markdown",
      "metadata": {
        "id": "W1Jm8MgTztHH"
      },
      "source": [
        "### Afișarea clienților inactivi / Afișarea contractelor inactive"
      ]
    },
    {
      "cell_type": "code",
      "execution_count": 25,
      "metadata": {
        "colab": {
          "base_uri": "https://localhost:8080/"
        },
        "id": "uNgcUFcbzt1Z",
        "outputId": "4f195d58-4b96-40a0-e8cc-9d4879985fb8"
      },
      "outputs": [
        {
          "output_type": "stream",
          "name": "stdout",
          "text": [
            "+--------+------+-----------------+-------+-------+-----+\n",
            "|    nume|varsta|         ocupatie|vechime|inactiv|extra|\n",
            "+--------+------+-----------------+-------+-------+-----+\n",
            "|   Delia|    20|     Medic primar|      0|   true| NULL|\n",
            "|Vladimir|    18|Asistent  medical|      0|   true| NULL|\n",
            "|   Rares|    19|         Profesor|      0|   true| NULL|\n",
            "|  Razvan|    20|         Profesor|      0|   true| NULL|\n",
            "|  Teodor|    18| Asistent medical|      0|   true| NULL|\n",
            "|    Gina|    18|Asistent  medical|      0|   true| NULL|\n",
            "| Catalin|    20|     Medic primar|      0|   true| NULL|\n",
            "|  Florin|    20|    Medic  primar|      0|   true| NULL|\n",
            "| Liliana|    19|         Profesor|      0|   true| NULL|\n",
            "|    Paul|    19|         Profesor|      0|   true| NULL|\n",
            "|     Bea|    29|                 |      7|   true| NULL|\n",
            "+--------+------+-----------------+-------+-------+-----+\n",
            "\n"
          ]
        }
      ],
      "source": [
        "df_inactive_contracts = df_tasks.filter('inactiv is True')\n",
        "df_inactive_contracts.show(20)\n",
        "#df_inactive_contracts.count()"
      ]
    },
    {
      "cell_type": "markdown",
      "metadata": {
        "id": "hz4-7TsHX2OH"
      },
      "source": [
        "\n",
        "### Afișarea clienților cu minim și maxim de vechime / Afișarea contractelor care au minim 2 ani de vechime și maxim 5 ani vechime, inclusiv."
      ]
    },
    {
      "cell_type": "code",
      "execution_count": 27,
      "metadata": {
        "colab": {
          "base_uri": "https://localhost:8080/"
        },
        "id": "w3yYUwFGZC0M",
        "outputId": "bf0248d8-61a6-4978-d8fa-7c8972708a06"
      },
      "outputs": [
        {
          "output_type": "stream",
          "name": "stdout",
          "text": [
            "+---------+------+--------------------+-------+-------+------------------+\n",
            "|     nume|varsta|            ocupatie|vechime|inactiv|             extra|\n",
            "+---------+------+--------------------+-------+-------+------------------+\n",
            "|  Florina|    28|               Șofer|      3|  false|              [EV]|\n",
            "|Alexandra|    29|Operator call center|      4|  false|              [PC]|\n",
            "|    Remus|    28|               Șofer|      3|  false|            [XBOX]|\n",
            "|    Sorin|    30|Operator  call ce...|      4|  false|             [PS5]|\n",
            "| Georgeta|    28|              Zugrav|      3|  false|            [XBOX]|\n",
            "|     Alin|    26|    Vânzător  retail|      2|  false|            [XBOX]|\n",
            "|     Ilie|    26|     Vânzător retail|      2|  false|              [PC]|\n",
            "|      Ion|    27|     Vânzător retail|      2|  false|            [XBOX]|\n",
            "|    Iosif|    26|    Vânzător  retail|      2|  false|              NULL|\n",
            "|     Anca|    30|Operator call center|      4|  false|              [PC]|\n",
            "|  Camelia|    30|Operator call center|      4|  false|              [PV]|\n",
            "|     Dinu|    26|     Vânzător retail|      2|  false|      [3D Printer]|\n",
            "|     Emil|    29|               Șofer|      4|  false|            [XBOX]|\n",
            "|  Mariana|    31|  Analist  financiar|      5|  false|       [5G Router]|\n",
            "|   Monica|    27|              Zugrav|      2|  false|            [XBOX]|\n",
            "|  Nicolae|    28|              Zugrav|      3|  false|      [3D Printer]|\n",
            "|     Radu|    27|              Zugrav|      2|  false|            [XBOX]|\n",
            "|     Vali|    23|                    |      4|  false|[3D Printer, XBOX]|\n",
            "+---------+------+--------------------+-------+-------+------------------+\n",
            "\n"
          ]
        }
      ],
      "source": [
        "df_vechime_2y_to_5y = (\n",
        "    df_tasks\n",
        "    .filter(col('vechime') >= 2)\n",
        "    .filter(col('vechime') <= 5)\n",
        ")\n",
        "df_vechime_2y_to_5y.show(20)"
      ]
    },
    {
      "cell_type": "markdown",
      "metadata": {
        "id": "E_1rqnUIX2rT"
      },
      "source": [
        "### Afișarea celor mai în vârstă persoane cu orice fel de contract  / Afișarea top 10 contracte sortate după vârsta lor descrescător"
      ]
    },
    {
      "cell_type": "code",
      "execution_count": 29,
      "metadata": {
        "colab": {
          "base_uri": "https://localhost:8080/"
        },
        "id": "UnNQmLyLcC7I",
        "outputId": "40d43136-f006-4252-db06-83f47f2a140a"
      },
      "outputs": [
        {
          "output_type": "stream",
          "name": "stdout",
          "text": [
            "+--------+------+----------------+-------+-------+--------------------+\n",
            "|    nume|varsta|        ocupatie|vechime|inactiv|               extra|\n",
            "+--------+------+----------------+-------+-------+--------------------+\n",
            "|  Bogdan|    50|       Farmacist|     32|  false|[PC, 3D Printer, AC]|\n",
            "|  Viorel|    50|       Farmacist|     32|  false|[PS5, 3D Printer,...|\n",
            "|  Carmen|    50|       Farmacist|     32|  false|    [3D Printer, AC]|\n",
            "| Mihaela|    49|Designer  grafic|     30|  false|       [WII, AC, PV]|\n",
            "|  Lucian|    49| Designer grafic|     30|  false|      [PV, XBOX, AC]|\n",
            "|  Cosmin|    49|       Farmacist|     31|  false|      [AC, XBOX, PV]|\n",
            "|  Ștefan|    47| Agent imobiliar|     26|  false|    [XBOX, PS5, WII]|\n",
            "|  Zamfir|    46|   Inginer civil|     24|  false|    [3D Printer, AC]|\n",
            "|  George|    46| Agent imobiliar|     25|  false|[3D Printer, AC, ...|\n",
            "|Cristina|    46| Agent imobiliar|     25|  false|[PS5, XBOX, 3D Pr...|\n",
            "+--------+------+----------------+-------+-------+--------------------+\n",
            "\n"
          ]
        }
      ],
      "source": [
        "df_invarsta = (\n",
        "    df_tasks\n",
        "    .sort(desc_nulls_last(col('varsta')))\n",
        "    .limit(10)\n",
        "    )\n",
        "\n",
        "df_invarsta.show()"
      ]
    },
    {
      "cell_type": "markdown",
      "metadata": {
        "id": "rkNBS9smX2-F"
      },
      "source": [
        "### Afișarea celor mai în vârstă oameni la contractare / Afișarea top 5 contracte active sortate după vârsta la contractare descrescător"
      ]
    },
    {
      "cell_type": "code",
      "execution_count": 32,
      "metadata": {
        "colab": {
          "base_uri": "https://localhost:8080/"
        },
        "id": "gkqAS01yX0zX",
        "outputId": "a2474176-486b-458d-95e1-7958ba707806"
      },
      "outputs": [
        {
          "output_type": "stream",
          "name": "stdout",
          "text": [
            "+---------+------+------------------+-------+-------+-----------+---------------------+\n",
            "|     nume|varsta|          ocupatie|vechime|inactiv|      extra|varsta la contractare|\n",
            "+---------+------+------------------+-------+-------+-----------+---------------------+\n",
            "|    Maria|    34|     Specialist HR|      8|  false|   [EV, PC]|                   26|\n",
            "|  Tiberiu|    32|Analist  financiar|      6|  false|      [PS5]|                   26|\n",
            "|  Mariana|    31|Analist  financiar|      5|  false|[5G Router]|                   26|\n",
            "|      Ana|    35|Muncitor alimentar|      9|  false|   [EV, AC]|                   26|\n",
            "|Magdalena|    37|       Electrician|     11|  false|  [PS5, PV]|                   26|\n",
            "+---------+------+------------------+-------+-------+-----------+---------------------+\n",
            "\n"
          ]
        }
      ],
      "source": [
        "df_4 = (\n",
        "    df_tasks\n",
        "    .withColumn('varsta la contractare',(col('varsta') - col('vechime')))\n",
        ")\n",
        "df_4.sort(desc('varsta la contractare')).limit(5).show()"
      ]
    },
    {
      "cell_type": "markdown",
      "metadata": {
        "id": "sc2Ebe9LeucT"
      },
      "source": [
        "Reutilizarea Operațiilor\n",
        "\n",
        " Împărțiți setul de date în patru segmente, folosindu-vă de coloana \"inactiv\" și criteriul vârstei.\n",
        "\n",
        " Creați un segment pentru cei cu vârsta de până la 30 de ani inclusiv și un altul pentru cei peste 30 de ani, aplicând\n",
        "această divizare atât pentru înregistrările active, cât și pentru cele inactive.\n",
        "\n",
        " Scrieți fiecare set de date într-o locație diferită.\n",
        "\n",
        " Înainte de scrierea fiecărui segment, afișați datele (nu uitați să cache-uiți setul de date și înainte de\n",
        "afișare, nu numai înainte de împărțire)"
      ]
    },
    {
      "cell_type": "code",
      "execution_count": 33,
      "metadata": {
        "id": "hzILWuPKe1Ze"
      },
      "outputs": [],
      "source": [
        "\n",
        "cached_data_df = df_tasks.select('varsta', 'inactiv').cache()\n",
        "\n",
        "df_active_young = (\n",
        "    cached_data_df\n",
        "    .filter(col('varsta') <=  lit(30) )\n",
        "     .filter('inactiv is false')\n",
        "    .cache()\n",
        ")\n",
        "\n",
        "\n",
        "df_inactive_young = (\n",
        "    cached_data_df\n",
        "    .filter(col('varsta') <=  lit(30) )\n",
        "    .filter('inactiv is True')\n",
        "    .cache()\n",
        ")\n",
        "\n",
        "df_active_old = (\n",
        "    cached_data_df\n",
        "    .filter(col('varsta') >  lit(30) )\n",
        "    .filter('inactiv is False')\n",
        "    .cache()\n",
        ")\n",
        "\n",
        "df_inactive_old = (\n",
        "    cached_data_df\n",
        "    .filter(col('varsta') >  lit(30) )\n",
        "    .filter('inactiv is True')\n",
        "    .cache()\n",
        ")\n",
        "\n",
        "\n"
      ]
    },
    {
      "cell_type": "code",
      "execution_count": 35,
      "metadata": {
        "colab": {
          "base_uri": "https://localhost:8080/"
        },
        "id": "OTvNuOm2hRMe",
        "outputId": "9e38524f-ffaa-4775-c143-c256f17250e9"
      },
      "outputs": [
        {
          "output_type": "stream",
          "name": "stdout",
          "text": [
            "+------+-------+\n",
            "|varsta|inactiv|\n",
            "+------+-------+\n",
            "|    25|  false|\n",
            "|    23|  false|\n",
            "|    25|  false|\n",
            "|    24|  false|\n",
            "|    28|  false|\n",
            "|    22|  false|\n",
            "|    29|  false|\n",
            "|    23|  false|\n",
            "|    28|  false|\n",
            "|    22|  false|\n",
            "+------+-------+\n",
            "only showing top 10 rows\n",
            "\n"
          ]
        }
      ],
      "source": [
        "df_active_young.show(10)"
      ]
    },
    {
      "cell_type": "code",
      "execution_count": 36,
      "metadata": {
        "colab": {
          "base_uri": "https://localhost:8080/"
        },
        "id": "ziUyy3-eiBK6",
        "outputId": "cae43c31-b740-4090-887a-8fa80fd5c47f"
      },
      "outputs": [
        {
          "output_type": "stream",
          "name": "stdout",
          "text": [
            "+------+-------+\n",
            "|varsta|inactiv|\n",
            "+------+-------+\n",
            "|    20|   true|\n",
            "|    18|   true|\n",
            "|    19|   true|\n",
            "|    20|   true|\n",
            "|    18|   true|\n",
            "|    18|   true|\n",
            "|    20|   true|\n",
            "|    20|   true|\n",
            "|    19|   true|\n",
            "|    19|   true|\n",
            "+------+-------+\n",
            "only showing top 10 rows\n",
            "\n"
          ]
        }
      ],
      "source": [
        "df_inactive_young.show(10)"
      ]
    },
    {
      "cell_type": "code",
      "execution_count": 37,
      "metadata": {
        "colab": {
          "base_uri": "https://localhost:8080/"
        },
        "id": "DYbQRh9TiEJ-",
        "outputId": "31c224ea-f5c5-4d43-91a6-8fd53d84231b"
      },
      "outputs": [
        {
          "output_type": "stream",
          "name": "stdout",
          "text": [
            "+------+-------+\n",
            "|varsta|inactiv|\n",
            "+------+-------+\n",
            "|    33|  false|\n",
            "|    45|  false|\n",
            "|    37|  false|\n",
            "|    34|  false|\n",
            "|    40|  false|\n",
            "|    42|  false|\n",
            "|    50|  false|\n",
            "|    46|  false|\n",
            "|    45|  false|\n",
            "|    44|  false|\n",
            "+------+-------+\n",
            "only showing top 10 rows\n",
            "\n"
          ]
        }
      ],
      "source": [
        "df_active_old.show(10)"
      ]
    },
    {
      "cell_type": "code",
      "execution_count": 38,
      "metadata": {
        "colab": {
          "base_uri": "https://localhost:8080/"
        },
        "id": "druIeLQpiHgE",
        "outputId": "2d397451-b717-4981-a302-d1fb9f5731f4"
      },
      "outputs": [
        {
          "output_type": "stream",
          "name": "stdout",
          "text": [
            "+------+-------+\n",
            "|varsta|inactiv|\n",
            "+------+-------+\n",
            "+------+-------+\n",
            "\n"
          ]
        }
      ],
      "source": [
        "df_inactive_old.show()"
      ]
    },
    {
      "cell_type": "code",
      "execution_count": 47,
      "metadata": {
        "id": "1CDER5f2iPJV"
      },
      "outputs": [],
      "source": [
        "\n",
        "data_format   = 'parquet'\n",
        "output_folder = '/content/drive/MyDrive/Colab Notebooks/Data/Data/output/parquet/'\n",
        "df_active_young.write.format(data_format).save(output_folder + '1') # datele df_active_young se vor salva in folderul 1\n",
        "df_inactive_young.write.format(data_format).save(output_folder + '2') # datele df_inactive_young se vor salva in folderul 2\n",
        "df_active_old.write.format(data_format).save(output_folder + '3')\n",
        "df_inactive_old.write.format(data_format).save(output_folder + '4')\n"
      ]
    },
    {
      "cell_type": "code",
      "execution_count": 48,
      "metadata": {
        "id": "tqFhLdhgVohH"
      },
      "outputs": [],
      "source": [
        "data_without_personal_columns_df = data_practice.drop('varsta', 'extra')"
      ]
    },
    {
      "cell_type": "code",
      "execution_count": 49,
      "metadata": {
        "colab": {
          "base_uri": "https://localhost:8080/"
        },
        "id": "Y3lE8JtXWLFJ",
        "outputId": "37041fed-ad86-4308-eb3f-69841e0d8ec8"
      },
      "outputs": [
        {
          "output_type": "stream",
          "name": "stdout",
          "text": [
            "+------------+--------------------+-------+-------+\n",
            "|        nume|            ocupatie|vechime|inactiv|\n",
            "+------------+--------------------+-------+-------+\n",
            "|       Daria|   Inginer  mecanic |      7|   NULL|\n",
            "|     Delia  |        Medic primar|      0|   true|\n",
            "|       Diana|   Asistent  social |     23|   NULL|\n",
            "|       Doina|Specialist  marke...|     11|   NULL|\n",
            "|      Elena |            Contabil|      1|   NULL|\n",
            "|     Eliza  |          Instalator|      0|   NULL|\n",
            "|     Emilia |            Contabil|      1|   NULL|\n",
            "|   Eugenia  |        Programator |      1|   NULL|\n",
            "|     Felicia|      Specialist  HR|      8|   NULL|\n",
            "|    Florina |               Șofer|      3|   NULL|\n",
            "|      Vasile|     Manager proiect|     15|   NULL|\n",
            "|      Victor|            Arhitect|     18|   NULL|\n",
            "|      Viorel|          Farmacist |     32|  false|\n",
            "|  Vladimir  |   Asistent  medical|      0|   true|\n",
            "|     Voicu  |          Instalator|      0|   NULL|\n",
            "|      Zamfir|       Inginer civil|     24|   NULL|\n",
            "|  Alexandra |Operator call center|      4|  false|\n",
            "|         Ana|     Asistent social|     22|   NULL|\n",
            "|       Alina|    Asistent  social|     21|   NULL|\n",
            "|       Adela|    Manager  proiect|     15|   NULL|\n",
            "+------------+--------------------+-------+-------+\n",
            "only showing top 20 rows\n",
            "\n"
          ]
        }
      ],
      "source": [
        "data_without_personal_columns_df.show(10)"
      ]
    },
    {
      "cell_type": "code",
      "execution_count": 50,
      "metadata": {
        "id": "QzeXLYEVWTNj"
      },
      "outputs": [],
      "source": [
        "df_rename = data_without_personal_columns_df.withColumnRenamed('ocupatie','job')"
      ]
    },
    {
      "cell_type": "code",
      "execution_count": 51,
      "metadata": {
        "colab": {
          "base_uri": "https://localhost:8080/"
        },
        "id": "HsRu6WifWscf",
        "outputId": "465a5452-631f-4844-e6a5-8eb9207282d6"
      },
      "outputs": [
        {
          "output_type": "stream",
          "name": "stdout",
          "text": [
            "+------------+--------------------+-------+-------+\n",
            "|        nume|                 job|vechime|inactiv|\n",
            "+------------+--------------------+-------+-------+\n",
            "|       Daria|   Inginer  mecanic |      7|   NULL|\n",
            "|     Delia  |        Medic primar|      0|   true|\n",
            "|       Diana|   Asistent  social |     23|   NULL|\n",
            "|       Doina|Specialist  marke...|     11|   NULL|\n",
            "|      Elena |            Contabil|      1|   NULL|\n",
            "|     Eliza  |          Instalator|      0|   NULL|\n",
            "|     Emilia |            Contabil|      1|   NULL|\n",
            "|   Eugenia  |        Programator |      1|   NULL|\n",
            "|     Felicia|      Specialist  HR|      8|   NULL|\n",
            "|    Florina |               Șofer|      3|   NULL|\n",
            "|      Vasile|     Manager proiect|     15|   NULL|\n",
            "|      Victor|            Arhitect|     18|   NULL|\n",
            "|      Viorel|          Farmacist |     32|  false|\n",
            "|  Vladimir  |   Asistent  medical|      0|   true|\n",
            "|     Voicu  |          Instalator|      0|   NULL|\n",
            "|      Zamfir|       Inginer civil|     24|   NULL|\n",
            "|  Alexandra |Operator call center|      4|  false|\n",
            "|         Ana|     Asistent social|     22|   NULL|\n",
            "|       Alina|    Asistent  social|     21|   NULL|\n",
            "|       Adela|    Manager  proiect|     15|   NULL|\n",
            "+------------+--------------------+-------+-------+\n",
            "only showing top 20 rows\n",
            "\n"
          ]
        }
      ],
      "source": [
        "df_rename.show(10)"
      ]
    },
    {
      "cell_type": "code",
      "execution_count": 52,
      "metadata": {
        "colab": {
          "base_uri": "https://localhost:8080/"
        },
        "id": "5p3I39tZXJmz",
        "outputId": "0e1a4aaf-a2e2-4b02-cf8a-3eff762f7aba"
      },
      "outputs": [
        {
          "output_type": "stream",
          "name": "stdout",
          "text": [
            "== Parsed Logical Plan ==\n",
            "Project [nume#83, ocupatie#85 AS job#1252, vechime#86, inactiv#87]\n",
            "+- Project [nume#83, ocupatie#85, vechime#86, inactiv#87]\n",
            "   +- Relation [nume#83,varsta#84,ocupatie#85,vechime#86,inactiv#87,extra#88] parquet\n",
            "\n",
            "== Analyzed Logical Plan ==\n",
            "nume: string, job: string, vechime: int, inactiv: boolean\n",
            "Project [nume#83, ocupatie#85 AS job#1252, vechime#86, inactiv#87]\n",
            "+- Project [nume#83, ocupatie#85, vechime#86, inactiv#87]\n",
            "   +- Relation [nume#83,varsta#84,ocupatie#85,vechime#86,inactiv#87,extra#88] parquet\n",
            "\n",
            "== Optimized Logical Plan ==\n",
            "Project [nume#83, ocupatie#85 AS job#1252, vechime#86, inactiv#87]\n",
            "+- Relation [nume#83,varsta#84,ocupatie#85,vechime#86,inactiv#87,extra#88] parquet\n",
            "\n",
            "== Physical Plan ==\n",
            "*(1) Project [nume#83, ocupatie#85 AS job#1252, vechime#86, inactiv#87]\n",
            "+- *(1) ColumnarToRow\n",
            "   +- FileScan parquet [nume#83,ocupatie#85,vechime#86,inactiv#87] Batched: true, DataFilters: [], Format: Parquet, Location: InMemoryFileIndex(1 paths)[file:/content/drive/MyDrive/Colab Notebooks/Data/Data/practice/parquet], PartitionFilters: [], PushedFilters: [], ReadSchema: struct<nume:string,ocupatie:string,vechime:int,inactiv:boolean>\n",
            "\n"
          ]
        }
      ],
      "source": [
        "df_rename.explain('extended')"
      ]
    },
    {
      "cell_type": "code",
      "execution_count": null,
      "metadata": {
        "id": "VDpCae4CeAUQ"
      },
      "outputs": [],
      "source": []
    }
  ],
  "metadata": {
    "colab": {
      "provenance": []
    },
    "kernelspec": {
      "display_name": "Python 3",
      "name": "python3"
    },
    "language_info": {
      "codemirror_mode": {
        "name": "ipython",
        "version": 3
      },
      "file_extension": ".py",
      "mimetype": "text/x-python",
      "name": "python",
      "nbconvert_exporter": "python",
      "pygments_lexer": "ipython3",
      "version": "3.9.21"
    }
  },
  "nbformat": 4,
  "nbformat_minor": 0
}