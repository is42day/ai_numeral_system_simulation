{
  "cells": [
    {
      "cell_type": "code",
      "execution_count": null,
      "metadata": {
        "colab": {
          "base_uri": "https://localhost:8080/"
        },
        "id": "hrgsehW2Mg-E",
        "outputId": "d9299e17-72ac-4b39-dd36-e96ce26aa5a9"
      },
      "outputs": [],
      "source": [
        "\"\"\"\n",
        "Pregătire mediu de lucru\n",
        "Stabilirea conexiunii dintre Google drive si Colab notebook\n",
        "\"\"\"\n",
        "from google.colab import drive\n",
        "drive.mount('/content/drive')\n"
      ]
    },
    {
      "cell_type": "code",
      "execution_count": null,
      "metadata": {
        "colab": {
          "base_uri": "https://localhost:8080/",
          "height": 777
        },
        "collapsed": true,
        "id": "NlPQG_VVOEAV",
        "outputId": "a8902351-b1b0-435e-b1ef-9cad9656b39b"
      },
      "outputs": [],
      "source": [
        "# Instalarea PySpark\n",
        "\n",
        "!sudo apt update\n",
        "!apt-get install openjdk-8-jdk-headless -qq > /dev/null\n",
        "#Check this site for the latest download link https://dlcdn.apache.org/spark/\n",
        "!wget -q https://dlcdn.apache.org/spark/spark-3.4.4/spark-3.4.4-bin-hadoop3.tgz\n",
        "!tar xf spark-3.4.4-bin-hadoop3.tgz\n",
        "!pip install -q findspark\n",
        "!pip install pyspark\n",
        "!pip install py4j\n",
        "\n",
        "import os\n",
        "import sys\n",
        "# os.environ[\"JAVA_HOME\"] = \"/usr/lib/jvm/java-8-openjdk-amd64\"\n",
        "# os.environ[\"SPARK_HOME\"] = \"/content/spark-3.4.4-bin-hadoop3\"\n",
        "\n",
        "import findspark\n",
        "findspark.init()\n",
        "findspark.find()\n",
        "import pyspark\n",
        "\n",
        "from pyspark.sql import DataFrame, SparkSession\n",
        "from typing import List\n",
        "import pyspark.sql.types as T\n",
        "import pyspark.sql.functions as F\n",
        "\n",
        "spark= SparkSession \\\n",
        "  .builder \\\n",
        "  .getOrCreate()\n",
        "\n",
        "spark"
      ]
    },
    {
      "cell_type": "code",
      "execution_count": null,
      "metadata": {
        "colab": {
          "base_uri": "https://localhost:8080/"
        },
        "id": "3wUauomaPTYE",
        "outputId": "de27bf66-7904-4ab9-bcbc-f63310bb8737"
      },
      "outputs": [],
      "source": [
        "data_type ='json'\n",
        "path      = '/content/drive/MyDrive/Colab Notebooks/Data/Data/practice/'+ data_type\n",
        "data_df   = spark.read.format(data_type).load(path)\n",
        "data_df.show(10, truncate = False)"
      ]
    },
    {
      "cell_type": "code",
      "execution_count": null,
      "metadata": {
        "colab": {
          "base_uri": "https://localhost:8080/"
        },
        "id": "UoEE3SjpP9oL",
        "outputId": "0d8abab9-a4c1-4cfa-fec2-ac2f11f0dcef"
      },
      "outputs": [],
      "source": [
        "data_df.printSchema()"
      ]
    },
    {
      "cell_type": "code",
      "execution_count": null,
      "metadata": {
        "colab": {
          "base_uri": "https://localhost:8080/"
        },
        "id": "HX_Ygbj_QETD",
        "outputId": "6ce037d6-00b6-4acd-8850-47c752970769"
      },
      "outputs": [],
      "source": [
        "data_df.show()"
      ]
    },
    {
      "cell_type": "code",
      "execution_count": null,
      "metadata": {
        "colab": {
          "base_uri": "https://localhost:8080/"
        },
        "id": "wIEijGiuRcXC",
        "outputId": "03683977-350f-4323-df61-b38bf793ca59"
      },
      "outputs": [],
      "source": [
        "data_type     = 'parquet'\n",
        "path          = '/content/drive/MyDrive/Colab Notebooks/Data/Data/practice/'+ data_type\n",
        "data_practice = spark.read.format(data_type).load(path)\n",
        "data_practice.show()"
      ]
    },
    {
      "cell_type": "code",
      "execution_count": null,
      "metadata": {
        "id": "r2taq2uUpnoi"
      },
      "outputs": [],
      "source": [
        "from pyspark.sql import functions as f"
      ]
    },
    {
      "cell_type": "code",
      "execution_count": null,
      "metadata": {
        "colab": {
          "base_uri": "https://localhost:8080/"
        },
        "id": "76C4FTmIRm2f",
        "outputId": "8552151c-a12b-4385-ea07-80d072c85cd0"
      },
      "outputs": [],
      "source": [
        "data_practice.count()"
      ]
    },
    {
      "cell_type": "code",
      "execution_count": null,
      "metadata": {
        "colab": {
          "base_uri": "https://localhost:8080/"
        },
        "id": "5i3t5BjaRzuR",
        "outputId": "801bb5a9-4f03-4432-859a-335baa20e461"
      },
      "outputs": [],
      "source": [
        "data_practice.show(truncate=False)"
      ]
    },
    {
      "cell_type": "markdown",
      "metadata": {
        "id": "T4Of_wv9kvv7"
      },
      "source": [
        "Curățarea coloanei „nume” de spații suplimentare - Se recomandă folosirea funcției trim sau replace.\n",
        "\n",
        "Curățarea coloanei „ocupatie” de sparții suplimentare -  Se recomandă folosirea funcției trim sau replace.\n",
        "\n",
        "Eliminarea diacriticelor din coloana „nume” -\n",
        "\n",
        "Scoaterea valorilor duplicate din coloana „extra”\n",
        "\n",
        "Setarea coloanei „inactiv” pe false atunci când valoarea lipsește. - Se recomandă folosirea funcției coalesce.\n"
      ]
    },
    {
      "cell_type": "code",
      "execution_count": null,
      "metadata": {
        "id": "TshVr0Zhkh04"
      },
      "outputs": [],
      "source": [
        "from pyspark.sql.functions import col, lit, trim, coalesce, translate, array_distinct, concat, when, size, array_join, desc_nulls_last, desc"
      ]
    },
    {
      "cell_type": "markdown",
      "metadata": {
        "id": "5s7KkviqiQI6"
      },
      "source": []
    },
    {
      "cell_type": "code",
      "execution_count": null,
      "metadata": {
        "id": "u2MqL2RvkAvk"
      },
      "outputs": [],
      "source": [
        "df_tasks = (\n",
        "    data_practice\n",
        "    .withColumn('nume', trim(col('nume'))   )\n",
        "    .withColumn('ocupatie',trim(col('ocupatie')))\n",
        "    .withColumn('inactiv',coalesce(col('inactiv'),f.lit(False) ) )\n",
        "    .withColumn('nume',translate(col('nume'),'șțăîâ','staia' ))\n",
        "    .withColumn('extra',array_distinct(col('extra')))\n",
        ")"
      ]
    },
    {
      "cell_type": "code",
      "execution_count": null,
      "metadata": {
        "colab": {
          "base_uri": "https://localhost:8080/"
        },
        "id": "NtSkSx8FkQdw",
        "outputId": "2de83b92-7cd2-4d03-806f-b9ad79036e34"
      },
      "outputs": [],
      "source": [
        "df_tasks.show()"
      ]
    },
    {
      "cell_type": "markdown",
      "metadata": {
        "id": "LVB5uD7GphF5"
      },
      "source": [
        "Adăugarea coloanei „varstă_la_contractare” egală cu diferența dintre vârsta persoanei și vechime\n",
        "\n",
        "Scoaterea coloanei „vechime”\n",
        "\n",
        "Adăugarea coloanei „text_descriptiv” care să fie un text ce descrie clientul și conține neapărat toate informațiile știute despre el, mai puțin despre starea contractului dacă este activ. (e.g. X, în vârstă de ... ani,\n",
        "este ...). Atenție la cazul special la coloana „extra” când numărul de elemente este 0. -  Se recomandă cel folosirea funcțiilor when și printf."
      ]
    },
    {
      "cell_type": "code",
      "execution_count": null,
      "metadata": {
        "id": "PDpviShopgJK"
      },
      "outputs": [],
      "source": [
        "df_transformare = (\n",
        "    data_practice\n",
        "    .withColumn('varsta_la_contractare',col('varsta') - col('vechime'))\n",
        "    .drop(col('vechime'))\n",
        "  #  .withColumn('array_extra', array_join(col('extra'),', '))\n",
        "  #  .withColumn('extra cnt', size(col('extra') ) )\n",
        "    .withColumn('text_descriptiv',\n",
        "                trim(\n",
        "                    concat(\n",
        "                          col('nume'),\n",
        "                          lit(', in varsta de '),\n",
        "                          col('varsta'),\n",
        "                          lit(' ani, este '),\n",
        "                          col('ocupatie'),\n",
        "\n",
        "                          when(\n",
        "                              size(f.col('extra') ) > 0 ,\n",
        "                                concat(\n",
        "                                      lit(' cu extra activitati in : ') ,\n",
        "                                      array_join(col('extra'),', '))\n",
        "                          )\n",
        "                          .otherwise(lit(''))\n",
        "\n",
        "                      )                                                                              ))\n",
        ")"
      ]
    },
    {
      "cell_type": "code",
      "execution_count": null,
      "metadata": {
        "colab": {
          "base_uri": "https://localhost:8080/"
        },
        "id": "3Sjg6MblwML3",
        "outputId": "dba9042e-2b9f-4884-ba60-eeb11d45e552"
      },
      "outputs": [],
      "source": [
        "df_transformare.explain('extended')"
      ]
    },
    {
      "cell_type": "code",
      "execution_count": null,
      "metadata": {
        "colab": {
          "base_uri": "https://localhost:8080/"
        },
        "id": "QgbMWWuIqQbB",
        "outputId": "f954de78-37de-43c2-add5-e9f9f166bdc0"
      },
      "outputs": [],
      "source": [
        "df_transformare.show(truncate=False)"
      ]
    },
    {
      "cell_type": "markdown",
      "metadata": {
        "id": "W1Jm8MgTztHH"
      },
      "source": [
        "### Afișarea clienților inactivi / Afișarea contractelor inactive"
      ]
    },
    {
      "cell_type": "code",
      "execution_count": null,
      "metadata": {
        "colab": {
          "base_uri": "https://localhost:8080/"
        },
        "id": "uNgcUFcbzt1Z",
        "outputId": "4f195d58-4b96-40a0-e8cc-9d4879985fb8"
      },
      "outputs": [],
      "source": [
        "df_inactive_contracts = df_tasks.filter('inactiv is True')\n",
        "df_inactive_contracts.show(20)\n",
        "#df_inactive_contracts.count()"
      ]
    },
    {
      "cell_type": "markdown",
      "metadata": {
        "id": "hz4-7TsHX2OH"
      },
      "source": [
        "\n",
        "### Afișarea clienților cu minim și maxim de vechime / Afișarea contractelor care au minim 2 ani de vechime și maxim 5 ani vechime, inclusiv."
      ]
    },
    {
      "cell_type": "code",
      "execution_count": null,
      "metadata": {
        "colab": {
          "base_uri": "https://localhost:8080/"
        },
        "id": "w3yYUwFGZC0M",
        "outputId": "bf0248d8-61a6-4978-d8fa-7c8972708a06"
      },
      "outputs": [],
      "source": [
        "df_vechime_2y_to_5y = (\n",
        "    df_tasks\n",
        "    .filter(col('vechime') >= 2)\n",
        "    .filter(col('vechime') <= 5)\n",
        ")\n",
        "df_vechime_2y_to_5y.show(20)"
      ]
    },
    {
      "cell_type": "markdown",
      "metadata": {
        "id": "E_1rqnUIX2rT"
      },
      "source": [
        "### Afișarea celor mai în vârstă persoane cu orice fel de contract  / Afișarea top 10 contracte sortate după vârsta lor descrescător"
      ]
    },
    {
      "cell_type": "code",
      "execution_count": null,
      "metadata": {
        "colab": {
          "base_uri": "https://localhost:8080/"
        },
        "id": "UnNQmLyLcC7I",
        "outputId": "40d43136-f006-4252-db06-83f47f2a140a"
      },
      "outputs": [],
      "source": [
        "df_invarsta = (\n",
        "    df_tasks\n",
        "    .sort(desc_nulls_last(col('varsta')))\n",
        "    .limit(10)\n",
        "    )\n",
        "\n",
        "df_invarsta.show()"
      ]
    },
    {
      "cell_type": "markdown",
      "metadata": {
        "id": "rkNBS9smX2-F"
      },
      "source": [
        "### Afișarea celor mai în vârstă oameni la contractare / Afișarea top 5 contracte active sortate după vârsta la contractare descrescător"
      ]
    },
    {
      "cell_type": "code",
      "execution_count": null,
      "metadata": {
        "colab": {
          "base_uri": "https://localhost:8080/"
        },
        "id": "gkqAS01yX0zX",
        "outputId": "a2474176-486b-458d-95e1-7958ba707806"
      },
      "outputs": [],
      "source": [
        "df_4 = (\n",
        "    df_tasks\n",
        "    .withColumn('varsta la contractare',(col('varsta') - col('vechime')))\n",
        ")\n",
        "df_4.sort(desc('varsta la contractare')).limit(5).show()"
      ]
    },
    {
      "cell_type": "markdown",
      "metadata": {
        "id": "sc2Ebe9LeucT"
      },
      "source": [
        "Reutilizarea Operațiilor\n",
        "\n",
        " Împărțiți setul de date în patru segmente, folosindu-vă de coloana \"inactiv\" și criteriul vârstei.\n",
        "\n",
        " Creați un segment pentru cei cu vârsta de până la 30 de ani inclusiv și un altul pentru cei peste 30 de ani, aplicând\n",
        "această divizare atât pentru înregistrările active, cât și pentru cele inactive.\n",
        "\n",
        " Scrieți fiecare set de date într-o locație diferită.\n",
        "\n",
        " Înainte de scrierea fiecărui segment, afișați datele (nu uitați să cache-uiți setul de date și înainte de\n",
        "afișare, nu numai înainte de împărțire)"
      ]
    },
    {
      "cell_type": "code",
      "execution_count": null,
      "metadata": {
        "id": "hzILWuPKe1Ze"
      },
      "outputs": [],
      "source": [
        "\n",
        "cached_data_df = df_tasks.select('varsta', 'inactiv').cache()\n",
        "\n",
        "df_active_young = (\n",
        "    cached_data_df\n",
        "    .filter(col('varsta') <=  lit(30) )\n",
        "     .filter('inactiv is false')\n",
        "    .cache()\n",
        ")\n",
        "\n",
        "\n",
        "df_inactive_young = (\n",
        "    cached_data_df\n",
        "    .filter(col('varsta') <=  lit(30) )\n",
        "    .filter('inactiv is True')\n",
        "    .cache()\n",
        ")\n",
        "\n",
        "df_active_old = (\n",
        "    cached_data_df\n",
        "    .filter(col('varsta') >  lit(30) )\n",
        "    .filter('inactiv is False')\n",
        "    .cache()\n",
        ")\n",
        "\n",
        "df_inactive_old = (\n",
        "    cached_data_df\n",
        "    .filter(col('varsta') >  lit(30) )\n",
        "    .filter('inactiv is True')\n",
        "    .cache()\n",
        ")\n",
        "\n",
        "\n"
      ]
    },
    {
      "cell_type": "code",
      "execution_count": null,
      "metadata": {
        "colab": {
          "base_uri": "https://localhost:8080/"
        },
        "id": "OTvNuOm2hRMe",
        "outputId": "9e38524f-ffaa-4775-c143-c256f17250e9"
      },
      "outputs": [],
      "source": [
        "df_active_young.show(10)"
      ]
    },
    {
      "cell_type": "code",
      "execution_count": null,
      "metadata": {
        "colab": {
          "base_uri": "https://localhost:8080/"
        },
        "id": "ziUyy3-eiBK6",
        "outputId": "cae43c31-b740-4090-887a-8fa80fd5c47f"
      },
      "outputs": [],
      "source": [
        "df_inactive_young.show(10)"
      ]
    },
    {
      "cell_type": "code",
      "execution_count": null,
      "metadata": {
        "colab": {
          "base_uri": "https://localhost:8080/"
        },
        "id": "DYbQRh9TiEJ-",
        "outputId": "31c224ea-f5c5-4d43-91a6-8fd53d84231b"
      },
      "outputs": [],
      "source": [
        "df_active_old.show(10)"
      ]
    },
    {
      "cell_type": "code",
      "execution_count": null,
      "metadata": {
        "colab": {
          "base_uri": "https://localhost:8080/"
        },
        "id": "druIeLQpiHgE",
        "outputId": "2d397451-b717-4981-a302-d1fb9f5731f4"
      },
      "outputs": [],
      "source": [
        "df_inactive_old.show()"
      ]
    },
    {
      "cell_type": "code",
      "execution_count": null,
      "metadata": {
        "id": "1CDER5f2iPJV"
      },
      "outputs": [],
      "source": [
        "\n",
        "data_format   = 'parquet'\n",
        "output_folder = '/content/drive/MyDrive/Colab Notebooks/Data/Data/output/parquet/'\n",
        "df_active_young.write.format(data_format).save(output_folder + '1') # datele df_active_young se vor salva in folderul 1\n",
        "df_inactive_young.write.format(data_format).save(output_folder + '2') # datele df_inactive_young se vor salva in folderul 2\n",
        "df_active_old.write.format(data_format).save(output_folder + '3')\n",
        "df_inactive_old.write.format(data_format).save(output_folder + '4')\n"
      ]
    },
    {
      "cell_type": "code",
      "execution_count": null,
      "metadata": {
        "id": "tqFhLdhgVohH"
      },
      "outputs": [],
      "source": [
        "data_without_personal_columns_df = data_practice.drop('varsta', 'extra')"
      ]
    },
    {
      "cell_type": "code",
      "execution_count": null,
      "metadata": {
        "colab": {
          "base_uri": "https://localhost:8080/"
        },
        "id": "Y3lE8JtXWLFJ",
        "outputId": "37041fed-ad86-4308-eb3f-69841e0d8ec8"
      },
      "outputs": [],
      "source": [
        "data_without_personal_columns_df.show(10)"
      ]
    },
    {
      "cell_type": "code",
      "execution_count": null,
      "metadata": {
        "id": "QzeXLYEVWTNj"
      },
      "outputs": [],
      "source": [
        "df_rename = data_without_personal_columns_df.withColumnRenamed('ocupatie','job')"
      ]
    },
    {
      "cell_type": "code",
      "execution_count": null,
      "metadata": {
        "colab": {
          "base_uri": "https://localhost:8080/"
        },
        "id": "HsRu6WifWscf",
        "outputId": "465a5452-631f-4844-e6a5-8eb9207282d6"
      },
      "outputs": [],
      "source": [
        "df_rename.show(10)"
      ]
    },
    {
      "cell_type": "code",
      "execution_count": null,
      "metadata": {
        "colab": {
          "base_uri": "https://localhost:8080/"
        },
        "id": "5p3I39tZXJmz",
        "outputId": "0e1a4aaf-a2e2-4b02-cf8a-3eff762f7aba"
      },
      "outputs": [],
      "source": [
        "df_rename.explain('extended')"
      ]
    },
    {
      "cell_type": "code",
      "execution_count": null,
      "metadata": {
        "id": "VDpCae4CeAUQ"
      },
      "outputs": [],
      "source": []
    }
  ],
  "metadata": {
    "colab": {
      "provenance": []
    },
    "kernelspec": {
      "display_name": "Python 3",
      "name": "python3"
    },
    "language_info": {
      "codemirror_mode": {
        "name": "ipython",
        "version": 3
      },
      "file_extension": ".py",
      "mimetype": "text/x-python",
      "name": "python",
      "nbconvert_exporter": "python",
      "pygments_lexer": "ipython3",
      "version": "3.9.21"
    }
  },
  "nbformat": 4,
  "nbformat_minor": 0
}
