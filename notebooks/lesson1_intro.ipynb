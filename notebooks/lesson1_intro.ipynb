{
 "cells": [
  {
   "cell_type": "code",
   "execution_count": null,
   "metadata": {
    "vscode": {
     "languageId": "plaintext"
    }
   },
   "outputs": [],
   "source": [
    "from pyspark.sql import SparkSession\n",
    "from pyspark.sql.functions import col\n",
    "\n",
    "# Create SparkSession\n",
    "spark = SparkSession.builder \\\n",
    "    .appName(\"Lesson 1: Intro to PySpark\") \\\n",
    "    .getOrCreate()\n",
    "\n",
    "# Sample DataFrame\n",
    "data = [(\"Alice\", 28), (\"Bob\", 35), (\"Cathy\", 45)]\n",
    "columns = [\"Name\", \"Age\"]\n",
    "\n",
    "df = spark.createDataFrame(data, columns)\n",
    "\n",
    "# Show contents\n",
    "df.show()\n",
    "\n",
    "# Select column\n",
    "df.select(\"Name\").show()\n",
    "\n",
    "# Filter by condition\n",
    "df.filter(col(\"Age\") > 30).show()\n",
    "\n",
    "# Add a column\n",
    "df.withColumn(\"AgePlus10\", col(\"Age\") + 10).show()\n"
   ]
  }
 ],
 "metadata": {
  "language_info": {
   "name": "python"
  }
 },
 "nbformat": 4,
 "nbformat_minor": 2
}
