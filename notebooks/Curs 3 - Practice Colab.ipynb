{
  "nbformat": 4,
  "nbformat_minor": 0,
  "metadata": {
    "colab": {
      "provenance": []
    },
    "kernelspec": {
      "name": "python3",
      "display_name": "Python 3"
    },
    "language_info": {
      "name": "python"
    }
  },
  "cells": [
    {
      "cell_type": "code",
      "execution_count": 1,
      "metadata": {
        "id": "BTf9yPGDKXfx"
      },
      "outputs": [],
      "source": [
        "from google.colab import drive"
      ]
    },
    {
      "cell_type": "code",
      "source": [
        "drive.mount('/content/drive')"
      ],
      "metadata": {
        "id": "RdnWJjROKcJN",
        "colab": {
          "base_uri": "https://localhost:8080/"
        },
        "outputId": "526f707f-6f32-4caa-ee57-8b7683bbb788"
      },
      "execution_count": 2,
      "outputs": [
        {
          "output_type": "stream",
          "name": "stdout",
          "text": [
            "Mounted at /content/drive\n"
          ]
        }
      ]
    },
    {
      "cell_type": "code",
      "source": [
        "import pandas as pd"
      ],
      "metadata": {
        "id": "AqRjFgMqKdql"
      },
      "execution_count": 3,
      "outputs": []
    },
    {
      "cell_type": "code",
      "source": [
        "!apt-get update # Update apt-get repository.\n",
        "!apt-get install openjdk-8-jdk-headless -qq > /dev/null # Install Java.\n",
        "!wget -q http://archive.apache.org/dist/spark/spark-3.1.1/spark-3.1.1-bin-hadoop3.2.tgz # Download Apache Sparks.\n",
        "!tar xf spark-3.1.1-bin-hadoop3.2.tgz # Unzip the tgz file.\n",
        "!pip install -q findspark # Install findspark. Adds PySpark to the System path during runtime.\n",
        "\n",
        "# Set environment variables\n",
        "import os\n",
        "os.environ[\"JAVA_HOME\"] = \"/usr/lib/jvm/java-8-openjdk-amd64\"\n",
        "os.environ[\"SPARK_HOME\"] = \"/content/spark-3.1.1-bin-hadoop3.2\"\n",
        "\n",
        "!ls\n",
        "\n",
        "# Initialize findspark\n",
        "import findspark\n",
        "findspark.init()\n",
        "\n",
        "# Create a PySpark session\n",
        "from pyspark.sql import SparkSession\n",
        "spark = SparkSession.builder.master(\"local[*]\").config('spark.driver.memory','3g').getOrCreate()\n",
        "spark"
      ],
      "metadata": {
        "id": "zodPxLnnKfMb",
        "colab": {
          "base_uri": "https://localhost:8080/",
          "height": 621
        },
        "outputId": "b3e96e55-dab2-4ee0-a120-5fc6777bfac7"
      },
      "execution_count": 4,
      "outputs": [
        {
          "output_type": "stream",
          "name": "stdout",
          "text": [
            "Get:1 http://security.ubuntu.com/ubuntu jammy-security InRelease [129 kB]\n",
            "Get:2 https://cloud.r-project.org/bin/linux/ubuntu jammy-cran40/ InRelease [3,632 B]\n",
            "Hit:3 https://developer.download.nvidia.com/compute/cuda/repos/ubuntu2204/x86_64  InRelease\n",
            "Hit:4 http://archive.ubuntu.com/ubuntu jammy InRelease\n",
            "Get:5 https://r2u.stat.illinois.edu/ubuntu jammy InRelease [6,555 B]\n",
            "Get:6 http://archive.ubuntu.com/ubuntu jammy-updates InRelease [128 kB]\n",
            "Get:7 http://security.ubuntu.com/ubuntu jammy-security/universe amd64 Packages [1,241 kB]\n",
            "Hit:8 https://ppa.launchpadcontent.net/deadsnakes/ppa/ubuntu jammy InRelease\n",
            "Get:9 http://security.ubuntu.com/ubuntu jammy-security/main amd64 Packages [2,773 kB]\n",
            "Hit:10 https://ppa.launchpadcontent.net/graphics-drivers/ppa/ubuntu jammy InRelease\n",
            "Get:11 http://archive.ubuntu.com/ubuntu jammy-backports InRelease [127 kB]\n",
            "Hit:12 https://ppa.launchpadcontent.net/ubuntugis/ppa/ubuntu jammy InRelease\n",
            "Get:13 https://cloud.r-project.org/bin/linux/ubuntu jammy-cran40/ Packages [70.9 kB]\n",
            "Get:14 https://r2u.stat.illinois.edu/ubuntu jammy/main amd64 Packages [2,688 kB]\n",
            "Get:15 https://r2u.stat.illinois.edu/ubuntu jammy/main all Packages [8,808 kB]\n",
            "Get:16 http://archive.ubuntu.com/ubuntu jammy-updates/restricted amd64 Packages [4,140 kB]\n",
            "Get:17 http://archive.ubuntu.com/ubuntu jammy-updates/universe amd64 Packages [1,540 kB]\n",
            "Get:18 http://archive.ubuntu.com/ubuntu jammy-updates/main amd64 Packages [3,087 kB]\n",
            "Fetched 24.7 MB in 5s (5,067 kB/s)\n",
            "Reading package lists... Done\n",
            "W: Skipping acquire of configured file 'main/source/Sources' as repository 'https://r2u.stat.illinois.edu/ubuntu jammy InRelease' does not seem to provide it (sources.list entry misspelt?)\n",
            "drive  sample_data  spark-3.1.1-bin-hadoop3.2  spark-3.1.1-bin-hadoop3.2.tgz\n"
          ]
        },
        {
          "output_type": "execute_result",
          "data": {
            "text/plain": [
              "<pyspark.sql.session.SparkSession at 0x7ad772c75b50>"
            ],
            "text/html": [
              "\n",
              "            <div>\n",
              "                <p><b>SparkSession - in-memory</b></p>\n",
              "                \n",
              "        <div>\n",
              "            <p><b>SparkContext</b></p>\n",
              "\n",
              "            <p><a href=\"http://ecfc1a47d205:4040\">Spark UI</a></p>\n",
              "\n",
              "            <dl>\n",
              "              <dt>Version</dt>\n",
              "                <dd><code>v3.1.1</code></dd>\n",
              "              <dt>Master</dt>\n",
              "                <dd><code>local[*]</code></dd>\n",
              "              <dt>AppName</dt>\n",
              "                <dd><code>pyspark-shell</code></dd>\n",
              "            </dl>\n",
              "        </div>\n",
              "        \n",
              "            </div>\n",
              "        "
            ]
          },
          "metadata": {},
          "execution_count": 4
        }
      ]
    },
    {
      "cell_type": "code",
      "source": [
        "# Citirea fișierelor de tip CSV / JSON / Parquet într-un Data Frame\n",
        "\n",
        "# data_df = spark.read.format('csv').option('header', 'true').schema(data_schema).load('/path/to/folder/or/file')\n",
        "# data_df = spark.read.format('json').schema(data_schema).load('/path/to/folder/or/file')\n",
        "\n",
        "path = '/content/drive/MyDrive/Colab Notebooks/Data/practice/parquet'\n",
        "data_df = spark.read.format('parquet').load(path)"
      ],
      "metadata": {
        "id": "O2Umctt8LG6w"
      },
      "execution_count": 6,
      "outputs": []
    },
    {
      "cell_type": "code",
      "source": [
        "# data_df.printSchema()               # Afișare tipurilor de date\n",
        "# data_list = data_df.collect()       # Colectarea datelor într-o listă de Python\n",
        "data_df.show(5)                          # Afișare datelor la consolă\n",
        "# data_pdf = data_df.toPandas() # Colectarea datelor într-o tabelă de Pandas"
      ],
      "metadata": {
        "id": "cGd61iSSLQcN",
        "colab": {
          "base_uri": "https://localhost:8080/"
        },
        "outputId": "6243f83d-b5c4-4e3a-9cf2-6e6daefac049"
      },
      "execution_count": 7,
      "outputs": [
        {
          "output_type": "stream",
          "name": "stdout",
          "text": [
            "+---------+------+--------------------+-------+-------+--------------------+\n",
            "|     nume|varsta|            ocupatie|vechime|inactiv|               extra|\n",
            "+---------+------+--------------------+-------+-------+--------------------+\n",
            "|    Daria|    33|   Inginer  mecanic |      7|   null|                [EV]|\n",
            "|  Delia  |    20|        Medic primar|      0|   true|                null|\n",
            "|    Diana|    45|   Asistent  social |     23|   null|[XBOX, 3D Printer...|\n",
            "|    Doina|    37|Specialist  marke...|     11|   null|          [WII, PS5]|\n",
            "|   Elena |    25|            Contabil|      1|   null|                null|\n",
            "+---------+------+--------------------+-------+-------+--------------------+\n",
            "only showing top 5 rows\n",
            "\n"
          ]
        }
      ]
    },
    {
      "cell_type": "code",
      "source": [
        "# Scrierea datelor în fișiere de tip CSV / JSON / Parquet\n",
        "\n",
        "# data_df.write.format('csv').option('header', 'true').save('/path/to/save/folder')\n",
        "# data_df.write.format('json').save('/path/to/save/folder')\n",
        "# data_df.write.format('parquet').save('/path/to/save/folder')\n"
      ],
      "metadata": {
        "id": "vVK1kICVLiKo"
      },
      "execution_count": null,
      "outputs": []
    },
    {
      "cell_type": "code",
      "source": [
        "# Expresii de calcul  ## o clasă specială de Python cu un nume intuitiv, numită Column. reține doar „formula” care trebuie efectuată\n",
        "\n",
        "from pyspark.sql import functions as f\n",
        "\n",
        "# expr = f.lit(130)         # o valoare constantă\n",
        "# expr = f.col('varsta')  # valoarea unei o coloane"
      ],
      "metadata": {
        "id": "xR1IDCHTNEIc"
      },
      "execution_count": 5,
      "outputs": []
    },
    {
      "cell_type": "code",
      "source": [
        "# FUNCTII - pentru operații pe caractere sau liste și alte structuri complexe\n",
        "## https://spark.apache.org/docs/latest/api/python/reference/pyspark.sql/functions.html\n",
        "\n",
        "# f.contains()\n",
        "# f.trim()\n",
        "# f.date_trunc('DAY',f.current_date())\n",
        "# f.size()\n",
        "# f.array_remove(f.col('nn'),'string')\n",
        "\n"
      ],
      "metadata": {
        "id": "LQSNwiRpOEEc"
      },
      "execution_count": null,
      "outputs": []
    },
    {
      "cell_type": "code",
      "source": [
        "# Adăugarea sau Înlocuirea unui coloane\n",
        "\n",
        "data_df.withColumn(\n",
        "    'text',\n",
        "    f.concat(\n",
        "        f.lit('in varsta de '),\n",
        "        f.col('varsta'),\n",
        "        f.lit(' ani')\n",
        "        )\n",
        "    ).show(5)\n"
      ],
      "metadata": {
        "id": "2NyaZfFbO2zX",
        "colab": {
          "base_uri": "https://localhost:8080/"
        },
        "outputId": "7c014c24-fa9c-46f2-d820-5022912c0a6f"
      },
      "execution_count": 8,
      "outputs": [
        {
          "output_type": "stream",
          "name": "stdout",
          "text": [
            "+---------+------+--------------------+-------+-------+--------------------+-------------------+\n",
            "|     nume|varsta|            ocupatie|vechime|inactiv|               extra|               text|\n",
            "+---------+------+--------------------+-------+-------+--------------------+-------------------+\n",
            "|    Daria|    33|   Inginer  mecanic |      7|   null|                [EV]|in varsta de 33 ani|\n",
            "|  Delia  |    20|        Medic primar|      0|   true|                null|in varsta de 20 ani|\n",
            "|    Diana|    45|   Asistent  social |     23|   null|[XBOX, 3D Printer...|in varsta de 45 ani|\n",
            "|    Doina|    37|Specialist  marke...|     11|   null|          [WII, PS5]|in varsta de 37 ani|\n",
            "|   Elena |    25|            Contabil|      1|   null|                null|in varsta de 25 ani|\n",
            "+---------+------+--------------------+-------+-------+--------------------+-------------------+\n",
            "only showing top 5 rows\n",
            "\n"
          ]
        }
      ]
    },
    {
      "cell_type": "code",
      "source": [
        "# convertim rezultatul expresiei într-un alt tip de date.\n",
        "\n",
        "# expr = (f.col('varsta') + f.lit(1)).cast('string')"
      ],
      "metadata": {
        "id": "iexgkxbqPauf"
      },
      "execution_count": null,
      "outputs": []
    },
    {
      "cell_type": "code",
      "source": [
        "# seta numele obiectului Column explicit.\n",
        "\n",
        "# expr = f.expr('concat(\"in varsta de \", varsta, \" ani\")').alias('text_varsta')"
      ],
      "metadata": {
        "id": "cFIur-sCPlE-"
      },
      "execution_count": null,
      "outputs": []
    },
    {
      "cell_type": "code",
      "source": [
        "## Condiții în lanț de IF-ELSE\n",
        "\n",
        "# print(\n",
        "#     f.when(\n",
        "#         f.col('varsta') < 25,\n",
        "#         f.lit('I'))\n",
        "#     .when(\n",
        "#         f.col('varsta') < 32,\n",
        "#         f.lit('II'))\n",
        "#     .otherwise(f.lit('III')  )\n",
        "#     )"
      ],
      "metadata": {
        "id": "jKLwH9FoQKJO"
      },
      "execution_count": null,
      "outputs": []
    },
    {
      "cell_type": "code",
      "source": [
        "# transformări de date în funcția de select.\n",
        "\n",
        "# data_df.select(\n",
        "#     'nume',\n",
        "#     'extra',\n",
        "#     f.col('varsta') - f.col('vechime'),\n",
        "#     f.concat(\n",
        "#         f.lit('in varsta de '),\n",
        "#         f.col('varsta'),\n",
        "#         f.lit(' ani')).alias('text')\n",
        "# )\n",
        "\n",
        "# enriched_data_df = (\n",
        "#     data_df\n",
        "#     .withColumn(\n",
        "#         'inactiv',\n",
        "#         f.coalesce(\n",
        "#             f.col('inactiv'),\n",
        "#             f.lit(False)))\n",
        "#     .withColumn(\n",
        "#         'varsta_contractare',\n",
        "#         f .col('varsta') - f.col('vechime'))\n",
        "# )"
      ],
      "metadata": {
        "id": "akHz0WIRQaHQ"
      },
      "execution_count": null,
      "outputs": []
    },
    {
      "cell_type": "code",
      "source": [
        "# Filtrare - Păstrarea datelor pe baza unei condiții\n",
        "\n",
        "# data_df.filter(f.col('varsta') < 0)\n",
        "# data_df.where(f.col('varsta') < 0)\n"
      ],
      "metadata": {
        "id": "6jDax0GLRPOc"
      },
      "execution_count": null,
      "outputs": []
    },
    {
      "cell_type": "code",
      "source": [
        "# Sortare\n",
        "\n",
        "# data_df.sort(\n",
        "#     'nume',\n",
        "#     f.desc(\n",
        "#         f.col('varsta')\n",
        "#         )\n",
        "#     )"
      ],
      "metadata": {
        "id": "TfESe5LRRhH9"
      },
      "execution_count": null,
      "outputs": []
    },
    {
      "cell_type": "code",
      "source": [
        "# Limitarea numărului de rânduri\n",
        "\n",
        "data_df.limit(2)\n",
        "data_df.sort(f.desc('vechime')).limit(2)\n",
        "\n",
        "enriched_data_df = (\n",
        "    data_df\n",
        "    .withColumn('inactiv', f.coalesce(f.col('inactiv'), f.lit(False)))\n",
        "    .withColumn('varsta_contractare', f .col('varsta') - f.col('vechime'))\n",
        "    .filter('inactiv is False')\n",
        "    .sort(f.desc('vechime'))\n",
        "    .limit(10)\n",
        ").show(5, truncate = False)"
      ],
      "metadata": {
        "id": "UQuYOrFzRmqc",
        "colab": {
          "base_uri": "https://localhost:8080/"
        },
        "outputId": "ce75c6e0-cce8-439d-8836-3352e049750f"
      },
      "execution_count": 28,
      "outputs": [
        {
          "output_type": "stream",
          "name": "stdout",
          "text": [
            "+------+------+---------------+-------+-------+----------------------------+------------------+\n",
            "|nume  |varsta|ocupatie       |vechime|inactiv|extra                       |varsta_contractare|\n",
            "+------+------+---------------+-------+-------+----------------------------+------------------+\n",
            "|Viorel|50    | Farmacist     |32     |false  |[PS5, 3D Printer, PC]       |18                |\n",
            "|Bogdan|50    |Farmacist      |32     |false  |[PC, 3D Printer, AC]        |18                |\n",
            "|Carmen|50    |Farmacist      |32     |false  |[3D Printer, AC, 3D Printer]|18                |\n",
            "|Cosmin|49    |Farmacist      |31     |false  |[AC, XBOX, PV]              |18                |\n",
            "|Lucian|49    |Designer grafic|30     |false  |[PV, XBOX, AC]              |19                |\n",
            "+------+------+---------------+-------+-------+----------------------------+------------------+\n",
            "only showing top 5 rows\n",
            "\n"
          ]
        }
      ]
    },
    {
      "cell_type": "code",
      "source": [
        "# Nivelare a datelor\n",
        "# descompune un singur rând de date în mai multe rânduri\n",
        "# În setul de date nou, se va afla câte un rând de date pentru fiecare element a listei.\n",
        "\n",
        "expr = f.explode('extra')\n",
        "data_df.withColumn('consumator',expr).show(5,truncate=False)\n",
        "# .drop(f.col('extra'))"
      ],
      "metadata": {
        "id": "WrNiHz7QTbbF",
        "colab": {
          "base_uri": "https://localhost:8080/"
        },
        "outputId": "dd5e7dcd-3284-4349-cac2-919f1afd23c5"
      },
      "execution_count": 29,
      "outputs": [
        {
          "output_type": "stream",
          "name": "stdout",
          "text": [
            "+-----+------+----------------------+-------+-------+----------------------+----------+\n",
            "|nume |varsta|ocupatie              |vechime|inactiv|extra                 |consumator|\n",
            "+-----+------+----------------------+-------+-------+----------------------+----------+\n",
            "|Daria|33    |Inginer  mecanic      |7      |null   |[EV]                  |EV        |\n",
            "|Diana|45    |Asistent  social      |23     |null   |[XBOX, 3D Printer, PV]|XBOX      |\n",
            "|Diana|45    |Asistent  social      |23     |null   |[XBOX, 3D Printer, PV]|3D Printer|\n",
            "|Diana|45    |Asistent  social      |23     |null   |[XBOX, 3D Printer, PV]|PV        |\n",
            "|Doina|37    |Specialist  marketing |11     |null   |[WII, PS5]            |WII       |\n",
            "+-----+------+----------------------+-------+-------+----------------------+----------+\n",
            "only showing top 5 rows\n",
            "\n"
          ]
        }
      ]
    },
    {
      "cell_type": "code",
      "source": [
        "df_customers = spark.read.format('parquet').load('/content/drive/MyDrive/Colab Notebooks/Data/Course_III/customers_cleaned/practice/parquet')\n",
        "df_tariff           = spark.read.format('parquet').load('/content/drive/MyDrive/Colab Notebooks/Data/Course_III/tariff/practice/parquet')\n",
        "df_zone_source  = spark.read.format('parquet').load('/content/drive/MyDrive/Colab Notebooks/Data/Course_III/zone_source/parquet')\n",
        "df_zone_type        = spark.read.format('parquet').load('/content/drive/MyDrive/Colab Notebooks/Data/Course_III/zone_type/parquet')"
      ],
      "metadata": {
        "id": "xLe7BfJVwZZO"
      },
      "execution_count": 68,
      "outputs": []
    },
    {
      "cell_type": "code",
      "source": [
        "df_customers.show(5,truncate=False)"
      ],
      "metadata": {
        "colab": {
          "base_uri": "https://localhost:8080/"
        },
        "id": "9JQytnFjvMwO",
        "outputId": "cd4e832a-8ad9-40fe-abc3-5b7d1756bb83"
      },
      "execution_count": 34,
      "outputs": [
        {
          "output_type": "stream",
          "name": "stdout",
          "text": [
            "+--------+------+------------------+-------+-------+----+---------------------------+\n",
            "|nume    |varsta|ocupatie          |vechime|inactiv|zona|extra                      |\n",
            "+--------+------+------------------+-------+-------+----+---------------------------+\n",
            "|Gabriel |44    |Specialist vânzări|21     |null   |E   |[5G Router, Sauna, PV]     |\n",
            "|George  |46    |Agent imobiliar   |25     |false  |G   |[5G Router, 5G Router, WII]|\n",
            "|Gheorghe|34    |Specialist HR     |8      |null   |D   |[PC, Sauna]                |\n",
            "|Grigore |44    |Specialist vânzări|21     |null   |E   |[WII, Piscina, Piscina]    |\n",
            "|Horia   |42    |Arhitect          |18     |null   |E   |[Piscina, AC]              |\n",
            "+--------+------+------------------+-------+-------+----+---------------------------+\n",
            "only showing top 5 rows\n",
            "\n"
          ]
        }
      ]
    },
    {
      "cell_type": "code",
      "source": [
        "df_customers.printSchema()"
      ],
      "metadata": {
        "colab": {
          "base_uri": "https://localhost:8080/"
        },
        "id": "j_Um_NzKyFLi",
        "outputId": "77dc2a43-560f-41ff-8536-3ca6208311cb"
      },
      "execution_count": 17,
      "outputs": [
        {
          "output_type": "stream",
          "name": "stdout",
          "text": [
            "root\n",
            " |-- nume: string (nullable = true)\n",
            " |-- varsta: integer (nullable = true)\n",
            " |-- ocupatie: string (nullable = true)\n",
            " |-- vechime: integer (nullable = true)\n",
            " |-- inactiv: boolean (nullable = true)\n",
            " |-- zona: string (nullable = true)\n",
            " |-- extra: array (nullable = true)\n",
            " |    |-- element: string (containsNull = true)\n",
            "\n"
          ]
        }
      ]
    },
    {
      "cell_type": "code",
      "source": [
        "\n",
        "df_tariff.show(5,truncate=False)\n"
      ],
      "metadata": {
        "colab": {
          "base_uri": "https://localhost:8080/"
        },
        "collapsed": true,
        "id": "8ENYgoYEvERz",
        "outputId": "862d0db2-17b1-4f24-de79-7de05e0c3b48"
      },
      "execution_count": 35,
      "outputs": [
        {
          "output_type": "stream",
          "name": "stdout",
          "text": [
            "+---------+--------+\n",
            "|nume     |tarif   |\n",
            "+---------+--------+\n",
            "|Andrei   |dinamic |\n",
            "|Alexandru|dinamic |\n",
            "|Adrian   |zonal   |\n",
            "|Alin     |standard|\n",
            "|Anton    |zonal   |\n",
            "+---------+--------+\n",
            "only showing top 5 rows\n",
            "\n"
          ]
        }
      ]
    },
    {
      "cell_type": "code",
      "source": [
        "df_zone_source.show(5,truncate=False)\n"
      ],
      "metadata": {
        "colab": {
          "base_uri": "https://localhost:8080/"
        },
        "collapsed": true,
        "id": "i8S9m2gevQgF",
        "outputId": "5b82b6a2-3221-40f9-e324-0d2cbb4d37c6"
      },
      "execution_count": 36,
      "outputs": [
        {
          "output_type": "stream",
          "name": "stdout",
          "text": [
            "+----+--------+---+\n",
            "|zona|sursa   |ani|\n",
            "+----+--------+---+\n",
            "|D   |nucleara|20 |\n",
            "|B   |nucleara|16 |\n",
            "|C   |eoliana |3  |\n",
            "|D   |fosila  |45 |\n",
            "|C   |fosila  |45 |\n",
            "+----+--------+---+\n",
            "only showing top 5 rows\n",
            "\n"
          ]
        }
      ]
    },
    {
      "cell_type": "code",
      "source": [
        "df_zone_type.show(5,truncate=False)"
      ],
      "metadata": {
        "colab": {
          "base_uri": "https://localhost:8080/"
        },
        "collapsed": true,
        "id": "QLSfoXiqvRqw",
        "outputId": "831fcfb7-84b9-4429-ac17-119cffa3296d"
      },
      "execution_count": 38,
      "outputs": [
        {
          "output_type": "stream",
          "name": "stdout",
          "text": [
            "+----+--------+\n",
            "|zona|mediu   |\n",
            "+----+--------+\n",
            "|D   |Suburban|\n",
            "|B   |Suburban|\n",
            "|A   |Urban   |\n",
            "|C   |Urban   |\n",
            "|E   |Rural   |\n",
            "+----+--------+\n",
            "\n"
          ]
        }
      ]
    },
    {
      "cell_type": "code",
      "source": [
        "# Group by\n",
        "# returnează un obiect special de tip Grouped Data\n",
        "# oferă diverse metode pentru a executa operații de agregare\n",
        "\n",
        "df_customers.groupby('zona')\n"
      ],
      "metadata": {
        "id": "IvNLi19WRZCk",
        "colab": {
          "base_uri": "https://localhost:8080/"
        },
        "outputId": "9f3c154a-c9c7-4b7f-a730-d0596354dfaa"
      },
      "execution_count": 22,
      "outputs": [
        {
          "output_type": "execute_result",
          "data": {
            "text/plain": [
              "<pyspark.sql.group.GroupedData at 0x7ad77206a510>"
            ]
          },
          "metadata": {},
          "execution_count": 22
        }
      ]
    },
    {
      "cell_type": "code",
      "source": [
        "df_customers.groupby('zona').max().show()   # max - metoda de agregate a obiectului GroupedData\n"
      ],
      "metadata": {
        "colab": {
          "base_uri": "https://localhost:8080/"
        },
        "id": "jMJKaKSiv9eT",
        "outputId": "ef79e168-76a3-4c69-9967-5e9ef080f552"
      },
      "execution_count": 23,
      "outputs": [
        {
          "output_type": "stream",
          "name": "stdout",
          "text": [
            "+----+-----------+------------+\n",
            "|zona|max(varsta)|max(vechime)|\n",
            "+----+-----------+------------+\n",
            "|   E|         51|          23|\n",
            "|   B|         34|          11|\n",
            "|   D|         44|          24|\n",
            "|   C|         45|          21|\n",
            "|   A|         40|          27|\n",
            "|   G|         50|          32|\n",
            "+----+-----------+------------+\n",
            "\n"
          ]
        }
      ]
    },
    {
      "cell_type": "code",
      "source": [
        "df_customers.groupby('zona').max('varsta').show()  # max - metoda de agregate a obiectului GroupedData\n",
        "df_customers.groupby('zona').max('vechime').show()"
      ],
      "metadata": {
        "colab": {
          "base_uri": "https://localhost:8080/"
        },
        "id": "87zhMLCivz8u",
        "outputId": "d0f907a1-2d18-4126-92c2-54d8a3113ea8"
      },
      "execution_count": 54,
      "outputs": [
        {
          "output_type": "stream",
          "name": "stdout",
          "text": [
            "+----+-----------+\n",
            "|zona|max(varsta)|\n",
            "+----+-----------+\n",
            "|   E|         51|\n",
            "|   B|         34|\n",
            "|   D|         44|\n",
            "|   C|         45|\n",
            "|   A|         40|\n",
            "|   G|         50|\n",
            "+----+-----------+\n",
            "\n",
            "+----+------------+\n",
            "|zona|max(vechime)|\n",
            "+----+------------+\n",
            "|   E|          23|\n",
            "|   B|          11|\n",
            "|   D|          24|\n",
            "|   C|          21|\n",
            "|   A|          27|\n",
            "|   G|          32|\n",
            "+----+------------+\n",
            "\n"
          ]
        }
      ]
    },
    {
      "cell_type": "code",
      "source": [
        " # group by mai multe coloane\n",
        " # sum - metoda de agregate a obiectului GroupedData\n",
        "df_customers.groupby('zona', 'inactiv').sum().show(5)"
      ],
      "metadata": {
        "colab": {
          "base_uri": "https://localhost:8080/"
        },
        "id": "gpyTb673wNMD",
        "outputId": "0ff1d32a-d6fa-46bb-ae29-052b225015eb"
      },
      "execution_count": 24,
      "outputs": [
        {
          "output_type": "stream",
          "name": "stdout",
          "text": [
            "+----+-------+-----------+------------+\n",
            "|zona|inactiv|sum(varsta)|sum(vechime)|\n",
            "+----+-------+-----------+------------+\n",
            "|   G|  false|        337|         200|\n",
            "|   B|  false|         27|           2|\n",
            "|   E|   null|       1193|         532|\n",
            "|   B|   null|        474|          42|\n",
            "|   D|   null|        628|         197|\n",
            "+----+-------+-----------+------------+\n",
            "only showing top 5 rows\n",
            "\n"
          ]
        }
      ]
    },
    {
      "cell_type": "code",
      "source": [
        "df_customers\\\n",
        "    .groupby('zona', 'inactiv')\\   # group by mai multe coloane\n",
        "    .sum('varsta')\\\n",
        "    .show(5)"
      ],
      "metadata": {
        "colab": {
          "base_uri": "https://localhost:8080/"
        },
        "id": "8GcjsT8AwHUT",
        "outputId": "691b2f00-d041-4c95-a479-2e3dc4e8729f"
      },
      "execution_count": 59,
      "outputs": [
        {
          "output_type": "stream",
          "name": "stdout",
          "text": [
            "+----+-------+-----------+\n",
            "|zona|inactiv|sum(varsta)|\n",
            "+----+-------+-----------+\n",
            "|   G|  false|        337|\n",
            "|   B|  false|         27|\n",
            "|   E|   null|       1193|\n",
            "|   B|   null|        474|\n",
            "|   D|   null|        628|\n",
            "+----+-------+-----------+\n",
            "only showing top 5 rows\n",
            "\n"
          ]
        }
      ]
    },
    {
      "cell_type": "code",
      "source": [
        "# Pentru agregari diverse si complexe in aceeasi comanda folosim\n",
        "# agg()\n",
        "\n",
        "df_customers \\\n",
        "      .groupby('zona', 'inactiv') \\\n",
        "      .agg(\n",
        "              f.sum('varsta').alias('sum de varsta'),\n",
        "              f.mean('varsta').cast('decimal(5,2)').alias('mean de varsta'),\n",
        "              f.max('varsta').alias('max de varsta')\n",
        "                        ) \\\n",
        "      .show(5)  # group by mai multe coloane"
      ],
      "metadata": {
        "colab": {
          "base_uri": "https://localhost:8080/"
        },
        "id": "7Wf0cidNwje9",
        "outputId": "d103efaf-9a31-4e11-dd66-5a26328d2b69"
      },
      "execution_count": 62,
      "outputs": [
        {
          "output_type": "stream",
          "name": "stdout",
          "text": [
            "+----+-------+-------------+--------------+-------------+\n",
            "|zona|inactiv|sum de varsta|mean de varsta|max de varsta|\n",
            "+----+-------+-------------+--------------+-------------+\n",
            "|   G|  false|          337|         48.14|           50|\n",
            "|   B|  false|           27|         27.00|           27|\n",
            "|   E|   null|         1193|         42.61|           45|\n",
            "|   B|   null|          474|         26.33|           34|\n",
            "|   D|   null|          628|         36.94|           44|\n",
            "+----+-------+-------------+--------------+-------------+\n",
            "only showing top 5 rows\n",
            "\n"
          ]
        }
      ]
    },
    {
      "cell_type": "code",
      "source": [
        "# Functii de agregare\n",
        "\n",
        "from pyspark.sql import functions as f\n"
      ],
      "metadata": {
        "id": "7SGqjP2nSM2n"
      },
      "execution_count": 58,
      "outputs": []
    },
    {
      "cell_type": "code",
      "source": [
        "expr1 = f.first('vechime', ignorenulls=True).alias('fst_vechime')\n",
        "df_customers.groupby('zona', 'inactiv').agg(expr1).show(5)"
      ],
      "metadata": {
        "colab": {
          "base_uri": "https://localhost:8080/"
        },
        "id": "mzu21l48ylu7",
        "outputId": "8aaa5545-91b3-48da-da83-f2b6849f4d7c"
      },
      "execution_count": 63,
      "outputs": [
        {
          "output_type": "stream",
          "name": "stdout",
          "text": [
            "+----+-------+-----------+\n",
            "|zona|inactiv|fst_vechime|\n",
            "+----+-------+-----------+\n",
            "|   G|  false|         25|\n",
            "|   B|  false|          2|\n",
            "|   E|   null|         21|\n",
            "|   B|   null|          2|\n",
            "|   D|   null|          8|\n",
            "+----+-------+-----------+\n",
            "only showing top 5 rows\n",
            "\n"
          ]
        }
      ]
    },
    {
      "cell_type": "code",
      "source": [
        "expr2 = f.mean(f.col('vechime') + 1).cast('decimal(5,2)').alias('mean_vechime_plus_one')\n",
        "df_customers.groupby('zona', 'inactiv').agg(expr2).show(5)"
      ],
      "metadata": {
        "colab": {
          "base_uri": "https://localhost:8080/"
        },
        "id": "3kUgnE2q0Kxz",
        "outputId": "eff7ec96-04d6-4021-b0bd-43128057a12e"
      },
      "execution_count": 70,
      "outputs": [
        {
          "output_type": "stream",
          "name": "stdout",
          "text": [
            "+----+-------+---------------------+\n",
            "|zona|inactiv|mean_vechime_plus_one|\n",
            "+----+-------+---------------------+\n",
            "|   G|  false|                29.57|\n",
            "|   B|  false|                 3.00|\n",
            "|   E|   null|                20.00|\n",
            "|   B|   null|                 3.33|\n",
            "|   D|   null|                12.59|\n",
            "+----+-------+---------------------+\n",
            "only showing top 5 rows\n",
            "\n"
          ]
        }
      ]
    },
    {
      "cell_type": "code",
      "source": [
        "expr3 = f.collect_list('vechime').alias('all values array')       # returneaza un array din toate valorile\n",
        "df_customers\\\n",
        "    .groupby('zona', 'inactiv')\\\n",
        "    .agg(expr3)\\\n",
        "    .show(5,truncate=False )"
      ],
      "metadata": {
        "colab": {
          "base_uri": "https://localhost:8080/"
        },
        "id": "OSFTHqh70Tjq",
        "outputId": "ae362853-c84b-4a54-dc0d-26bca6432a0d"
      },
      "execution_count": 71,
      "outputs": [
        {
          "output_type": "stream",
          "name": "stdout",
          "text": [
            "+----+-------+----------------------------------------------------------------------------------------------------------------+\n",
            "|zona|inactiv|all values array                                                                                                |\n",
            "+----+-------+----------------------------------------------------------------------------------------------------------------+\n",
            "|G   |false  |[25, 30, 32, 32, 25, 32, 24]                                                                                    |\n",
            "|B   |false  |[2]                                                                                                             |\n",
            "|E   |null   |[21, 21, 18, 23, 15, 21, 17, 20, 22, 18, 15, 15, 15, 23, 21, 17, 15, 17, 23, 15, 18, 22, 21, 15, 21, 22, 18, 23]|\n",
            "|B   |null   |[2, 2, 2, 2, 1, 3, 2, 1, 3, 2, 1, 1, 3, 1, 1, 1, 3, 11]                                                         |\n",
            "|D   |null   |[8, 13, 8, 9, 11, 11, 8, 13, 11, 10, 14, 10, 14, 14, 11, 8, 24]                                                 |\n",
            "+----+-------+----------------------------------------------------------------------------------------------------------------+\n",
            "only showing top 5 rows\n",
            "\n"
          ]
        }
      ]
    },
    {
      "cell_type": "code",
      "source": [
        "expr4 = f.size(\\\n",
        "               f.collect_set(  f.col('vechime') + 1 )\\    # array cu valorile unice\n",
        "               )\\\n",
        "               .alias('vechime uniques values ')\n",
        "df_customers.groupby('zona', 'inactiv').agg(expr4).show(5)"
      ],
      "metadata": {
        "colab": {
          "base_uri": "https://localhost:8080/"
        },
        "id": "1b5CBF6S0hJQ",
        "outputId": "599bd767-6b0b-4bc6-8fe9-d40f42d61d78"
      },
      "execution_count": 73,
      "outputs": [
        {
          "output_type": "stream",
          "name": "stdout",
          "text": [
            "+----+-------+-----------------------+\n",
            "|zona|inactiv|vechime uniques values |\n",
            "+----+-------+-----------------------+\n",
            "|   G|  false|                      4|\n",
            "|   B|  false|                      1|\n",
            "|   E|   null|                      7|\n",
            "|   B|   null|                      4|\n",
            "|   D|   null|                      7|\n",
            "+----+-------+-----------------------+\n",
            "only showing top 5 rows\n",
            "\n"
          ]
        }
      ]
    },
    {
      "cell_type": "code",
      "source": [
        "# agg\n",
        "\n",
        "new_data_df = (\n",
        "    df_customers\n",
        "    .groupby('zona')\n",
        "    .agg(\n",
        "        f.sum('vechime').alias('suma'),\n",
        "        f.mean('vechime').cast('decimal(5,2)').alias('medie')\n",
        "        )\n",
        ").show(5)"
      ],
      "metadata": {
        "id": "igPKc7TQSxQd",
        "colab": {
          "base_uri": "https://localhost:8080/"
        },
        "outputId": "528d590a-6dba-4df6-ea01-a2c9af8a3ce9"
      },
      "execution_count": 74,
      "outputs": [
        {
          "output_type": "stream",
          "name": "stdout",
          "text": [
            "+----+----+-----+\n",
            "|zona|suma|medie|\n",
            "+----+----+-----+\n",
            "|   E| 575|19.17|\n",
            "|   B|  51| 2.55|\n",
            "|   D| 197|11.59|\n",
            "|   C|  71| 6.45|\n",
            "|   A|  39| 2.17|\n",
            "+----+----+-----+\n",
            "only showing top 5 rows\n",
            "\n"
          ]
        }
      ]
    },
    {
      "cell_type": "code",
      "source": [
        "# Deduplicare\n",
        " # după valorile coloanelor\n",
        "\n",
        "distinct_df = df_customers.select('nume').distinct()\n",
        "distinct_df.show(5)"
      ],
      "metadata": {
        "id": "qT3n_UaQTuY5",
        "colab": {
          "base_uri": "https://localhost:8080/"
        },
        "outputId": "3bb200b7-799a-4493-ea7a-544e69b37f4b"
      },
      "execution_count": 75,
      "outputs": [
        {
          "output_type": "stream",
          "name": "stdout",
          "text": [
            "+------+\n",
            "|  nume|\n",
            "+------+\n",
            "|Bogdan|\n",
            "|Codrin|\n",
            "| Nadia|\n",
            "|Florin|\n",
            "|Lucian|\n",
            "+------+\n",
            "only showing top 5 rows\n",
            "\n"
          ]
        }
      ]
    },
    {
      "cell_type": "code",
      "source": [
        "# un nou dataframe cu valorile distincte din setul de date.\n",
        "dedup_df = df_customers.dropDuplicates(['nume'])\n",
        "dedup_df.show(5)"
      ],
      "metadata": {
        "colab": {
          "base_uri": "https://localhost:8080/"
        },
        "id": "d7EmPezr0IJJ",
        "outputId": "f375ef19-f085-453f-93cc-c121f35dece5"
      },
      "execution_count": 76,
      "outputs": [
        {
          "output_type": "stream",
          "name": "stdout",
          "text": [
            "+------+------+---------------+-------+-------+----+--------------------+\n",
            "|  nume|varsta|       ocupatie|vechime|inactiv|zona|               extra|\n",
            "+------+------+---------------+-------+-------+----+--------------------+\n",
            "|Bogdan|    50|      Farmacist|     32|  false|   G|[EV, Sauna, 5G Ro...|\n",
            "|Codrin|    51|      Farmacist|     22|  false|   E|                null|\n",
            "|Florin|    20|       Educator|      0|   true|   A|                null|\n",
            "| Nadia|    40|Manager proiect|     15|   null|   E|         [XBOX, WII]|\n",
            "|Lucian|    49|Designer grafic|     30|  false|   G|[3D Printer, XBOX...|\n",
            "+------+------+---------------+-------+-------+----+--------------------+\n",
            "only showing top 5 rows\n",
            "\n"
          ]
        }
      ]
    },
    {
      "cell_type": "code",
      "source": [
        "#\n",
        "\n",
        "from pyspark.sql import SparkSession, functions as f\n",
        "\n",
        "# path = '/content/drive/MyDrive/Colab Notebooks/Data/practice/json'\n",
        "# data_df = spark.read.format('json').load(path)\n",
        "\n",
        "grouped_data_df = (\n",
        "    df_customers\n",
        "    .withColumn('varsta_contractare', f .col('varsta') - f.col('vechime'))\n",
        "    .groupBy('varsta_contractare')\n",
        "    .agg(\n",
        "        f.sum(\\\n",
        "              f.coalesce(f.col('inactiv'), f.lit(False))\\\n",
        "              .cast('integer'))\\\n",
        "        .alias('nr_contracte_inactive'),\n",
        "        f.mean(f.col('vechime')).alias('vechime_medie')\n",
        "        )\n",
        "     )\n",
        "\n",
        "# path_result = '/content/drive/MyDrive/Colab Notebooks/Data/output/json'\n",
        "# grouped_data_df.write.format('json').save(path_result)\n",
        "grouped_data_df.show()"
      ],
      "metadata": {
        "id": "32G762OEUPPk",
        "colab": {
          "base_uri": "https://localhost:8080/"
        },
        "outputId": "eb687a31-41e9-40d3-f3e4-44b8305fe6ef"
      },
      "execution_count": 96,
      "outputs": [
        {
          "output_type": "stream",
          "name": "stdout",
          "text": [
            "+------------------+---------------------+------------------+\n",
            "|varsta_contractare|nr_contracte_inactive|     vechime_medie|\n",
            "+------------------+---------------------+------------------+\n",
            "|                26|                    0|7.7368421052631575|\n",
            "|                22|                    1|             14.25|\n",
            "|                13|                    0|              27.0|\n",
            "|                20|                    4|               4.8|\n",
            "|                19|                    3|10.666666666666666|\n",
            "|                23|                    0|           15.4375|\n",
            "|                25|                    0| 9.476190476190476|\n",
            "|                24|                    1|           10.1875|\n",
            "|                29|                    0|              22.0|\n",
            "|                21|                    0|              15.4|\n",
            "|                32|                    0|               6.0|\n",
            "|                18|                    3|18.142857142857142|\n",
            "+------------------+---------------------+------------------+\n",
            "\n"
          ]
        }
      ]
    },
    {
      "cell_type": "code",
      "source": [
        "## PRACTICE CURS 3\n",
        "\n",
        "from pyspark.sql import SparkSession, functions as f\n",
        "\n"
      ],
      "metadata": {
        "id": "mS8fpi4CU4L0"
      },
      "execution_count": 78,
      "outputs": []
    },
    {
      "cell_type": "code",
      "source": [
        "df_customers = spark.read.format('parquet').load('/content/drive/MyDrive/Colab Notebooks/Data/Course_III/customers_cleaned/practice/parquet')\n",
        "df_tariff = spark.read.format('parquet').load('/content/drive/MyDrive/Colab Notebooks/Data/Course_III/tariff/practice/parquet')\n",
        "df_zone_source = spark.read.format('parquet').load('/content/drive/MyDrive/Colab Notebooks/Data/Course_III/zone_source/parquet')\n",
        "df_zone_type =  spark.read.format('parquet').load('/content/drive/MyDrive/Colab Notebooks/Data/Course_III/zone_type/parquet')"
      ],
      "metadata": {
        "id": "ujtkJYuHVGq6"
      },
      "execution_count": null,
      "outputs": []
    },
    {
      "cell_type": "code",
      "source": [
        "df_customers.show(5)\n",
        "df_tariff.show(5)\n",
        "df_zone_source.show(5)\n",
        "df_zone_type.show(5)"
      ],
      "metadata": {
        "colab": {
          "base_uri": "https://localhost:8080/"
        },
        "id": "49HTwp22VcvL",
        "outputId": "049b5e51-f73e-4184-af5a-ee8792b05f4c"
      },
      "execution_count": null,
      "outputs": [
        {
          "output_type": "stream",
          "name": "stdout",
          "text": [
            "+--------+------+------------------+-------+-------+----+--------------------+\n",
            "|    nume|varsta|          ocupatie|vechime|inactiv|zona|               extra|\n",
            "+--------+------+------------------+-------+-------+----+--------------------+\n",
            "| Gabriel|    44|Specialist vânzări|     21|   null|   E|[5G Router, Sauna...|\n",
            "|  George|    46|   Agent imobiliar|     25|  false|   G|[5G Router, 5G Ro...|\n",
            "|Gheorghe|    34|     Specialist HR|      8|   null|   D|         [PC, Sauna]|\n",
            "| Grigore|    44|Specialist vânzări|     21|   null|   E|[WII, Piscina, Pi...|\n",
            "|   Horia|    42|          Arhitect|     18|   null|   E|       [Piscina, AC]|\n",
            "+--------+------+------------------+-------+-------+----+--------------------+\n",
            "only showing top 5 rows\n",
            "\n",
            "+---------+--------+\n",
            "|     nume|   tarif|\n",
            "+---------+--------+\n",
            "|   Andrei| dinamic|\n",
            "|Alexandru| dinamic|\n",
            "|   Adrian|   zonal|\n",
            "|     Alin|standard|\n",
            "|    Anton|   zonal|\n",
            "+---------+--------+\n",
            "only showing top 5 rows\n",
            "\n",
            "+----+--------+---+\n",
            "|zona|   sursa|ani|\n",
            "+----+--------+---+\n",
            "|   D|nucleara| 20|\n",
            "|   B|nucleara| 16|\n",
            "|   C| eoliana|  3|\n",
            "|   D|  fosila| 45|\n",
            "|   C|  fosila| 45|\n",
            "+----+--------+---+\n",
            "only showing top 5 rows\n",
            "\n",
            "+----+--------+\n",
            "|zona|   mediu|\n",
            "+----+--------+\n",
            "|   D|Suburban|\n",
            "|   B|Suburban|\n",
            "|   A|   Urban|\n",
            "|   C|   Urban|\n",
            "|   E|   Rural|\n",
            "+----+--------+\n",
            "\n"
          ]
        }
      ]
    },
    {
      "cell_type": "code",
      "source": [
        "\"\"\"\"\n",
        "Gruparea și Agregarea datelor - Dorim să obținem mai multe perspective de ansamblu asupra clienților.\n",
        "\n",
        "1- Afișarea numărului de oameni, vârsta medie, vechimea medie și procentajul de contracte active per zonă.\n",
        "- Se recomandă folosirea funcțiilor count și mean. Dacă nu e specificat, atunci contractul e activ.\n",
        "\n",
        "\"\"\"\""
      ],
      "metadata": {
        "id": "w62TnNqSWM7s"
      },
      "execution_count": null,
      "outputs": []
    },
    {
      "cell_type": "code",
      "source": [
        "df_stats_per_zone = (\n",
        "    df_customers\n",
        "    .groupBy('zona').agg(\n",
        "        f.count('nume').alias('nr de oameni'),\n",
        "        f.mean('varsta').alias('varsta medie'),\n",
        "        f.mean('vechime').alias('vachime medie'),\n",
        "         (\n",
        "             f.sum(f.coalesce(f.col('inactiv'), f.lit(False)).cast('integer'))  /\n",
        "             f.count('nume')\n",
        "             ).alias('procent contr active')\n",
        "    )\n",
        ")\n"
      ],
      "metadata": {
        "id": "zeYtXB5-Wf64"
      },
      "execution_count": null,
      "outputs": []
    },
    {
      "cell_type": "code",
      "source": [
        "df_stats_per_zone.show()"
      ],
      "metadata": {
        "colab": {
          "base_uri": "https://localhost:8080/"
        },
        "id": "mpoEs5BWeIii",
        "outputId": "0831842b-1979-47de-8977-e4fe6999bdd9"
      },
      "execution_count": null,
      "outputs": [
        {
          "output_type": "stream",
          "name": "stdout",
          "text": [
            "+----+------------+------------------+------------------+--------------------+\n",
            "|zona|nr de oameni|      varsta medie|     vachime medie|procent contr active|\n",
            "+----+------------+------------------+------------------+--------------------+\n",
            "|   E|          30| 42.93333333333333|19.166666666666668|                 0.0|\n",
            "|   B|          20|              26.5|              2.55|                0.05|\n",
            "|   D|          17| 36.94117647058823|11.588235294117647|                 0.0|\n",
            "|   C|          11| 32.09090909090909| 6.454545454545454|                 0.0|\n",
            "|   A|          18|              22.0|2.1666666666666665|  0.6111111111111112|\n",
            "|   G|          14|45.214285714285715|24.357142857142858|                 0.0|\n",
            "+----+------------+------------------+------------------+--------------------+\n",
            "\n"
          ]
        }
      ]
    },
    {
      "cell_type": "code",
      "source": [
        "df_stats_per_zone.explain('extended')"
      ],
      "metadata": {
        "colab": {
          "base_uri": "https://localhost:8080/"
        },
        "id": "u9iCQb-z6Uvv",
        "outputId": "eabd8122-8769-4ef7-db06-57d0fbfe7681"
      },
      "execution_count": null,
      "outputs": [
        {
          "output_type": "stream",
          "name": "stdout",
          "text": [
            "== Parsed Logical Plan ==\n",
            "'Aggregate ['zona], [unresolvedalias('zona, None), count('nume) AS nr de oameni#2949, avg('varsta) AS varsta medie#2951, avg('vechime) AS vachime medie#2953, (sum(cast(coalesce('inactiv, false) as int)) / count('nume)) AS procent contr active#2956]\n",
            "+- Relation[nume#2779,varsta#2780,ocupatie#2781,vechime#2782,inactiv#2783,zona#2784,extra#2785] parquet\n",
            "\n",
            "== Analyzed Logical Plan ==\n",
            "zona: string, nr de oameni: bigint, varsta medie: double, vachime medie: double, procent contr active: double\n",
            "Aggregate [zona#2784], [zona#2784, count(nume#2779) AS nr de oameni#2949L, avg(cast(varsta#2780 as bigint)) AS varsta medie#2951, avg(cast(vechime#2782 as bigint)) AS vachime medie#2953, (cast(sum(cast(cast(coalesce(inactiv#2783, false) as int) as bigint)) as double) / cast(count(nume#2779) as double)) AS procent contr active#2956]\n",
            "+- Relation[nume#2779,varsta#2780,ocupatie#2781,vechime#2782,inactiv#2783,zona#2784,extra#2785] parquet\n",
            "\n",
            "== Optimized Logical Plan ==\n",
            "Aggregate [zona#2784], [zona#2784, count(nume#2779) AS nr de oameni#2949L, avg(cast(varsta#2780 as bigint)) AS varsta medie#2951, avg(cast(vechime#2782 as bigint)) AS vachime medie#2953, (cast(sum(cast(cast(coalesce(inactiv#2783, false) as int) as bigint)) as double) / cast(count(nume#2779) as double)) AS procent contr active#2956]\n",
            "+- Project [nume#2779, varsta#2780, vechime#2782, inactiv#2783, zona#2784]\n",
            "   +- Relation[nume#2779,varsta#2780,ocupatie#2781,vechime#2782,inactiv#2783,zona#2784,extra#2785] parquet\n",
            "\n",
            "== Physical Plan ==\n",
            "*(2) HashAggregate(keys=[zona#2784], functions=[count(nume#2779), avg(cast(varsta#2780 as bigint)), avg(cast(vechime#2782 as bigint)), sum(cast(cast(coalesce(inactiv#2783, false) as int) as bigint))], output=[zona#2784, nr de oameni#2949L, varsta medie#2951, vachime medie#2953, procent contr active#2956])\n",
            "+- Exchange hashpartitioning(zona#2784, 200), ENSURE_REQUIREMENTS, [id=#1600]\n",
            "   +- *(1) HashAggregate(keys=[zona#2784], functions=[partial_count(nume#2779), partial_avg(cast(varsta#2780 as bigint)), partial_avg(cast(vechime#2782 as bigint)), partial_sum(cast(cast(coalesce(inactiv#2783, false) as int) as bigint))], output=[zona#2784, count#2983L, sum#2984, count#2985L, sum#2986, count#2987L, sum#2988L])\n",
            "      +- *(1) ColumnarToRow\n",
            "         +- FileScan parquet [nume#2779,varsta#2780,vechime#2782,inactiv#2783,zona#2784] Batched: true, DataFilters: [], Format: Parquet, Location: InMemoryFileIndex[file:/content/drive/MyDrive/Colab Notebooks/Data/Course_III/customers_cleaned/p..., PartitionFilters: [], PushedFilters: [], ReadSchema: struct<nume:string,varsta:int,vechime:int,inactiv:boolean,zona:string>\n",
            "\n"
          ]
        }
      ]
    },
    {
      "cell_type": "code",
      "source": [
        "\"\"\"\n",
        "2- Afișarea numărului de oameni și vârsta medie per consumator (EV, PV, etc.)\n",
        "-Se recomandă folosirea funcției explode, count și mean.\n",
        "\"\"\"\n",
        "\n",
        "df_selection =  df_customers.select('nume','varsta','extra')\n",
        "df_selection.show(5)"
      ],
      "metadata": {
        "colab": {
          "base_uri": "https://localhost:8080/"
        },
        "id": "ai_D5qA-eVCD",
        "outputId": "75447587-fd4e-45a5-b973-65e78b2a06f0"
      },
      "execution_count": 92,
      "outputs": [
        {
          "output_type": "stream",
          "name": "stdout",
          "text": [
            "+--------+------+--------------------+\n",
            "|    nume|varsta|               extra|\n",
            "+--------+------+--------------------+\n",
            "| Gabriel|    44|[5G Router, Sauna...|\n",
            "|  George|    46|[5G Router, 5G Ro...|\n",
            "|Gheorghe|    34|         [PC, Sauna]|\n",
            "| Grigore|    44|[WII, Piscina, Pi...|\n",
            "|   Horia|    42|       [Piscina, AC]|\n",
            "+--------+------+--------------------+\n",
            "only showing top 5 rows\n",
            "\n"
          ]
        }
      ]
    },
    {
      "cell_type": "code",
      "source": [
        "df_consumatori = df_selection.withColumn('consumator',f.explode('extra'))\n",
        "df_consumatori.show(15)"
      ],
      "metadata": {
        "colab": {
          "base_uri": "https://localhost:8080/"
        },
        "id": "c5DbNAmEe3gq",
        "outputId": "31f4d2b5-53d7-414f-ab43-d534c3fec4a1"
      },
      "execution_count": 93,
      "outputs": [
        {
          "output_type": "stream",
          "name": "stdout",
          "text": [
            "+--------+------+--------------------+----------+\n",
            "|    nume|varsta|               extra|consumator|\n",
            "+--------+------+--------------------+----------+\n",
            "| Gabriel|    44|[5G Router, Sauna...| 5G Router|\n",
            "| Gabriel|    44|[5G Router, Sauna...|     Sauna|\n",
            "| Gabriel|    44|[5G Router, Sauna...|        PV|\n",
            "|  George|    46|[5G Router, 5G Ro...| 5G Router|\n",
            "|  George|    46|[5G Router, 5G Ro...| 5G Router|\n",
            "|  George|    46|[5G Router, 5G Ro...|       WII|\n",
            "|Gheorghe|    34|         [PC, Sauna]|        PC|\n",
            "|Gheorghe|    34|         [PC, Sauna]|     Sauna|\n",
            "| Grigore|    44|[WII, Piscina, Pi...|       WII|\n",
            "| Grigore|    44|[WII, Piscina, Pi...|   Piscina|\n",
            "| Grigore|    44|[WII, Piscina, Pi...|   Piscina|\n",
            "|   Horia|    42|       [Piscina, AC]|   Piscina|\n",
            "|   Horia|    42|       [Piscina, AC]|        AC|\n",
            "|    Ilie|    26|                [EV]|        EV|\n",
            "|     Ion|    27|               [PS5]|       PS5|\n",
            "+--------+------+--------------------+----------+\n",
            "only showing top 15 rows\n",
            "\n"
          ]
        }
      ]
    },
    {
      "cell_type": "code",
      "source": [
        "df_consumatori_stats = (\n",
        "    df_consumatori\n",
        "    .groupBy('consumator')\\\n",
        "    .agg(\n",
        "        f.countDistinct(f.col('nume')).alias('nr persoane'),\\\n",
        "        f.mean('varsta').cast('decimal(5,2)').alias('varsta medie')\\\n",
        "        ))\n",
        "df_consumatori_stats.show()"
      ],
      "metadata": {
        "colab": {
          "base_uri": "https://localhost:8080/"
        },
        "id": "c_b3H2Tif21z",
        "outputId": "7f2e92e2-95f0-4386-be38-1984a021c193"
      },
      "execution_count": 94,
      "outputs": [
        {
          "output_type": "stream",
          "name": "stdout",
          "text": [
            "+----------+-----------+------------+\n",
            "|consumator|nr persoane|varsta medie|\n",
            "+----------+-----------+------------+\n",
            "|        PC|          9|       43.11|\n",
            "|3D Printer|         21|       42.38|\n",
            "| 5G Router|         17|       41.44|\n",
            "|     Sauna|         17|       42.39|\n",
            "|      XBOX|         21|       37.67|\n",
            "|        EV|         14|       38.14|\n",
            "|   Piscina|         11|       41.75|\n",
            "|       WII|         15|       40.25|\n",
            "|        PV|          8|       38.63|\n",
            "|       PS5|         13|       40.07|\n",
            "|        AC|         14|       41.29|\n",
            "+----------+-----------+------------+\n",
            "\n"
          ]
        }
      ]
    },
    {
      "cell_type": "code",
      "source": [
        "\"\"\"\n",
        "3- Afișarea numărului de oameni, vârsta medie, vechimea medie și lista zonelor (unice) per număr consumatori.\n",
        "\"\"\"\n"
      ],
      "metadata": {
        "id": "SHL0TyaolmQs"
      },
      "execution_count": null,
      "outputs": []
    },
    {
      "cell_type": "code",
      "source": [
        "df_new_select = df_customers.withColumn('consume cnt',f.when(      f.size(f.col('extra')) > 0,      f.size(f.col('extra'))).otherwise(f.lit(0))  )\n",
        "df_new_select.show(5)"
      ],
      "metadata": {
        "colab": {
          "base_uri": "https://localhost:8080/"
        },
        "id": "U-rW_SVBluW1",
        "outputId": "846cc5db-a29a-4681-acee-632bb0f09a37"
      },
      "execution_count": null,
      "outputs": [
        {
          "output_type": "stream",
          "name": "stdout",
          "text": [
            "+--------+------+------------------+-------+-------+----+--------------------+-----------+\n",
            "|    nume|varsta|          ocupatie|vechime|inactiv|zona|               extra|consume cnt|\n",
            "+--------+------+------------------+-------+-------+----+--------------------+-----------+\n",
            "| Gabriel|    44|Specialist vânzări|     21|   null|   E|[5G Router, Sauna...|          3|\n",
            "|  George|    46|   Agent imobiliar|     25|  false|   G|[5G Router, 5G Ro...|          3|\n",
            "|Gheorghe|    34|     Specialist HR|      8|   null|   D|         [PC, Sauna]|          2|\n",
            "| Grigore|    44|Specialist vânzări|     21|   null|   E|[WII, Piscina, Pi...|          3|\n",
            "|   Horia|    42|          Arhitect|     18|   null|   E|       [Piscina, AC]|          2|\n",
            "+--------+------+------------------+-------+-------+----+--------------------+-----------+\n",
            "only showing top 5 rows\n",
            "\n"
          ]
        }
      ]
    },
    {
      "cell_type": "code",
      "source": [
        "df_new = df_new_select.groupBy('consume cnt').agg(\n",
        "    f.countDistinct('nume').alias('nr de persoane'),\n",
        "    f.mean('varsta').alias('varsta medie'),\n",
        "    f.mean('vechime').alias('vechime media'),\n",
        "    f.collect_list('zona').alias('lista zone')\n",
        ")\n",
        "df_new.show()"
      ],
      "metadata": {
        "colab": {
          "base_uri": "https://localhost:8080/"
        },
        "id": "RiYDinA5n0iD",
        "outputId": "0ef83850-dd8a-4734-c5d9-94d9aeefefbf"
      },
      "execution_count": null,
      "outputs": [
        {
          "output_type": "stream",
          "name": "stdout",
          "text": [
            "+-----------+--------------+------------------+------------------+--------------------+\n",
            "|consume cnt|nr de persoane|      varsta medie|     vechime media|          lista zone|\n",
            "+-----------+--------------+------------------+------------------+--------------------+\n",
            "|          1|            25|             30.04|               5.8|[B, B, B, C, B, G...|\n",
            "|          3|            28|             45.75|24.178571428571427|[G, E, G, G, E, E...|\n",
            "|          2|            31|38.096774193548384|13.161290322580646|[E, E, E, E, E, D...|\n",
            "|          0|            26|23.653846153846153|1.6923076923076923|[A, E, B, A, B, A...|\n",
            "+-----------+--------------+------------------+------------------+--------------------+\n",
            "\n"
          ]
        }
      ]
    },
    {
      "cell_type": "code",
      "source": [
        "\"\"\"\n",
        "4- Afișarea numărului de oameni, vechimea medie, și numărul mediu de consumatori per categorie de vârstă (15- 19, 20-24, 25-29, ...)\n",
        "\"\"\"\n",
        "exp =  f.when((f.col('varsta') >= f.lit(15) )&( f.col('varsta') <= f.lit(39)) , f.lit('15 - 39 ani')).when((f.col('varsta') >= f.lit(40) )&( f.col('varsta') <= f.lit(59) ), f.lit('40 - 59 ani' )).otherwise(f.lit(' >= 60'))\n",
        "\n",
        "df_add_varstagroup = (\n",
        "    df_customers\n",
        "    .withColumn('categ varsta', exp)\n",
        ")\n",
        "\n",
        "df_add_varstagroup.show(15)"
      ],
      "metadata": {
        "colab": {
          "base_uri": "https://localhost:8080/"
        },
        "id": "hBgg-c0ZqF8w",
        "outputId": "676edc3d-9157-4106-8b2d-38b0cc82b075"
      },
      "execution_count": null,
      "outputs": [
        {
          "output_type": "stream",
          "name": "stdout",
          "text": [
            "+---------+------+--------------------+-------+-------+----+--------------------+------------+\n",
            "|     nume|varsta|            ocupatie|vechime|inactiv|zona|               extra|categ varsta|\n",
            "+---------+------+--------------------+-------+-------+----+--------------------+------------+\n",
            "|  Gabriel|    44|  Specialist vânzări|     21|   null|   E|[5G Router, Sauna...| 40 - 59 ani|\n",
            "|   George|    46|     Agent imobiliar|     25|  false|   G|[5G Router, 5G Ro...| 40 - 59 ani|\n",
            "| Gheorghe|    34|       Specialist HR|      8|   null|   D|         [PC, Sauna]| 15 - 39 ani|\n",
            "|  Grigore|    44|  Specialist vânzări|     21|   null|   E|[WII, Piscina, Pi...| 40 - 59 ani|\n",
            "|    Horia|    42|            Arhitect|     18|   null|   E|       [Piscina, AC]| 40 - 59 ani|\n",
            "|     Ilie|    26|     Vânzător retail|      2|   null|   B|                [EV]| 15 - 39 ani|\n",
            "|      Ion|    27|     Vânzător retail|      2|   null|   B|               [PS5]| 15 - 39 ani|\n",
            "|    Ionel|    45|       Inginer civil|     23|   null|   G|[EV, XBOX, 5G Rou...| 40 - 59 ani|\n",
            "|    Iosif|    26|            Contabil|      2|   null|   B|                null| 15 - 39 ani|\n",
            "|   Lucian|    49|     Designer grafic|     30|  false|   G|[3D Printer, XBOX...| 40 - 59 ani|\n",
            "|   Andrei|    38|Specialist marketing|     13|   null|   D|            [AC, PV]| 15 - 39 ani|\n",
            "|Alexandru|    34|       Specialist HR|      8|   null|   D|        [Sauna, WII]| 15 - 39 ani|\n",
            "|   Adrian|    45|     Asistent social|     23|   null|   E|[3D Printer, PV, ...| 40 - 59 ani|\n",
            "|     Alin|    26|            Contabil|      2|   null|   B|              [XBOX]| 15 - 39 ani|\n",
            "|    Anton|    40|     Manager proiect|     15|   null|   E|[Piscina, 5G Router]| 40 - 59 ani|\n",
            "+---------+------+--------------------+-------+-------+----+--------------------+------------+\n",
            "only showing top 15 rows\n",
            "\n"
          ]
        }
      ]
    },
    {
      "cell_type": "code",
      "source": [
        "df_calc_by_varsta =  df_add_varstagroup.groupBy('categ varsta').agg(f.count('nume'))\n",
        "\n",
        "df_calc_by_varsta.show()"
      ],
      "metadata": {
        "colab": {
          "base_uri": "https://localhost:8080/"
        },
        "id": "RqyyEggUxKp-",
        "outputId": "66e03807-1920-4c4b-8e54-d69b6d640509"
      },
      "execution_count": null,
      "outputs": [
        {
          "output_type": "stream",
          "name": "stdout",
          "text": [
            "+------------+-----------+\n",
            "|categ varsta|count(nume)|\n",
            "+------------+-----------+\n",
            "| 15 - 39 ani|         65|\n",
            "| 40 - 59 ani|         45|\n",
            "+------------+-----------+\n",
            "\n"
          ]
        }
      ]
    },
    {
      "cell_type": "code",
      "source": [
        "\"\"\"\n",
        "Gruparea și Transformarea datelor\n",
        "Dorim să obținem și mai multe perspective de ansamblu asupra clienților.\n",
        "1 -  Adăugarea coloanei „numar_ani_ramasi” egală cu diferența dintre vechimea persoanei și vechimea medie a\n",
        "persoanelor din zona din care face parte.\n",
        "\n",
        "\"\"\""
      ],
      "metadata": {
        "id": "VbXDiywAyPd6"
      },
      "execution_count": null,
      "outputs": []
    },
    {
      "cell_type": "code",
      "source": [
        "df_medie_vechime_pe_zona = (\n",
        "    df_customers\\\n",
        "      .groupBy('zona')\\\n",
        "      .agg(\\\n",
        "          f.mean('vechime')\\\n",
        "          .cast('decimal(10,2)')\\\n",
        "          .alias('vechime_medie')\\\n",
        "          )\n",
        ")\n",
        "df_medie_vechime_pe_zona .show()"
      ],
      "metadata": {
        "colab": {
          "base_uri": "https://localhost:8080/"
        },
        "id": "bwMCe2C54d0n",
        "outputId": "8a4e16b4-55b2-4f72-d515-0fd56fdf9268"
      },
      "execution_count": 106,
      "outputs": [
        {
          "output_type": "stream",
          "name": "stdout",
          "text": [
            "+----+-------------+\n",
            "|zona|vechime_medie|\n",
            "+----+-------------+\n",
            "|   E|        19.17|\n",
            "|   B|         2.55|\n",
            "|   D|        11.59|\n",
            "|   C|         6.45|\n",
            "|   A|         2.17|\n",
            "|   G|        24.36|\n",
            "+----+-------------+\n",
            "\n"
          ]
        }
      ]
    },
    {
      "cell_type": "code",
      "source": [
        "df_customers_ani_ramasi = (\n",
        "df_customers\\\n",
        "      .join(df_medie_vechime_pe_zona,on = 'zona')\\\n",
        "      .withColumn('numar_ani_ramasi',f.col('vechime') - f.col('vechime_medie'))\\\n",
        ")\n",
        "df_customers_ani_ramasi.show()"
      ],
      "metadata": {
        "colab": {
          "base_uri": "https://localhost:8080/"
        },
        "id": "RpqSUpeh7LHp",
        "outputId": "1cbe355c-25c9-4a47-f9c0-19f05dd5180b"
      },
      "execution_count": 109,
      "outputs": [
        {
          "output_type": "stream",
          "name": "stdout",
          "text": [
            "+----+---------+------+--------------------+-------+-------+--------------------+-------------+----------------+\n",
            "|zona|     nume|varsta|            ocupatie|vechime|inactiv|               extra|vechime_medie|numar_ani_ramasi|\n",
            "+----+---------+------+--------------------+-------+-------+--------------------+-------------+----------------+\n",
            "|   E|  Gabriel|    44|  Specialist vânzări|     21|   null|[5G Router, Sauna...|        19.17|            1.83|\n",
            "|   G|   George|    46|     Agent imobiliar|     25|  false|[5G Router, 5G Ro...|        24.36|            0.64|\n",
            "|   D| Gheorghe|    34|       Specialist HR|      8|   null|         [PC, Sauna]|        11.59|           -3.59|\n",
            "|   E|  Grigore|    44|  Specialist vânzări|     21|   null|[WII, Piscina, Pi...|        19.17|            1.83|\n",
            "|   E|    Horia|    42|            Arhitect|     18|   null|       [Piscina, AC]|        19.17|           -1.17|\n",
            "|   B|     Ilie|    26|     Vânzător retail|      2|   null|                [EV]|         2.55|           -0.55|\n",
            "|   B|      Ion|    27|     Vânzător retail|      2|   null|               [PS5]|         2.55|           -0.55|\n",
            "|   G|    Ionel|    45|       Inginer civil|     23|   null|[EV, XBOX, 5G Rou...|        24.36|           -1.36|\n",
            "|   B|    Iosif|    26|            Contabil|      2|   null|                null|         2.55|           -0.55|\n",
            "|   G|   Lucian|    49|     Designer grafic|     30|  false|[3D Printer, XBOX...|        24.36|            5.64|\n",
            "|   D|   Andrei|    38|Specialist marketing|     13|   null|            [AC, PV]|        11.59|            1.41|\n",
            "|   D|Alexandru|    34|       Specialist HR|      8|   null|        [Sauna, WII]|        11.59|           -3.59|\n",
            "|   E|   Adrian|    45|     Asistent social|     23|   null|[3D Printer, PV, ...|        19.17|            3.83|\n",
            "|   B|     Alin|    26|            Contabil|      2|   null|              [XBOX]|         2.55|           -0.55|\n",
            "|   E|    Anton|    40|     Manager proiect|     15|   null|[Piscina, 5G Router]|        19.17|           -4.17|\n",
            "|   D|      Ana|    35|       Specialist HR|      9|   null|    [EV, 3D Printer]|        11.59|           -2.59|\n",
            "|   G|   Bogdan|    50|           Farmacist|     32|  false|[EV, Sauna, 5G Ro...|        24.36|            7.64|\n",
            "|   A|  Cătălin|    20|            Educator|      0|   true|                null|         2.17|           -2.17|\n",
            "|   G|   Cosmin|    49|           Farmacist|     31|   null|[3D Printer, XBOX...|        24.36|            6.64|\n",
            "|   E| Cristian|    44|  Specialist vânzări|     21|  false|   [XBOX, Sauna, PV]|        19.17|            1.83|\n",
            "+----+---------+------+--------------------+-------+-------+--------------------+-------------+----------------+\n",
            "only showing top 20 rows\n",
            "\n"
          ]
        }
      ]
    },
    {
      "cell_type": "code",
      "source": [
        "\"\"\"\n",
        "2 -  Adăugarea coloanei „peste_medie” booleană cu True dacă coloana „numar_ani_ramasi” este pozitivă și False\n",
        "dacă nu.\n",
        "\n",
        "\"\"\""
      ],
      "metadata": {
        "id": "UF4iU3ZN7yKQ"
      },
      "execution_count": null,
      "outputs": []
    },
    {
      "cell_type": "code",
      "source": [
        "df_add_flag_peste_medie = (\n",
        "    df_customers_ani_ramasi\\\n",
        "    .withColumn('peste_medie',\\\n",
        "                f.when(\\\n",
        "                       f.col('numar_ani_ramasi') > 0,\\\n",
        "                       f.lit(True))\\\n",
        "                .otherwise(f.lit(False))\\\n",
        "                )\n",
        ")\n",
        "df_add_flag_peste_medie.show()"
      ],
      "metadata": {
        "colab": {
          "base_uri": "https://localhost:8080/"
        },
        "id": "F4MZuYG98QTO",
        "outputId": "866cc928-8e6a-4811-bb9d-0edbd9f2d26f"
      },
      "execution_count": 111,
      "outputs": [
        {
          "output_type": "stream",
          "name": "stdout",
          "text": [
            "+----+---------+------+--------------------+-------+-------+--------------------+-------------+----------------+-----------+\n",
            "|zona|     nume|varsta|            ocupatie|vechime|inactiv|               extra|vechime_medie|numar_ani_ramasi|peste_medie|\n",
            "+----+---------+------+--------------------+-------+-------+--------------------+-------------+----------------+-----------+\n",
            "|   E|  Gabriel|    44|  Specialist vânzări|     21|   null|[5G Router, Sauna...|        19.17|            1.83|       true|\n",
            "|   G|   George|    46|     Agent imobiliar|     25|  false|[5G Router, 5G Ro...|        24.36|            0.64|       true|\n",
            "|   D| Gheorghe|    34|       Specialist HR|      8|   null|         [PC, Sauna]|        11.59|           -3.59|      false|\n",
            "|   E|  Grigore|    44|  Specialist vânzări|     21|   null|[WII, Piscina, Pi...|        19.17|            1.83|       true|\n",
            "|   E|    Horia|    42|            Arhitect|     18|   null|       [Piscina, AC]|        19.17|           -1.17|      false|\n",
            "|   B|     Ilie|    26|     Vânzător retail|      2|   null|                [EV]|         2.55|           -0.55|      false|\n",
            "|   B|      Ion|    27|     Vânzător retail|      2|   null|               [PS5]|         2.55|           -0.55|      false|\n",
            "|   G|    Ionel|    45|       Inginer civil|     23|   null|[EV, XBOX, 5G Rou...|        24.36|           -1.36|      false|\n",
            "|   B|    Iosif|    26|            Contabil|      2|   null|                null|         2.55|           -0.55|      false|\n",
            "|   G|   Lucian|    49|     Designer grafic|     30|  false|[3D Printer, XBOX...|        24.36|            5.64|       true|\n",
            "|   D|   Andrei|    38|Specialist marketing|     13|   null|            [AC, PV]|        11.59|            1.41|       true|\n",
            "|   D|Alexandru|    34|       Specialist HR|      8|   null|        [Sauna, WII]|        11.59|           -3.59|      false|\n",
            "|   E|   Adrian|    45|     Asistent social|     23|   null|[3D Printer, PV, ...|        19.17|            3.83|       true|\n",
            "|   B|     Alin|    26|            Contabil|      2|   null|              [XBOX]|         2.55|           -0.55|      false|\n",
            "|   E|    Anton|    40|     Manager proiect|     15|   null|[Piscina, 5G Router]|        19.17|           -4.17|      false|\n",
            "|   D|      Ana|    35|       Specialist HR|      9|   null|    [EV, 3D Printer]|        11.59|           -2.59|      false|\n",
            "|   G|   Bogdan|    50|           Farmacist|     32|  false|[EV, Sauna, 5G Ro...|        24.36|            7.64|       true|\n",
            "|   A|  Cătălin|    20|            Educator|      0|   true|                null|         2.17|           -2.17|      false|\n",
            "|   G|   Cosmin|    49|           Farmacist|     31|   null|[3D Printer, XBOX...|        24.36|            6.64|       true|\n",
            "|   E| Cristian|    44|  Specialist vânzări|     21|  false|   [XBOX, Sauna, PV]|        19.17|            1.83|       true|\n",
            "+----+---------+------+--------------------+-------+-------+--------------------+-------------+----------------+-----------+\n",
            "only showing top 20 rows\n",
            "\n"
          ]
        }
      ]
    },
    {
      "cell_type": "code",
      "source": [
        "\"\"\"\n",
        "\n",
        "3 -  Grupați după coloana „peste_medie” și afișați numărul total de persoane din fiecare categorie.\n",
        "\n",
        "\n",
        "\"\"\""
      ],
      "metadata": {
        "id": "14nBrMAH71wu"
      },
      "execution_count": null,
      "outputs": []
    },
    {
      "cell_type": "code",
      "source": [
        "df_add_flag_peste_medie\\\n",
        "      .groupBy('peste_medie')\\\n",
        "      .agg(f.count('nume').alias('numar de persoane'))\\\n",
        "      .show()"
      ],
      "metadata": {
        "colab": {
          "base_uri": "https://localhost:8080/"
        },
        "id": "4GHCuC_v8veh",
        "outputId": "a95f051e-543a-413c-ae07-3ae67bd6ccbf"
      },
      "execution_count": 115,
      "outputs": [
        {
          "output_type": "stream",
          "name": "stdout",
          "text": [
            "+-----------+-----------------+\n",
            "|peste_medie|numar de persoane|\n",
            "+-----------+-----------------+\n",
            "|       true|               42|\n",
            "|      false|               68|\n",
            "+-----------+-----------------+\n",
            "\n"
          ]
        }
      ]
    },
    {
      "cell_type": "code",
      "source": [
        "# Descrierea obiectivului exemplului de cod din curs de la finalul acestei secțiuni."
      ],
      "metadata": {
        "id": "tU0E1QLa755I"
      },
      "execution_count": null,
      "outputs": []
    },
    {
      "cell_type": "markdown",
      "source": [],
      "metadata": {
        "id": "DKeRtLqA4QVn"
      }
    },
    {
      "cell_type": "code",
      "source": [
        "from pyspark.sql import SparkSession, functions as f, Window\n",
        "\n",
        "# path = '/content/drive/MyDrive/Colab Notebooks/Data/practice/json'\n",
        "# data_df = spark.read.format('json').load(path)\n",
        "\n",
        "window = Window.partitionBy('unitate_varsta').orderBy('vechime').rangeBetween(-2, 2)\n",
        "\n",
        "processed_data_df = (\n",
        "    df_customers\n",
        "    .withColumn('inactiv', f.coalesce(f.col('inactiv'), f.lit(False)))\n",
        "    .withColumn('unitate_varsta', f.floor(f.col('varsta') / 5))\n",
        "    .withColumn('nr_contracte_similare_inactive', f.sum(f.col('inactiv').cast('integer')).over(window))\n",
        "    .withColumn('nr_contracte_similare', f.count(f.col('inactiv')).over(window))\n",
        "    .withColumn('probabilitate_inactivare',\\\n",
        "                (f .col('nr_contracte_similare_inactive') / f.col('nr_contracte_similare')).cast('decimal(5,4)')\\\n",
        "    ))\\\n",
        "    .show(50)#.drop('extra','nume','ocupatie').filter(f.col('unitate_varsta') == f.lit(4))\n",
        "\n"
      ],
      "metadata": {
        "colab": {
          "base_uri": "https://localhost:8080/"
        },
        "id": "4Yc9hCg7-pxw",
        "outputId": "80c39059-e193-461a-bada-9cf3b1f2ceef",
        "collapsed": true
      },
      "execution_count": 84,
      "outputs": [
        {
          "output_type": "stream",
          "name": "stdout",
          "text": [
            "+---------+------+--------------------+-------+-------+----+--------------------+--------------+------------------------------+---------------------+------------------------+\n",
            "|     nume|varsta|            ocupatie|vechime|inactiv|zona|               extra|unitate_varsta|nr_contracte_similare_inactive|nr_contracte_similare|probabilitate_inactivare|\n",
            "+---------+------+--------------------+-------+-------+----+--------------------+--------------+------------------------------+---------------------+------------------------+\n",
            "| Victoria|    38|        Medic primar|      6|  false|   G|                null|             7|                             0|                    1|                  0.0000|\n",
            "|      Ana|    35|       Specialist HR|      9|  false|   D|    [EV, 3D Printer]|             7|                             0|                    7|                  0.0000|\n",
            "|    Laura|    36|  Muncitor alimentar|     10|  false|   D|[3D Printer, 3D P...|             7|                             0|                    7|                  0.0000|\n",
            "|  Claudia|    36|         Electrician|     10|  false|   D|   [XBOX, 5G Router]|             7|                             0|                    7|                  0.0000|\n",
            "| Octavian|    37|         Electrician|     11|  false|   D|       [XBOX, Sauna]|             7|                             0|                    9|                  0.0000|\n",
            "|Magdalena|    37|         Electrician|     11|  false|   D|           [WII, AC]|             7|                             0|                    9|                  0.0000|\n",
            "|   Larisa|    37|         Electrician|     11|  false|   D|            [AC, AC]|             7|                             0|                    9|                  0.0000|\n",
            "|    Doina|    37|         Electrician|     11|  false|   D|          [WII, PS5]|             7|                             0|                    9|                  0.0000|\n",
            "|   Andrei|    38|Specialist marketing|     13|  false|   D|            [AC, PV]|             7|                             0|                    9|                  0.0000|\n",
            "| Gabriela|    38|Specialist marketing|     13|  false|   D|            [AC, PC]|             7|                             0|                    9|                  0.0000|\n",
            "|      Lia|    39|  Operator producție|     14|  false|   D|    [3D Printer, EV]|             7|                             0|                    5|                  0.0000|\n",
            "|   Darius|    39|  Operator producție|     14|  false|   D|   [WII, 3D Printer]|             7|                             0|                    5|                  0.0000|\n",
            "|   Dragoș|    39|  Operator producție|     14|  false|   D|  [Sauna, 5G Router]|             7|                             0|                    5|                  0.0000|\n",
            "|     Anca|    30|Operator call center|      4|  false|   C|                [EV]|             6|                             0|                    7|                  0.0000|\n",
            "|  Camelia|    30|               Șofer|      4|  false|   C|                [AC]|             6|                             0|                    7|                  0.0000|\n",
            "|    Sorin|    30|Operator call center|      4|  false|   C|               [PS5]|             6|                             0|                    7|                  0.0000|\n",
            "|  Mariana|    31|             Bucătar|      5|  false|   C|           [Piscina]|             6|                             0|                    8|                  0.0000|\n",
            "|   Mircea|    32|   Analist financiar|      6|  false|   C|                [AC]|             6|                             1|                   13|                  0.0769|\n",
            "| Loredana|    32|             Bucătar|      6|  false|   C|              [XBOX]|             6|                             1|                   13|                  0.0769|\n",
            "|  Tiberiu|    32|   Analist financiar|      6|  false|   C|               [PS5]|             6|                             1|                   13|                  0.0769|\n",
            "|    Daria|    33|     Inginer mecanic|      7|  false|   C|                [PV]|             6|                             1|                   10|                  0.1000|\n",
            "| Gheorghe|    34|       Specialist HR|      8|  false|   D|         [PC, Sauna]|             6|                             1|                    9|                  0.1111|\n",
            "|Alexandru|    34|       Specialist HR|      8|  false|   D|        [Sauna, WII]|             6|                             1|                    9|                  0.1111|\n",
            "|    Maria|    34|       Specialist HR|      8|  false|   D|            [PV, EV]|             6|                             1|                    9|                  0.1111|\n",
            "|  Felicia|    34|       Specialist HR|      8|  false|   D|          [WII, WII]|             6|                             1|                    9|                  0.1111|\n",
            "|    Eugen|    32|            Profesor|      8|   true|   A|               [PS5]|             6|                             1|                    9|                  0.1111|\n",
            "|     Vlad|    34|          Instalator|     11|  false|   B|                [EV]|             6|                             0|                    1|                  0.0000|\n",
            "|   Otilia|    45|            Educator|     21|  false|   C|           [WII, AC]|             9|                             0|                    9|                  0.0000|\n",
            "|    Petru|    45|     Asistent social|     22|  false|   E|       [AC, PS5, AC]|             9|                             0|                   11|                  0.0000|\n",
            "|      Ana|    45|     Asistent social|     22|  false|   E|[Sauna, Piscina, ...|             9|                             0|                   11|                  0.0000|\n",
            "|  Diandra|    45|     Asistent social|     22|  false|   E|[3D Printer, AC, AC]|             9|                             0|                   11|                  0.0000|\n",
            "|    Ionel|    45|       Inginer civil|     23|  false|   G|[EV, XBOX, 5G Rou...|             9|                             0|                   13|                  0.0000|\n",
            "|   Adrian|    45|     Asistent social|     23|  false|   E|[3D Printer, PV, ...|             9|                             0|                   13|                  0.0000|\n",
            "|    Lidia|    45|     Asistent social|     23|  false|   E|   [EV, Sauna, XBOX]|             9|                             0|                   13|                  0.0000|\n",
            "|  Daniela|    45|     Asistent social|     23|  false|   E| [PS5, Piscina, WII]|             9|                             0|                   13|                  0.0000|\n",
            "|    Diana|    45|     Asistent social|     23|  false|   E|   [XBOX, Sauna, AC]|             9|                             0|                   13|                  0.0000|\n",
            "|   Zamfir|    46|       Inginer civil|     24|  false|   G|[Sauna, 5G Router...|             9|                             0|                   13|                  0.0000|\n",
            "|  Dumitru|    46|       Inginer civil|     24|  false|   G|[PC, XBOX, 3D Pri...|             9|                             0|                   13|                  0.0000|\n",
            "|   George|    46|     Agent imobiliar|     25|  false|   G|[5G Router, 5G Ro...|             9|                             0|                   10|                  0.0000|\n",
            "| Cristina|    46|       Inginer civil|     25|  false|   G|[PS5, XBOX, 5G Ro...|             9|                             0|                   10|                  0.0000|\n",
            "|   Ștefan|    47|     Agent imobiliar|     26|  false|   G|     [XBOX, PS5, PC]|             9|                             0|                    5|                  0.0000|\n",
            "|   Lucian|    49|     Designer grafic|     30|  false|   G|[3D Printer, XBOX...|             9|                             0|                    3|                  0.0000|\n",
            "|  Mihaela|    49|     Designer grafic|     30|  false|   G|[PC, 3D Printer, AC]|             9|                             0|                    3|                  0.0000|\n",
            "|   Cosmin|    49|           Farmacist|     31|  false|   G|[3D Printer, XBOX...|             9|                             0|                    3|                  0.0000|\n",
            "|   Marian|    25|            Contabil|      1|  false|   B|                null|             5|                             0|                   14|                  0.0000|\n",
            "|    Elena|    25|         Programator|      1|  false|   B|                null|             5|                             0|                   14|                  0.0000|\n",
            "|   Emilia|    25|            Contabil|      1|  false|   B|                null|             5|                             0|                   14|                  0.0000|\n",
            "|     Ilie|    26|     Vânzător retail|      2|  false|   B|                [EV]|             5|                             0|                   16|                  0.0000|\n",
            "|      Ion|    27|     Vânzător retail|      2|  false|   B|               [PS5]|             5|                             0|                   16|                  0.0000|\n",
            "|    Iosif|    26|            Contabil|      2|  false|   B|                null|             5|                             0|                   16|                  0.0000|\n",
            "+---------+------+--------------------+-------+-------+----+--------------------+--------------+------------------------------+---------------------+------------------------+\n",
            "only showing top 50 rows\n",
            "\n"
          ]
        }
      ]
    },
    {
      "cell_type": "code",
      "source": [
        "\"\"\"\n",
        "Uniunea și asocierea datelor\n",
        "Folosind informațiile suplimentare despre clienți și zona din care fac parte, calculați următoarele statistici:\n",
        "1 -  Afișarea numărului de oameni, vârsta medie, vechimea medie și procentajul de contracte active per tarif.\n",
        "\n",
        "\"\"\""
      ],
      "metadata": {
        "id": "tGmcUNgEydsZ"
      },
      "execution_count": null,
      "outputs": []
    },
    {
      "cell_type": "code",
      "source": [
        "df_customers.show(5)\n",
        "df_tariff.show(5)"
      ],
      "metadata": {
        "colab": {
          "base_uri": "https://localhost:8080/"
        },
        "id": "pKwENeLw325d",
        "outputId": "b1525467-0cd7-45db-b088-eddb5b67cb21"
      },
      "execution_count": 116,
      "outputs": [
        {
          "output_type": "stream",
          "name": "stdout",
          "text": [
            "+--------+------+------------------+-------+-------+----+--------------------+\n",
            "|    nume|varsta|          ocupatie|vechime|inactiv|zona|               extra|\n",
            "+--------+------+------------------+-------+-------+----+--------------------+\n",
            "| Gabriel|    44|Specialist vânzări|     21|   null|   E|[5G Router, Sauna...|\n",
            "|  George|    46|   Agent imobiliar|     25|  false|   G|[5G Router, 5G Ro...|\n",
            "|Gheorghe|    34|     Specialist HR|      8|   null|   D|         [PC, Sauna]|\n",
            "| Grigore|    44|Specialist vânzări|     21|   null|   E|[WII, Piscina, Pi...|\n",
            "|   Horia|    42|          Arhitect|     18|   null|   E|       [Piscina, AC]|\n",
            "+--------+------+------------------+-------+-------+----+--------------------+\n",
            "only showing top 5 rows\n",
            "\n",
            "+---------+--------+\n",
            "|     nume|   tarif|\n",
            "+---------+--------+\n",
            "|   Andrei| dinamic|\n",
            "|Alexandru| dinamic|\n",
            "|   Adrian|   zonal|\n",
            "|     Alin|standard|\n",
            "|    Anton|   zonal|\n",
            "+---------+--------+\n",
            "only showing top 5 rows\n",
            "\n"
          ]
        }
      ]
    },
    {
      "cell_type": "code",
      "source": [
        "# procentajul de contracte active per tarif.\n",
        "df_customers.join(df_tariff,on = 'nume')\\\n",
        ".groupBy('tarif')\\\n",
        ".agg(\\\n",
        "     f.count('nume').alias('nr de persoane'),\\\n",
        "     f.mean('varsta').cast('decimal(7,2)').alias('varsta medie'),\\\n",
        "     f.mean('vechime').cast('decimal(7,2)').alias('vechime medie'),\\\n",
        "     (f.sum(f.coalesce(f.col('inactiv'), f.lit(False)).cast('integer')) / f.count('nume'))\\\n",
        "     .cast('decimal(7,2)')\\\n",
        "     .alias('procent contr active')\\\n",
        ").show()"
      ],
      "metadata": {
        "colab": {
          "base_uri": "https://localhost:8080/"
        },
        "id": "wcjX4u9_DdvU",
        "outputId": "4ed1f4e6-62c7-4e8d-80fe-a341139e4249"
      },
      "execution_count": 124,
      "outputs": [
        {
          "output_type": "stream",
          "name": "stdout",
          "text": [
            "+--------+--------------+------------+-------------+--------------------+\n",
            "|   tarif|nr de persoane|varsta medie|vechime medie|procent contr active|\n",
            "+--------+--------------+------------+-------------+--------------------+\n",
            "| dinamic|            30|       34.17|         8.83|                0.03|\n",
            "|   zonal|            44|       43.84|        21.52|                0.00|\n",
            "|standard|            38|       25.11|         2.45|                0.29|\n",
            "+--------+--------------+------------+-------------+--------------------+\n",
            "\n"
          ]
        }
      ]
    },
    {
      "cell_type": "code",
      "source": [
        "\"\"\"\n",
        "\n",
        "2 -  Afișarea numărului de oameni, vârsta medie, vechimea medie și procentajul de contracte active per mediu.\n",
        "\n",
        "\"\"\""
      ],
      "metadata": {
        "id": "Nj2MQdWKCz7M"
      },
      "execution_count": null,
      "outputs": []
    },
    {
      "cell_type": "code",
      "source": [
        "df_customers.show(5)\n",
        "df_zone_type.show(5)"
      ],
      "metadata": {
        "colab": {
          "base_uri": "https://localhost:8080/"
        },
        "id": "qN1bnif7C7Uv",
        "outputId": "6d0baa7a-51b2-417a-859e-f9073fc9f5e2"
      },
      "execution_count": 127,
      "outputs": [
        {
          "output_type": "stream",
          "name": "stdout",
          "text": [
            "+--------+------+------------------+-------+-------+----+--------------------+\n",
            "|    nume|varsta|          ocupatie|vechime|inactiv|zona|               extra|\n",
            "+--------+------+------------------+-------+-------+----+--------------------+\n",
            "| Gabriel|    44|Specialist vânzări|     21|   null|   E|[5G Router, Sauna...|\n",
            "|  George|    46|   Agent imobiliar|     25|  false|   G|[5G Router, 5G Ro...|\n",
            "|Gheorghe|    34|     Specialist HR|      8|   null|   D|         [PC, Sauna]|\n",
            "| Grigore|    44|Specialist vânzări|     21|   null|   E|[WII, Piscina, Pi...|\n",
            "|   Horia|    42|          Arhitect|     18|   null|   E|       [Piscina, AC]|\n",
            "+--------+------+------------------+-------+-------+----+--------------------+\n",
            "only showing top 5 rows\n",
            "\n",
            "+----+--------+\n",
            "|zona|   mediu|\n",
            "+----+--------+\n",
            "|   D|Suburban|\n",
            "|   B|Suburban|\n",
            "|   A|   Urban|\n",
            "|   C|   Urban|\n",
            "|   E|   Rural|\n",
            "+----+--------+\n",
            "\n"
          ]
        }
      ]
    },
    {
      "cell_type": "code",
      "source": [
        "df_customers.join(df_zone_type,on = 'zona')\\\n",
        ".groupBy('mediu')\\\n",
        ".agg(\\\n",
        "     f.count('nume').alias('nr de persoane'),\\\n",
        "     f.mean('varsta').cast('decimal(7,2)').alias('varsta medie'),\\\n",
        "     f.mean('vechime').cast('decimal(7,2)').alias('vechime medie'),\\\n",
        "     (f.sum(f.coalesce(f.col('inactiv'), f.lit(False)).cast('integer')) / f.count('nume'))\\\n",
        "     .cast('decimal(7,2)')\\\n",
        "     .alias('procent contr active')\\\n",
        ").show()"
      ],
      "metadata": {
        "colab": {
          "base_uri": "https://localhost:8080/"
        },
        "id": "RhVRforOFFUF",
        "outputId": "6dcc449f-cc76-4f35-9b71-210b213a746d"
      },
      "execution_count": 128,
      "outputs": [
        {
          "output_type": "stream",
          "name": "stdout",
          "text": [
            "+--------+--------------+------------+-------------+--------------------+\n",
            "|   mediu|nr de persoane|varsta medie|vechime medie|procent contr active|\n",
            "+--------+--------------+------------+-------------+--------------------+\n",
            "|   Urban|            29|       25.83|         3.79|                0.38|\n",
            "|Suburban|            37|       31.30|         6.70|                0.03|\n",
            "|   Rural|            30|       42.93|        19.17|                0.00|\n",
            "+--------+--------------+------------+-------------+--------------------+\n",
            "\n"
          ]
        }
      ]
    },
    {
      "cell_type": "code",
      "source": [
        "\"\"\"\n",
        "\n",
        "3 -  Afișarea numărului de oameni, vârsta medie, vechimea medie și procentajul de contracte active per sursă de\n",
        "energie. Dacă această informație nu este valabilă pentru o persoană, este considerată „fosila”.\n",
        "\n",
        "\"\"\""
      ],
      "metadata": {
        "id": "9uJRYzcAC740"
      },
      "execution_count": null,
      "outputs": []
    },
    {
      "cell_type": "code",
      "source": [
        "df_customers.show(5)\n",
        "df_zone_source.show(5)"
      ],
      "metadata": {
        "colab": {
          "base_uri": "https://localhost:8080/"
        },
        "id": "v0wb61H4FVVq",
        "outputId": "a9caa6ae-6d18-4a7d-abbc-b920c3303e57"
      },
      "execution_count": 129,
      "outputs": [
        {
          "output_type": "stream",
          "name": "stdout",
          "text": [
            "+--------+------+------------------+-------+-------+----+--------------------+\n",
            "|    nume|varsta|          ocupatie|vechime|inactiv|zona|               extra|\n",
            "+--------+------+------------------+-------+-------+----+--------------------+\n",
            "| Gabriel|    44|Specialist vânzări|     21|   null|   E|[5G Router, Sauna...|\n",
            "|  George|    46|   Agent imobiliar|     25|  false|   G|[5G Router, 5G Ro...|\n",
            "|Gheorghe|    34|     Specialist HR|      8|   null|   D|         [PC, Sauna]|\n",
            "| Grigore|    44|Specialist vânzări|     21|   null|   E|[WII, Piscina, Pi...|\n",
            "|   Horia|    42|          Arhitect|     18|   null|   E|       [Piscina, AC]|\n",
            "+--------+------+------------------+-------+-------+----+--------------------+\n",
            "only showing top 5 rows\n",
            "\n",
            "+----+--------+---+\n",
            "|zona|   sursa|ani|\n",
            "+----+--------+---+\n",
            "|   D|nucleara| 20|\n",
            "|   B|nucleara| 16|\n",
            "|   C| eoliana|  3|\n",
            "|   D|  fosila| 45|\n",
            "|   C|  fosila| 45|\n",
            "+----+--------+---+\n",
            "only showing top 5 rows\n",
            "\n"
          ]
        }
      ]
    },
    {
      "cell_type": "code",
      "source": [
        "df_customers\\\n",
        ".join(df_zone_source,on = 'zona',how='left')\\\n",
        ".withColumn('sursa',f.coalesce(f.col('sursa'),f.lit('fosila')))\\\n",
        ".groupBy('sursa')\\\n",
        ".agg(\\\n",
        "     f.count('nume').alias('nr de persoane'),\\\n",
        "     f.mean('varsta').cast('decimal(7,2)').alias('varsta medie'),\\\n",
        "     f.mean('vechime').cast('decimal(7,2)').alias('vechime medie'),\\\n",
        "     (f.sum(f.coalesce(f.col('inactiv'), f.lit(False)).cast('integer')) / f.count('nume'))\\\n",
        "     .cast('decimal(7,2)')\\\n",
        "     .alias('procent contr active')\\\n",
        ").show()"
      ],
      "metadata": {
        "colab": {
          "base_uri": "https://localhost:8080/"
        },
        "id": "X_ncEJ9bC_Ci",
        "outputId": "3ff0524c-e3be-4cdd-8456-67d3db43ec21"
      },
      "execution_count": 132,
      "outputs": [
        {
          "output_type": "stream",
          "name": "stdout",
          "text": [
            "+--------+--------------+------------+-------------+--------------------+\n",
            "|   sursa|nr de persoane|varsta medie|vechime medie|procent contr active|\n",
            "+--------+--------------+------------+-------------+--------------------+\n",
            "|nucleara|            37|       31.30|         6.70|                0.03|\n",
            "|  fosila|            72|       40.31|        16.44|                0.00|\n",
            "| eoliana|            11|       32.09|         6.45|                0.00|\n",
            "|  solara|            37|       31.30|         6.70|                0.03|\n",
            "|   hidro|            18|       22.00|         2.17|                0.61|\n",
            "+--------+--------------+------------+-------------+--------------------+\n",
            "\n"
          ]
        }
      ]
    },
    {
      "cell_type": "code",
      "source": [
        "\"\"\"\n",
        "4 -  Afișarea numărului de oameni per sursa de energie și tarif, sortate descrescător după număr doar pentru\n",
        "persoanele cu o vechime mai mică decât ani de utilizare a sursei de energie.\n",
        " Va fi nevoie de efectuat două join-uri aici, unul după altul.\n",
        " \"\"\""
      ],
      "metadata": {
        "id": "-q3Q0dBXC_RU"
      },
      "execution_count": null,
      "outputs": []
    },
    {
      "cell_type": "code",
      "source": [
        "df_customers\\\n",
        ".join(df_tariff, on =   'nume'  )\\\n",
        ".join(df_zone_source,on = 'zona',how='left')\\\n",
        ".withColumn('sursa',f.coalesce(f.col('sursa'),f.lit('fosila')))\\\n",
        ".withColumn('ani',f.coalesce(f.col('ani'),f.lit(0)))\\\n",
        ".where( f.col('vechime') < f.col('ani') )\\\n",
        ".groupBy('sursa','tarif')\\\n",
        ".agg(\\\n",
        "     f.count('nume').alias('nr de persoane'))\\\n",
        ".show()\n"
      ],
      "metadata": {
        "colab": {
          "base_uri": "https://localhost:8080/"
        },
        "id": "CxkzXZMJDCjJ",
        "outputId": "24f674fa-eaa1-44bd-9b52-3787bdf1dd25"
      },
      "execution_count": 151,
      "outputs": [
        {
          "output_type": "stream",
          "name": "stdout",
          "text": [
            "+--------+--------+--------------+\n",
            "|   sursa|   tarif|nr de persoane|\n",
            "+--------+--------+--------------+\n",
            "|nucleara|   zonal|             1|\n",
            "|  fosila|standard|             1|\n",
            "|  solara|standard|             7|\n",
            "|   hidro| dinamic|             1|\n",
            "|nucleara| dinamic|            17|\n",
            "|  fosila| dinamic|            26|\n",
            "|   hidro|standard|            16|\n",
            "|  fosila|   zonal|             2|\n",
            "|nucleara|standard|            19|\n",
            "+--------+--------+--------------+\n",
            "\n"
          ]
        }
      ]
    }
  ]
}