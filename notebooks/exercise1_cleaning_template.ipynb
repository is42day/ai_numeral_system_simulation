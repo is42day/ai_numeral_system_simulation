{
 "cells": [
  {
   "cell_type": "code",
   "execution_count": null,
   "metadata": {},
   "outputs": [],
   "source": [
    "# Cell 1: Setup + Imports\n",
    "from pyspark.sql import SparkSession\n",
    "from pyspark.sql.functions import trim, regexp_replace, col, coalesce, lit, udf\n",
    "from pyspark.sql.types import StringType\n",
    "from unidecode import unidecode\n",
    "from utils.io_helpers import list_files_with_aliases, load_file_with_alias\n",
    "\n",
    "import os\n",
    "\n",
    "spark = SparkSession.builder.appName(\"Exercise 1 - Cleaning\").getOrCreate()\n"
   ]
  },
  {
   "cell_type": "code",
   "execution_count": null,
   "metadata": {},
   "outputs": [],
   "source": [
    "# Cell 2: Select format and folder\n",
    "# Choose between \"json\" or \"parquet\"\n",
    "data_type = \"json\"\n",
    "folder = f\"../data/input/practice/{data_type}\"\n",
    "\n",
    "aliases = list_files_with_aliases(folder, ext=data_type)\n",
    "print(\"Available files:\")\n",
    "for alias, path in aliases.items():\n",
    "    print(f\"{alias}: {path}\")\n"
   ]
  },
  {
   "cell_type": "code",
   "execution_count": null,
   "metadata": {},
   "outputs": [],
   "source": [
    "# Cell 3: Load data using alias\n",
    "alias = \"file1\"  # Change to file2, file3, etc.\n",
    "df = load_file_with_alias(spark, folder, alias=alias, ext=data_type)\n",
    "df.show(truncate=False)\n"
   ]
  },
  {
   "cell_type": "code",
   "execution_count": null,
   "metadata": {},
   "outputs": [],
   "source": [
    "# Cell 4: Cleaning logic\n",
    "remove_accents_udf = udf(lambda s: unidecode(s) if s else None, StringType())\n",
    "\n",
    "df = df.withColumn(\"nume\", trim(col(\"nume\")))\n",
    "df = df.withColumn(\"nume\", remove_accents_udf(\"nume\"))\n",
    "\n",
    "df = df.withColumn(\"ocupatie\", trim(regexp_replace(col(\"ocupatie\"), \"\\s+\", \" \")))\n",
    "\n",
    "def remove_duplicates(val):\n",
    "    if not val:\n",
    "        return None\n",
    "    parts = [x.strip() for x in val.split(',')]\n",
    "    return ', '.join(sorted(set(parts)))\n",
    "\n",
    "remove_dupes_udf = udf(remove_duplicates, StringType())\n",
    "df = df.withColumn(\"extra\", remove_dupes_udf(\"extra\"))\n",
    "\n",
    "df = df.withColumn(\"inactiv\", coalesce(col(\"inactiv\"), lit(False)))\n",
    "\n",
    "df.show(truncate=False)\n"
   ]
  },
  {
   "cell_type": "code",
   "execution_count": null,
   "metadata": {},
   "outputs": [],
   "source": [
    "# Cell 5: Save cleaned output\n",
    "output_ext = \"parquet\" if data_type == \"parquet\" else \"json\"\n",
    "output_path = f\"../data/output/cleaned_{alias}.{output_ext}\"\n",
    "\n",
    "if output_ext == \"json\":\n",
    "    df.write.mode(\"overwrite\").json(output_path)\n",
    "else:\n",
    "    df.write.mode(\"overwrite\").parquet(output_path)\n",
    "\n",
    "print(f\"✅ Saved cleaned output to: {output_path}\")\n"
   ]
  }
 ],
 "metadata": {
  "kernelspec": {
   "display_name": "Python 3",
   "language": "python",
   "name": "python3"
  },
  "language_info": {
   "codemirror_mode": {
    "name": "ipython",
    "version": 3
   },
   "file_extension": ".py",
   "mimetype": "text/x-python",
   "name": "python",
   "nbconvert_exporter": "python",
   "pygments_lexer": "ipython3",
   "version": "3.9.21"
  }
 },
 "nbformat": 4,
 "nbformat_minor": 2
}
