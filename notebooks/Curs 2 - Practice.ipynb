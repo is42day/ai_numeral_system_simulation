{
 "cells": [
  {
   "cell_type": "code",
   "execution_count": null,
   "metadata": {
    "id": "hrgsehW2Mg-E"
   },
   "outputs": [],
   "source": [
    "# ✅ Cell 1: Setup & Load Input Data (with dynamic alias)\n",
    "\n",
    "import sys, os\n",
    "sys.path.append(os.path.abspath(os.path.join(os.getcwd(), \"..\")))\n",
    "\n",
    "from utils.notebook_setup import enable_project_imports\n",
    "enable_project_imports()\n",
    "\n",
    "from utils.io_helpers import list_files_with_aliases, load_file_with_alias\n",
    "from pyspark.sql import SparkSession\n",
    "from pyspark.sql.functions import col, expr, when, lit, concat_ws, size, desc\n",
    "\n",
    "# 🚀 Start Spark\n",
    "spark = SparkSession.builder.appName(\"Pyspark - Clean & Transform\").getOrCreate()\n",
    "spark.sparkContext.setLogLevel(\"ERROR\")\n"
   ]
  },
  {
   "cell_type": "code",
   "execution_count": null,
   "metadata": {
    "id": "dyx9OQXbNeeg"
   },
   "outputs": [],
   "source": [
    "  # from google.colab import drive"
   ]
  },
  {
   "cell_type": "code",
   "execution_count": null,
   "metadata": {
    "colab": {
     "base_uri": "https://localhost:8080/"
    },
    "id": "ju3c8yKsNj4b",
    "outputId": "0fd2d3dd-a43e-44b3-f382-2752422840d5"
   },
   "outputs": [],
   "source": [
    "   # drive.mount('/content/drive')"
   ]
  },
  {
   "cell_type": "code",
   "execution_count": null,
   "metadata": {
    "colab": {
     "base_uri": "https://localhost:8080/",
     "height": 462
    },
    "id": "NlPQG_VVOEAV",
    "outputId": "01cc6ce8-b531-428a-84b3-36ae9d753227"
   },
   "outputs": [],
   "source": [
    "!apt-get update # Update apt-get repository.\n",
    "!apt-get install openjdk-8-jdk-headless -qq > /dev/null # Install Java.\n",
    "!wget -q http://archive.apache.org/dist/spark/spark-3.1.1/spark-3.1.1-bin-hadoop3.2.tgz # Download Apache Sparks.\n",
    "!tar xf spark-3.1.1-bin-hadoop3.2.tgz # Unzip the tgz file.\n",
    "!pip install -q findspark # Install findspark. Adds PySpark to the System path during runtime.\n",
    "\n",
    "# Set environment variables\n",
    "import os\n",
    "os.environ[\"JAVA_HOME\"] = \"/usr/lib/jvm/java-8-openjdk-amd64\"\n",
    "os.environ[\"SPARK_HOME\"] = \"/content/spark-3.1.1-bin-hadoop3.2\"\n",
    "\n",
    "!ls\n",
    "\n",
    "# Initialize findspark\n",
    "import findspark\n",
    "findspark.init()\n",
    "\n",
    "# Create a PySpark session\n",
    "from pyspark.sql import SparkSession\n",
    "spark = SparkSession.builder.master(\"local[*]\").getOrCreate()\n",
    "spark"
   ]
  },
  {
   "cell_type": "code",
   "execution_count": null,
   "metadata": {
    "id": "3wUauomaPTYE"
   },
   "outputs": [],
   "source": [
    "data_type ='json'\n",
    "path = '../data/input/practice/'+ data_type\n",
    "data_df = spark.read.format(data_type).load(path)\n",
    "data_df.show()"
   ]
  },
  {
   "cell_type": "code",
   "execution_count": null,
   "metadata": {
    "colab": {
     "base_uri": "https://localhost:8080/"
    },
    "id": "UoEE3SjpP9oL",
    "outputId": "f0e8b441-5101-4886-96b7-d5426a6a334e"
   },
   "outputs": [],
   "source": [
    "data_df.printSchema()"
   ]
  },
  {
   "cell_type": "code",
   "execution_count": null,
   "metadata": {
    "colab": {
     "base_uri": "https://localhost:8080/"
    },
    "id": "HX_Ygbj_QETD",
    "outputId": "42db5236-30ee-4e35-f4fd-a417e48678b2"
   },
   "outputs": [],
   "source": [
    "data_df.show()"
   ]
  },
  {
   "cell_type": "code",
   "execution_count": null,
   "metadata": {
    "id": "3_BaIeC8QKFk"
   },
   "outputs": [],
   "source": [
    "data_df=spark.read.format('parquet').load('/content/drive/MyDrive/Colab Notebooks/example/parquet/part-00000-097d5e0c-28b8-4e7f-baa7-b6228ea55df9-c000.snappy.parquet')"
   ]
  },
  {
   "cell_type": "code",
   "execution_count": null,
   "metadata": {
    "colab": {
     "base_uri": "https://localhost:8080/"
    },
    "id": "r5r9jWdIQRZ3",
    "outputId": "c8fdc1ff-13ea-42ef-ea62-73bf1785583e"
   },
   "outputs": [],
   "source": [
    "data_df.show()"
   ]
  },
  {
   "cell_type": "code",
   "execution_count": null,
   "metadata": {
    "id": "wIEijGiuRcXC"
   },
   "outputs": [],
   "source": [
    "data_type ='parquet'\n",
    "path = '../data/input/practice/'+ data_type\n",
    "data_practice = spark.read.format(data_type).load(path)\n",
    "data_practice.show()"
   ]
  },
  {
   "cell_type": "code",
   "execution_count": null,
   "metadata": {
    "id": "r2taq2uUpnoi"
   },
   "outputs": [],
   "source": [
    "from pyspark.sql import functions as f"
   ]
  },
  {
   "cell_type": "code",
   "execution_count": null,
   "metadata": {
    "colab": {
     "base_uri": "https://localhost:8080/"
    },
    "id": "76C4FTmIRm2f",
    "outputId": "d0a2522d-0848-4678-e728-475f93258393"
   },
   "outputs": [],
   "source": [
    "data_practice.count()"
   ]
  },
  {
   "cell_type": "code",
   "execution_count": null,
   "metadata": {
    "colab": {
     "base_uri": "https://localhost:8080/"
    },
    "id": "5i3t5BjaRzuR",
    "outputId": "8a65e037-39aa-4099-a556-5a159caa2890"
   },
   "outputs": [],
   "source": [
    "data_practice.show(truncate=False)"
   ]
  },
  {
   "cell_type": "markdown",
   "metadata": {
    "id": "T4Of_wv9kvv7"
   },
   "source": [
    "Curățarea coloanei „nume” de spații suplimentare - Se recomandă folosirea funcției trim sau replace.\n",
    "\n",
    "Curățarea coloanei „ocupatie” de sparții suplimentare -  Se recomandă folosirea funcției trim sau replace.\n",
    "\n",
    "Eliminarea diacriticelor din coloana „nume” -\n",
    "\n",
    "Scoaterea valorilor duplicate din coloana „extra”\n",
    "\n",
    "Setarea coloanei „inactiv” pe false atunci când valoarea lipsește. - Se recomandă folosirea funcției coalesce.\n"
   ]
  },
  {
   "cell_type": "markdown",
   "metadata": {},
   "source": []
  },
  {
   "cell_type": "code",
   "execution_count": null,
   "metadata": {
    "id": "u2MqL2RvkAvk"
   },
   "outputs": [],
   "source": [
    "df_tasks = (\n",
    "    data_practice\n",
    "    .withColumn('nume', f.trim(f.col('nume'))   )\n",
    "    .withColumn('ocupatie',f.trim(f.col('ocupatie')))\n",
    "    .withColumn('inactiv',f.coalesce(f.col('inactiv'),f.lit(False) ) )\n",
    "    .withColumn('nume',f.translate(f.col('nume'),'șțăîâ','staia' ))\n",
    "    .withColumn('extra',f.array_distinct(f.col('extra')))\n",
    ")"
   ]
  },
  {
   "cell_type": "code",
   "execution_count": null,
   "metadata": {
    "colab": {
     "base_uri": "https://localhost:8080/"
    },
    "id": "NtSkSx8FkQdw",
    "outputId": "b37c48ff-dacc-4ad3-bbb9-d1258e921215"
   },
   "outputs": [],
   "source": [
    "df_tasks.show()"
   ]
  },
  {
   "cell_type": "markdown",
   "metadata": {
    "id": "LVB5uD7GphF5"
   },
   "source": [
    "Adăugarea coloanei „varstă_la_contractare” egală cu diferența dintre vârsta persoanei și vechime\n",
    "\n",
    "Scoaterea coloanei „vechime”\n",
    "\n",
    "Adăugarea coloanei „text_descriptiv” care să fie un text ce descrie clientul și conține neapărat toate informațiile știute despre el, mai puțin despre starea contractului dacă este activ. (e.g. X, în vârstă de ... ani,\n",
    "este ...). Atenție la cazul special la coloana „extra” când numărul de elemente este 0. -  Se recomandă cel folosirea funcțiilor when și printf."
   ]
  },
  {
   "cell_type": "code",
   "execution_count": null,
   "metadata": {
    "id": "PDpviShopgJK"
   },
   "outputs": [],
   "source": [
    "df_transformare= (\n",
    "    data_practice\n",
    "    .withColumn('varsta_la_contractare',f.col('varsta') - f.col('vechime'))\n",
    "    .drop(f.col('vechime'))\n",
    "  #  .withColumn('array_extra', f.array_join(f.col('extra'),', '))\n",
    "  #  .withColumn('extra cnt', f.size(f.col('extra') ) )\n",
    "    .withColumn('text_descriptiv',\n",
    "                f.concat(\n",
    "        f.col('nume'),\n",
    "        f.lit(', in varsta de '),\n",
    "        f.col('varsta'),\n",
    "        f.lit(' ani, este '),\n",
    "        f.col('ocupatie'),\n",
    "\n",
    "        f.when(\n",
    "            f.size(f.col('extra') ) > 0 ,\n",
    "               f.concat(\n",
    "                    f.lit(' cu extra activitati in : ') ,\n",
    "                    f.array_join(f.col('extra'),', '))\n",
    "        )\n",
    "        .otherwise(f.lit(''))\n",
    "                                                                    ))\n",
    ")"
   ]
  },
  {
   "cell_type": "code",
   "execution_count": null,
   "metadata": {
    "colab": {
     "base_uri": "https://localhost:8080/"
    },
    "id": "QgbMWWuIqQbB",
    "outputId": "297b040c-2525-4a81-d28b-9f0ce5c2ac11"
   },
   "outputs": [],
   "source": [
    "df_transformare.show(truncate=False)"
   ]
  },
  {
   "cell_type": "markdown",
   "metadata": {
    "id": "W1Jm8MgTztHH"
   },
   "source": [
    "### Afișarea clienților inactivi / Afișarea contractelor inactive"
   ]
  },
  {
   "cell_type": "code",
   "execution_count": null,
   "metadata": {
    "colab": {
     "base_uri": "https://localhost:8080/"
    },
    "id": "uNgcUFcbzt1Z",
    "outputId": "b13683ae-4858-4c59-d3c8-935de0a1dbb3"
   },
   "outputs": [],
   "source": [
    "df_inactive_contracts = df_tasks.filter('inactiv is True')\n",
    "df_inactive_contracts.show(20)\n",
    "#df_inactive_contracts.count()"
   ]
  },
  {
   "cell_type": "markdown",
   "metadata": {
    "id": "hz4-7TsHX2OH"
   },
   "source": [
    "\n",
    "### Afișarea clienților cu minim și maxim de vechime / Afișarea contractelor care au minim 2 ani de vechime și maxim 5 ani vechime, inclusiv."
   ]
  },
  {
   "cell_type": "code",
   "execution_count": null,
   "metadata": {
    "colab": {
     "base_uri": "https://localhost:8080/"
    },
    "id": "w3yYUwFGZC0M",
    "outputId": "7159e57c-b683-4a47-db93-d079e054d314"
   },
   "outputs": [],
   "source": [
    "df_vechime_2y_to_5y = (\n",
    "    df_tasks\n",
    "    .filter(f.col('vechime') >= 2)\n",
    "    .filter(f.col('vechime') <= 5)\n",
    ")\n",
    "df_vechime_2y_to_5y.show(20)"
   ]
  },
  {
   "cell_type": "markdown",
   "metadata": {
    "id": "E_1rqnUIX2rT"
   },
   "source": [
    "### Afișarea celor mai în vârstă persoane cu orice fel de contract  / Afișarea top 10 contracte sortate după vârsta lor descrescător"
   ]
  },
  {
   "cell_type": "code",
   "execution_count": null,
   "metadata": {
    "colab": {
     "base_uri": "https://localhost:8080/"
    },
    "id": "UnNQmLyLcC7I",
    "outputId": "d2635bfb-f0af-428e-f255-efaed73ae543"
   },
   "outputs": [],
   "source": [
    "df_invarsta = (\n",
    "    df_tasks\n",
    "    .sort(f.desc_nulls_last(f.col('varsta')))\n",
    "    .limit(10)\n",
    "    )\n",
    "\n",
    "df_invarsta.show()"
   ]
  },
  {
   "cell_type": "markdown",
   "metadata": {
    "id": "rkNBS9smX2-F"
   },
   "source": [
    "### Afișarea celor mai în vârstă oameni la contractare / Afișarea top 5 contracte active sortate după vârsta la contractare descrescător"
   ]
  },
  {
   "cell_type": "code",
   "execution_count": null,
   "metadata": {
    "colab": {
     "base_uri": "https://localhost:8080/"
    },
    "id": "gkqAS01yX0zX",
    "outputId": "47dcee70-3275-444f-8763-01d1121f6094"
   },
   "outputs": [],
   "source": [
    "df_4 = (\n",
    "    df_tasks\n",
    "    .withColumn('varsta la contractare',(f.col('varsta') - f.col('vechime')))\n",
    ")\n",
    "df_4.sort(f.desc('varsta la contractare')).limit(5).show()"
   ]
  },
  {
   "cell_type": "markdown",
   "metadata": {
    "id": "sc2Ebe9LeucT"
   },
   "source": [
    "Reutilizarea Operațiilor\n",
    "\n",
    " Împărțiți setul de date în patru segmente, folosindu-vă de coloana \"inactiv\" și criteriul vârstei.\n",
    "\n",
    " Creați un segment pentru cei cu vârsta de până la 30 de ani inclusiv și un altul pentru cei peste 30 de ani, aplicând\n",
    "această divizare atât pentru înregistrările active, cât și pentru cele inactive.\n",
    "\n",
    " Scrieți fiecare set de date într-o locație diferită.\n",
    "\n",
    " Înainte de scrierea fiecărui segment, afișați datele (nu uitați să cache-uiți setul de date și înainte de\n",
    "afișare, nu numai înainte de împărțire)"
   ]
  },
  {
   "cell_type": "code",
   "execution_count": null,
   "metadata": {
    "id": "hzILWuPKe1Ze"
   },
   "outputs": [],
   "source": [
    "\n",
    "cached_data_df = df_tasks.select('varsta', 'inactiv').cache()\n",
    "\n",
    "df_active_young = (\n",
    "    cached_data_df\n",
    "    .filter(f.col('varsta') <=  f.lit(30) )\n",
    "     .filter('inactiv is false')\n",
    "    .cache()\n",
    ")\n",
    "\n",
    "\n",
    "df_inactive_young = (\n",
    "    cached_data_df\n",
    "    .filter(f.col('varsta') <=  f.lit(30) )\n",
    "    .filter('inactiv is True')\n",
    "    .cache()\n",
    ")\n",
    "\n",
    "df_active_old = (\n",
    "    cached_data_df\n",
    "    .filter(f.col('varsta') >  f.lit(30) )\n",
    "    .filter('inactiv is False')\n",
    "    .cache()\n",
    ")\n",
    "\n",
    "df_inactive_old = (\n",
    "    cached_data_df\n",
    "    .filter(f.col('varsta') >  f.lit(30) )\n",
    "    .filter('inactiv is True')\n",
    "    .cache()\n",
    ")\n",
    "\n",
    "\n"
   ]
  },
  {
   "cell_type": "code",
   "execution_count": null,
   "metadata": {
    "colab": {
     "base_uri": "https://localhost:8080/"
    },
    "id": "OTvNuOm2hRMe",
    "outputId": "728dba23-eaa2-49d3-cdde-b888cf7282aa"
   },
   "outputs": [],
   "source": [
    "df_active_young.show()"
   ]
  },
  {
   "cell_type": "code",
   "execution_count": null,
   "metadata": {
    "colab": {
     "base_uri": "https://localhost:8080/"
    },
    "id": "ziUyy3-eiBK6",
    "outputId": "d3d68404-378c-40c9-e6c5-f34075d1b38a"
   },
   "outputs": [],
   "source": [
    "df_inactive_young.show()"
   ]
  },
  {
   "cell_type": "code",
   "execution_count": null,
   "metadata": {
    "colab": {
     "base_uri": "https://localhost:8080/"
    },
    "id": "DYbQRh9TiEJ-",
    "outputId": "b6f51a0f-f4fd-4fe2-ba4b-7666b62ec858"
   },
   "outputs": [],
   "source": [
    "df_active_old.show()"
   ]
  },
  {
   "cell_type": "code",
   "execution_count": null,
   "metadata": {
    "colab": {
     "base_uri": "https://localhost:8080/"
    },
    "id": "druIeLQpiHgE",
    "outputId": "2180ff65-3d24-4be7-82a4-ad01d1be30ba"
   },
   "outputs": [],
   "source": [
    "df_inactive_old.show()"
   ]
  },
  {
   "cell_type": "code",
   "execution_count": null,
   "metadata": {
    "id": "1CDER5f2iPJV"
   },
   "outputs": [],
   "source": [
    "df_active_young.write.format('parquet').save('/content/drive/MyDrive/Colab Notebooks/practice/outputs/1')\n",
    "df_inactive_young.write.format('parquet').save('/content/drive/MyDrive/Colab Notebooks/practice/outputs/2')\n",
    "df_active_old.write.format('parquet').save('/content/drive/MyDrive/Colab Notebooks/practice/outputs/3')\n",
    "df_inactive_old.write.format('parquet').save('/content/drive/MyDrive/Colab Notebooks/practice/outputs/4')\n"
   ]
  },
  {
   "cell_type": "code",
   "execution_count": null,
   "metadata": {
    "id": "UUjaNZb6SE-R"
   },
   "outputs": [],
   "source": [
    "from pyspark.sql import functions as f"
   ]
  },
  {
   "cell_type": "code",
   "execution_count": null,
   "metadata": {
    "id": "tqFhLdhgVohH"
   },
   "outputs": [],
   "source": [
    "data_without_personal_columns_df = data_practice.drop('varsta', 'extra')"
   ]
  },
  {
   "cell_type": "code",
   "execution_count": null,
   "metadata": {
    "colab": {
     "base_uri": "https://localhost:8080/"
    },
    "id": "Y3lE8JtXWLFJ",
    "outputId": "3a49add3-3a85-48f6-fbd4-9bb79ef91c20"
   },
   "outputs": [],
   "source": [
    "data_without_personal_columns_df.show()"
   ]
  },
  {
   "cell_type": "code",
   "execution_count": null,
   "metadata": {
    "id": "QzeXLYEVWTNj"
   },
   "outputs": [],
   "source": [
    "df_rename = data_without_personal_columns_df.withColumnRenamed('ocupatie','job')"
   ]
  },
  {
   "cell_type": "code",
   "execution_count": null,
   "metadata": {
    "colab": {
     "base_uri": "https://localhost:8080/"
    },
    "id": "HsRu6WifWscf",
    "outputId": "e56f4db4-520a-460a-e00b-50412e70e4ea"
   },
   "outputs": [],
   "source": [
    "df_rename.show()"
   ]
  },
  {
   "cell_type": "code",
   "execution_count": null,
   "metadata": {
    "colab": {
     "base_uri": "https://localhost:8080/"
    },
    "id": "5p3I39tZXJmz",
    "outputId": "4ee54857-7783-4370-9d79-b712d4ee2935"
   },
   "outputs": [],
   "source": [
    "df_rename.explain('extended')"
   ]
  },
  {
   "cell_type": "code",
   "execution_count": null,
   "metadata": {
    "colab": {
     "base_uri": "https://localhost:8080/"
    },
    "id": "AGtk09FoYgF7",
    "outputId": "341fe126-d530-4518-85b4-3d9225319cc9"
   },
   "outputs": [],
   "source": [
    "print((f.col('varsta') * f.lit(2) + f.col('vechime') - f.lit(3)) / f.lit(2) < 40)"
   ]
  },
  {
   "cell_type": "code",
   "execution_count": null,
   "metadata": {
    "colab": {
     "base_uri": "https://localhost:8080/"
    },
    "id": "RHF4zIfuZfxL",
    "outputId": "29158c8e-9df7-4e5f-c3c4-750676910d63"
   },
   "outputs": [],
   "source": [
    "df_rename.printSchema()"
   ]
  },
  {
   "cell_type": "code",
   "execution_count": null,
   "metadata": {
    "id": "p_nJUDi1dfeK"
   },
   "outputs": [],
   "source": []
  },
  {
   "cell_type": "code",
   "execution_count": null,
   "metadata": {
    "id": "uQIOlVpudGlC"
   },
   "outputs": [],
   "source": [
    "df_clean_nume = (\n",
    "    data_practice\n",
    "    .withColumn('nume', f.trim(f.col('nume'))   )\n",
    "    .withColumn('job',f.trim(f.col('job')))\n",
    "    .withColumn()\n",
    "\n",
    ")"
   ]
  },
  {
   "cell_type": "code",
   "execution_count": null,
   "metadata": {
    "colab": {
     "base_uri": "https://localhost:8080/"
    },
    "id": "_fFiP-prdVwL",
    "outputId": "656f6380-2ace-47ac-8d73-c248918ff491"
   },
   "outputs": [],
   "source": [
    "df_clean_nume.show()"
   ]
  },
  {
   "cell_type": "code",
   "execution_count": null,
   "metadata": {
    "id": "VDpCae4CeAUQ"
   },
   "outputs": [],
   "source": []
  }
 ],
 "metadata": {
  "colab": {
   "provenance": []
  },
  "kernelspec": {
   "display_name": "Python 3",
   "name": "python3"
  },
  "language_info": {
   "codemirror_mode": {
    "name": "ipython",
    "version": 3
   },
   "file_extension": ".py",
   "mimetype": "text/x-python",
   "name": "python",
   "nbconvert_exporter": "python",
   "pygments_lexer": "ipython3",
   "version": "3.9.21"
  }
 },
 "nbformat": 4,
 "nbformat_minor": 0
}
