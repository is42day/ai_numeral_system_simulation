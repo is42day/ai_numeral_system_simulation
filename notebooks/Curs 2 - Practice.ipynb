{
  "cells": [
    {
      "cell_type": "code",
      "execution_count": 1,
      "metadata": {
        "id": "hrgsehW2Mg-E"
      },
      "outputs": [
        {
          "name": "stdout",
          "output_type": "stream",
          "text": [
            "✅ [notebook_setup] Project root already in sys.path.\n"
          ]
        },
        {
          "name": "stderr",
          "output_type": "stream",
          "text": [
            "Setting default log level to \"WARN\".\n",
            "To adjust logging level use sc.setLogLevel(newLevel). For SparkR, use setLogLevel(newLevel).\n",
            "25/03/27 14:06:38 WARN NativeCodeLoader: Unable to load native-hadoop library for your platform... using builtin-java classes where applicable\n"
          ]
        }
      ],
      "source": [
        "# ✅ Cell 1: Setup & Load Input Data (with dynamic alias)\n",
        "\n",
        "import sys, os\n",
        "sys.path.append(os.path.abspath(os.path.join(os.getcwd(), \"..\")))\n",
        "\n",
        "from utils.notebook_setup import enable_project_imports\n",
        "enable_project_imports()\n",
        "\n",
        "from utils.io_helpers import list_files_with_aliases, load_file_with_alias\n",
        "from pyspark.sql import SparkSession\n",
        "from pyspark.sql.functions import col, expr, when, lit, concat_ws, size, desc\n",
        "\n",
        "# 🚀 Start Spark\n",
        "spark = SparkSession.builder.appName(\"Pyspark - Clean & Transform\").getOrCreate()\n",
        "spark.sparkContext.setLogLevel(\"ERROR\")\n"
      ]
    },
    {
      "cell_type": "code",
      "execution_count": null,
      "metadata": {
        "id": "dyx9OQXbNeeg"
      },
      "outputs": [],
      "source": [
        "  # from google.colab import drive"
      ]
    },
    {
      "cell_type": "code",
      "execution_count": null,
      "metadata": {
        "colab": {
          "base_uri": "https://localhost:8080/"
        },
        "id": "ju3c8yKsNj4b",
        "outputId": "0fd2d3dd-a43e-44b3-f382-2752422840d5"
      },
      "outputs": [
        {
          "name": "stdout",
          "output_type": "stream",
          "text": [
            "Drive already mounted at /content/drive; to attempt to forcibly remount, call drive.mount(\"/content/drive\", force_remount=True).\n"
          ]
        }
      ],
      "source": [
        "   # drive.mount('/content/drive')"
      ]
    },
    {
      "cell_type": "code",
      "execution_count": null,
      "metadata": {
        "colab": {
          "base_uri": "https://localhost:8080/",
          "height": 462
        },
        "id": "NlPQG_VVOEAV",
        "outputId": "01cc6ce8-b531-428a-84b3-36ae9d753227"
      },
      "outputs": [
        {
          "name": "stdout",
          "output_type": "stream",
          "text": [
            "Hit:1 https://developer.download.nvidia.com/compute/cuda/repos/ubuntu2204/x86_64  InRelease\n",
            "Get:2 https://cloud.r-project.org/bin/linux/ubuntu jammy-cran40/ InRelease [3,626 B]\n",
            "Hit:3 http://archive.ubuntu.com/ubuntu jammy InRelease\n",
            "Get:4 http://archive.ubuntu.com/ubuntu jammy-updates InRelease [119 kB]\n",
            "Get:5 http://security.ubuntu.com/ubuntu jammy-security InRelease [110 kB]\n",
            "Hit:6 https://ppa.launchpadcontent.net/c2d4u.team/c2d4u4.0+/ubuntu jammy InRelease\n",
            "Hit:7 https://ppa.launchpadcontent.net/deadsnakes/ppa/ubuntu jammy InRelease\n",
            "Hit:8 http://archive.ubuntu.com/ubuntu jammy-backports InRelease\n",
            "Hit:9 https://ppa.launchpadcontent.net/graphics-drivers/ppa/ubuntu jammy InRelease\n",
            "Hit:10 https://ppa.launchpadcontent.net/ubuntugis/ppa/ubuntu jammy InRelease\n",
            "Fetched 233 kB in 2s (117 kB/s)\n",
            "Reading package lists... Done\n",
            "drive\t     spark-3.1.1-bin-hadoop3.2\t    spark-3.1.1-bin-hadoop3.2.tgz.1\n",
            "sample_data  spark-3.1.1-bin-hadoop3.2.tgz\n"
          ]
        },
        {
          "data": {
            "text/html": [
              "\n",
              "            <div>\n",
              "                <p><b>SparkSession - in-memory</b></p>\n",
              "                \n",
              "        <div>\n",
              "            <p><b>SparkContext</b></p>\n",
              "\n",
              "            <p><a href=\"http://f10f5e1ce2d5:4040\">Spark UI</a></p>\n",
              "\n",
              "            <dl>\n",
              "              <dt>Version</dt>\n",
              "                <dd><code>v3.1.1</code></dd>\n",
              "              <dt>Master</dt>\n",
              "                <dd><code>local[*]</code></dd>\n",
              "              <dt>AppName</dt>\n",
              "                <dd><code>pyspark-shell</code></dd>\n",
              "            </dl>\n",
              "        </div>\n",
              "        \n",
              "            </div>\n",
              "        "
            ],
            "text/plain": [
              "<pyspark.sql.session.SparkSession at 0x7af7c6907490>"
            ]
          },
          "execution_count": 30,
          "metadata": {},
          "output_type": "execute_result"
        }
      ],
      "source": [
        "!apt-get update # Update apt-get repository.\n",
        "!apt-get install openjdk-8-jdk-headless -qq > /dev/null # Install Java.\n",
        "!wget -q http://archive.apache.org/dist/spark/spark-3.1.1/spark-3.1.1-bin-hadoop3.2.tgz # Download Apache Sparks.\n",
        "!tar xf spark-3.1.1-bin-hadoop3.2.tgz # Unzip the tgz file.\n",
        "!pip install -q findspark # Install findspark. Adds PySpark to the System path during runtime.\n",
        "\n",
        "# Set environment variables\n",
        "import os\n",
        "os.environ[\"JAVA_HOME\"] = \"/usr/lib/jvm/java-8-openjdk-amd64\"\n",
        "os.environ[\"SPARK_HOME\"] = \"/content/spark-3.1.1-bin-hadoop3.2\"\n",
        "\n",
        "!ls\n",
        "\n",
        "# Initialize findspark\n",
        "import findspark\n",
        "findspark.init()\n",
        "\n",
        "# Create a PySpark session\n",
        "from pyspark.sql import SparkSession\n",
        "spark = SparkSession.builder.master(\"local[*]\").getOrCreate()\n",
        "spark"
      ]
    },
    {
      "cell_type": "code",
      "execution_count": 14,
      "metadata": {
        "id": "3wUauomaPTYE"
      },
      "outputs": [
        {
          "name": "stdout",
          "output_type": "stream",
          "text": [
            "+--------------------+-------+-----------+--------------------+------+-------+\n",
            "|               extra|inactiv|       nume|            ocupatie|varsta|vechime|\n",
            "+--------------------+-------+-----------+--------------------+------+-------+\n",
            "|            [PV, EV]|   NULL|     Andrei|Specialist marketing|    38|     13|\n",
            "|   [3D Printer, WII]|   NULL|  Alexandru|      Specialist HR |    34|      8|\n",
            "| [AC, EV, 5G Router]|   NULL|     Adrian|       Inginer civil|    45|     23|\n",
            "|              [XBOX]|   NULL|      Alin |   Vânzător  retail |    26|      2|\n",
            "|[5G Router, 3D Pr...|   NULL|      Anton|     Manager proiect|    40|     15|\n",
            "|            [EV, AC]|   NULL|        Ana|  Muncitor alimentar|    35|      9|\n",
            "|[PC, 3D Printer, AC]|  false|     Bogdan|           Farmacist|    50|     32|\n",
            "|                NULL|   true|  Cătălin  |        Medic primar|    20|      0|\n",
            "|      [AC, XBOX, PV]|   NULL|     Cosmin|           Farmacist|    49|     31|\n",
            "|[XBOX, 3D Printer...|  false|   Cristian|    Asistent  social|    44|     21|\n",
            "|[3D Printer, 3D P...|   NULL|    Gabriel|     Asistent social|    44|     21|\n",
            "|[3D Printer, AC, ...|  false|     George|     Agent imobiliar|    46|     25|\n",
            "|   [WII, 3D Printer]|   NULL|   Gheorghe|      Specialist HR |    34|      8|\n",
            "|[WII, 5G Router, ...|   NULL|    Grigore|    Asistent  social|    44|     21|\n",
            "|     [5G Router, PV]|   NULL|      Horia|           Arhitect |    42|     18|\n",
            "|                [PC]|   NULL|      Ilie |     Vânzător retail|    26|      2|\n",
            "|              [XBOX]|   NULL|       Ion |     Vânzător retail|    27|      2|\n",
            "|[EV, XBOX, 3D Pri...|   NULL|      Ionel|     Inginer  civil |    45|     23|\n",
            "|                NULL|   NULL|     Iosif |   Vânzător  retail |    26|      2|\n",
            "|      [PV, XBOX, AC]|  false|     Lucian|     Designer grafic|    49|     30|\n",
            "+--------------------+-------+-----------+--------------------+------+-------+\n",
            "only showing top 20 rows\n",
            "\n"
          ]
        }
      ],
      "source": [
        "data_type ='json'\n",
        "path = '../data/input/practice/'+ data_type\n",
        "data_df = spark.read.format(data_type).load(path)\n",
        "data_df.show()"
      ]
    },
    {
      "cell_type": "code",
      "execution_count": 9,
      "metadata": {
        "colab": {
          "base_uri": "https://localhost:8080/"
        },
        "id": "UoEE3SjpP9oL",
        "outputId": "f0e8b441-5101-4886-96b7-d5426a6a334e"
      },
      "outputs": [
        {
          "name": "stdout",
          "output_type": "stream",
          "text": [
            "root\n",
            " |-- extra: array (nullable = true)\n",
            " |    |-- element: string (containsNull = true)\n",
            " |-- inactiv: boolean (nullable = true)\n",
            " |-- nume: string (nullable = true)\n",
            " |-- ocupatie: string (nullable = true)\n",
            " |-- varsta: long (nullable = true)\n",
            " |-- vechime: long (nullable = true)\n",
            "\n"
          ]
        }
      ],
      "source": [
        "data_df.printSchema()"
      ]
    },
    {
      "cell_type": "code",
      "execution_count": 10,
      "metadata": {
        "colab": {
          "base_uri": "https://localhost:8080/"
        },
        "id": "HX_Ygbj_QETD",
        "outputId": "42db5236-30ee-4e35-f4fd-a417e48678b2"
      },
      "outputs": [
        {
          "name": "stdout",
          "output_type": "stream",
          "text": [
            "+--------------------+-------+-----------+--------------------+------+-------+\n",
            "|               extra|inactiv|       nume|            ocupatie|varsta|vechime|\n",
            "+--------------------+-------+-----------+--------------------+------+-------+\n",
            "|            [PV, EV]|   NULL|     Andrei|Specialist marketing|    38|     13|\n",
            "|   [3D Printer, WII]|   NULL|  Alexandru|      Specialist HR |    34|      8|\n",
            "| [AC, EV, 5G Router]|   NULL|     Adrian|       Inginer civil|    45|     23|\n",
            "|              [XBOX]|   NULL|      Alin |   Vânzător  retail |    26|      2|\n",
            "|[5G Router, 3D Pr...|   NULL|      Anton|     Manager proiect|    40|     15|\n",
            "|            [EV, AC]|   NULL|        Ana|  Muncitor alimentar|    35|      9|\n",
            "|[PC, 3D Printer, AC]|  false|     Bogdan|           Farmacist|    50|     32|\n",
            "|                NULL|   true|  Cătălin  |        Medic primar|    20|      0|\n",
            "|      [AC, XBOX, PV]|   NULL|     Cosmin|           Farmacist|    49|     31|\n",
            "|[XBOX, 3D Printer...|  false|   Cristian|    Asistent  social|    44|     21|\n",
            "|[3D Printer, 3D P...|   NULL|    Gabriel|     Asistent social|    44|     21|\n",
            "|[3D Printer, AC, ...|  false|     George|     Agent imobiliar|    46|     25|\n",
            "|   [WII, 3D Printer]|   NULL|   Gheorghe|      Specialist HR |    34|      8|\n",
            "|[WII, 5G Router, ...|   NULL|    Grigore|    Asistent  social|    44|     21|\n",
            "|     [5G Router, PV]|   NULL|      Horia|           Arhitect |    42|     18|\n",
            "|                [PC]|   NULL|      Ilie |     Vânzător retail|    26|      2|\n",
            "|              [XBOX]|   NULL|       Ion |     Vânzător retail|    27|      2|\n",
            "|[EV, XBOX, 3D Pri...|   NULL|      Ionel|     Inginer  civil |    45|     23|\n",
            "|                NULL|   NULL|     Iosif |   Vânzător  retail |    26|      2|\n",
            "|      [PV, XBOX, AC]|  false|     Lucian|     Designer grafic|    49|     30|\n",
            "+--------------------+-------+-----------+--------------------+------+-------+\n",
            "only showing top 20 rows\n",
            "\n"
          ]
        }
      ],
      "source": [
        "data_df.show()"
      ]
    },
    {
      "cell_type": "code",
      "execution_count": null,
      "metadata": {
        "id": "3_BaIeC8QKFk"
      },
      "outputs": [],
      "source": [
        "data_df=spark.read.format('parquet').load('/content/drive/MyDrive/Colab Notebooks/example/parquet/part-00000-097d5e0c-28b8-4e7f-baa7-b6228ea55df9-c000.snappy.parquet')"
      ]
    },
    {
      "cell_type": "code",
      "execution_count": null,
      "metadata": {
        "colab": {
          "base_uri": "https://localhost:8080/"
        },
        "id": "r5r9jWdIQRZ3",
        "outputId": "c8fdc1ff-13ea-42ef-ea62-73bf1785583e"
      },
      "outputs": [
        {
          "name": "stdout",
          "output_type": "stream",
          "text": [
            "+----+------+--------+-------+-------+------------------+\n",
            "|nume|varsta|ocupatie|vechime|inactiv|             extra|\n",
            "+----+------+--------+-------+-------+------------------+\n",
            "|Vali|    23|        |      4|   null|[3D Printer, XBOX]|\n",
            "|Vlad|    34|        |     11|   null|              [EV]|\n",
            "| Bea|    29|        |      7|   true|              null|\n",
            "+----+------+--------+-------+-------+------------------+\n",
            "\n"
          ]
        }
      ],
      "source": [
        "data_df.show()"
      ]
    },
    {
      "cell_type": "code",
      "execution_count": 15,
      "metadata": {
        "id": "wIEijGiuRcXC"
      },
      "outputs": [
        {
          "name": "stdout",
          "output_type": "stream",
          "text": [
            "+------------+------+--------------------+-------+-------+--------------------+\n",
            "|        nume|varsta|            ocupatie|vechime|inactiv|               extra|\n",
            "+------------+------+--------------------+-------+-------+--------------------+\n",
            "|       Daria|    33|   Inginer  mecanic |      7|   NULL|                [EV]|\n",
            "|     Delia  |    20|        Medic primar|      0|   true|                NULL|\n",
            "|       Diana|    45|   Asistent  social |     23|   NULL|[XBOX, 3D Printer...|\n",
            "|       Doina|    37|Specialist  marke...|     11|   NULL|          [WII, PS5]|\n",
            "|      Elena |    25|            Contabil|      1|   NULL|                NULL|\n",
            "|     Eliza  |    23|          Instalator|      0|   NULL|                NULL|\n",
            "|     Emilia |    25|            Contabil|      1|   NULL|                NULL|\n",
            "|   Eugenia  |    24|        Programator |      1|   NULL|                NULL|\n",
            "|     Felicia|    34|      Specialist  HR|      8|   NULL|          [WII, PS5]|\n",
            "|    Florina |    28|               Șofer|      3|   NULL|                [EV]|\n",
            "|      Vasile|    40|     Manager proiect|     15|   NULL|            [AC, AC]|\n",
            "|      Victor|    42|            Arhitect|     18|   NULL|   [5G Router, XBOX]|\n",
            "|      Viorel|    50|          Farmacist |     32|  false|[PS5, 3D Printer,...|\n",
            "|  Vladimir  |    18|   Asistent  medical|      0|   true|                NULL|\n",
            "|     Voicu  |    22|          Instalator|      0|   NULL|                NULL|\n",
            "|      Zamfir|    46|       Inginer civil|     24|   NULL|[3D Printer, 3D P...|\n",
            "|  Alexandra |    29|Operator call center|      4|  false|                [PC]|\n",
            "|         Ana|    45|     Asistent social|     22|   NULL|[3D Printer, 5G R...|\n",
            "|       Alina|    44|    Asistent  social|     21|   NULL|      [PS5, AC, PS5]|\n",
            "|       Adela|    40|    Manager  proiect|     15|   NULL|    [3D Printer, PC]|\n",
            "+------------+------+--------------------+-------+-------+--------------------+\n",
            "only showing top 20 rows\n",
            "\n"
          ]
        }
      ],
      "source": [
        "data_type ='parquet'\n",
        "path = '../data/input/practice/'+ data_type\n",
        "data_practice = spark.read.format(data_type).load(path)\n",
        "data_practice.show()"
      ]
    },
    {
      "cell_type": "code",
      "execution_count": 11,
      "metadata": {
        "id": "r2taq2uUpnoi"
      },
      "outputs": [],
      "source": [
        "from pyspark.sql import functions as f"
      ]
    },
    {
      "cell_type": "code",
      "execution_count": 16,
      "metadata": {
        "colab": {
          "base_uri": "https://localhost:8080/"
        },
        "id": "76C4FTmIRm2f",
        "outputId": "d0a2522d-0848-4678-e728-475f93258393"
      },
      "outputs": [
        {
          "data": {
            "text/plain": [
              "103"
            ]
          },
          "execution_count": 16,
          "metadata": {},
          "output_type": "execute_result"
        }
      ],
      "source": [
        "data_practice.count()"
      ]
    },
    {
      "cell_type": "code",
      "execution_count": 18,
      "metadata": {
        "colab": {
          "base_uri": "https://localhost:8080/"
        },
        "id": "5i3t5BjaRzuR",
        "outputId": "8a65e037-39aa-4099-a556-5a159caa2890"
      },
      "outputs": [
        {
          "name": "stdout",
          "output_type": "stream",
          "text": [
            "+------------+------+----------------------+-------+-------+----------------------------+\n",
            "|nume        |varsta|ocupatie              |vechime|inactiv|extra                       |\n",
            "+------------+------+----------------------+-------+-------+----------------------------+\n",
            "|Daria       |33    |Inginer  mecanic      |7      |NULL   |[EV]                        |\n",
            "|  Delia     |20    |Medic primar          |0      |true   |NULL                        |\n",
            "|Diana       |45    |Asistent  social      |23     |NULL   |[XBOX, 3D Printer, PV]      |\n",
            "|Doina       |37    |Specialist  marketing |11     |NULL   |[WII, PS5]                  |\n",
            "| Elena      |25    |Contabil              |1      |NULL   |NULL                        |\n",
            "|  Eliza     |23    |Instalator            |0      |NULL   |NULL                        |\n",
            "| Emilia     |25    |Contabil              |1      |NULL   |NULL                        |\n",
            "|  Eugenia   |24    |Programator           |1      |NULL   |NULL                        |\n",
            "|Felicia     |34    |Specialist  HR        |8      |NULL   |[WII, PS5]                  |\n",
            "| Florina    |28    |Șofer                 |3      |NULL   |[EV]                        |\n",
            "|Vasile      |40    |Manager proiect       |15     |NULL   |[AC, AC]                    |\n",
            "|Victor      |42    |Arhitect              |18     |NULL   |[5G Router, XBOX]           |\n",
            "|Viorel      |50    | Farmacist            |32     |false  |[PS5, 3D Printer, PC]       |\n",
            "|  Vladimir  |18    |Asistent  medical     |0      |true   |NULL                        |\n",
            "|  Voicu     |22    |Instalator            |0      |NULL   |NULL                        |\n",
            "|Zamfir      |46    |Inginer civil         |24     |NULL   |[3D Printer, 3D Printer, AC]|\n",
            "| Alexandra  |29    |Operator call center  |4      |false  |[PC]                        |\n",
            "|Ana         |45    |Asistent social       |22     |NULL   |[3D Printer, 5G Router, PV] |\n",
            "|Alina       |44    |Asistent  social      |21     |NULL   |[PS5, AC, PS5]              |\n",
            "|Adela       |40    |Manager  proiect      |15     |NULL   |[3D Printer, PC]            |\n",
            "+------------+------+----------------------+-------+-------+----------------------------+\n",
            "only showing top 20 rows\n",
            "\n"
          ]
        }
      ],
      "source": [
        "data_practice.show(truncate=False)"
      ]
    },
    {
      "cell_type": "markdown",
      "metadata": {
        "id": "T4Of_wv9kvv7"
      },
      "source": [
        "Curățarea coloanei „nume” de spații suplimentare - Se recomandă folosirea funcției trim sau replace.\n",
        "\n",
        "Curățarea coloanei „ocupatie” de sparții suplimentare -  Se recomandă folosirea funcției trim sau replace.\n",
        "\n",
        "Eliminarea diacriticelor din coloana „nume” -\n",
        "\n",
        "Scoaterea valorilor duplicate din coloana „extra”\n",
        "\n",
        "Setarea coloanei „inactiv” pe false atunci când valoarea lipsește. - Se recomandă folosirea funcției coalesce.\n"
      ]
    },
    {
      "cell_type": "markdown",
      "metadata": {},
      "source": []
    },
    {
      "cell_type": "code",
      "execution_count": 19,
      "metadata": {
        "id": "u2MqL2RvkAvk"
      },
      "outputs": [],
      "source": [
        "df_tasks = (\n",
        "    data_practice\n",
        "    .withColumn('nume', f.trim(f.col('nume'))   )\n",
        "    .withColumn('ocupatie',f.trim(f.col('ocupatie')))\n",
        "    .withColumn('inactiv',f.coalesce(f.col('inactiv'),f.lit(False) ) )\n",
        "    .withColumn('nume',f.translate(f.col('nume'),'șțăîâ','staia' ))\n",
        "    .withColumn('extra',f.array_distinct(f.col('extra')))\n",
        ")"
      ]
    },
    {
      "cell_type": "code",
      "execution_count": 20,
      "metadata": {
        "colab": {
          "base_uri": "https://localhost:8080/"
        },
        "id": "NtSkSx8FkQdw",
        "outputId": "b37c48ff-dacc-4ad3-bbb9-d1258e921215"
      },
      "outputs": [
        {
          "name": "stdout",
          "output_type": "stream",
          "text": [
            "+---------+------+--------------------+-------+-------+--------------------+\n",
            "|     nume|varsta|            ocupatie|vechime|inactiv|               extra|\n",
            "+---------+------+--------------------+-------+-------+--------------------+\n",
            "|    Daria|    33|    Inginer  mecanic|      7|  false|                [EV]|\n",
            "|    Delia|    20|        Medic primar|      0|   true|                NULL|\n",
            "|    Diana|    45|    Asistent  social|     23|  false|[XBOX, 3D Printer...|\n",
            "|    Doina|    37|Specialist  marke...|     11|  false|          [WII, PS5]|\n",
            "|    Elena|    25|            Contabil|      1|  false|                NULL|\n",
            "|    Eliza|    23|          Instalator|      0|  false|                NULL|\n",
            "|   Emilia|    25|            Contabil|      1|  false|                NULL|\n",
            "|  Eugenia|    24|         Programator|      1|  false|                NULL|\n",
            "|  Felicia|    34|      Specialist  HR|      8|  false|          [WII, PS5]|\n",
            "|  Florina|    28|               Șofer|      3|  false|                [EV]|\n",
            "|   Vasile|    40|     Manager proiect|     15|  false|                [AC]|\n",
            "|   Victor|    42|            Arhitect|     18|  false|   [5G Router, XBOX]|\n",
            "|   Viorel|    50|           Farmacist|     32|  false|[PS5, 3D Printer,...|\n",
            "| Vladimir|    18|   Asistent  medical|      0|   true|                NULL|\n",
            "|    Voicu|    22|          Instalator|      0|  false|                NULL|\n",
            "|   Zamfir|    46|       Inginer civil|     24|  false|    [3D Printer, AC]|\n",
            "|Alexandra|    29|Operator call center|      4|  false|                [PC]|\n",
            "|      Ana|    45|     Asistent social|     22|  false|[3D Printer, 5G R...|\n",
            "|    Alina|    44|    Asistent  social|     21|  false|           [PS5, AC]|\n",
            "|    Adela|    40|    Manager  proiect|     15|  false|    [3D Printer, PC]|\n",
            "+---------+------+--------------------+-------+-------+--------------------+\n",
            "only showing top 20 rows\n",
            "\n"
          ]
        }
      ],
      "source": [
        "df_tasks.show()"
      ]
    },
    {
      "cell_type": "markdown",
      "metadata": {
        "id": "LVB5uD7GphF5"
      },
      "source": [
        "Adăugarea coloanei „varstă_la_contractare” egală cu diferența dintre vârsta persoanei și vechime\n",
        "\n",
        "Scoaterea coloanei „vechime”\n",
        "\n",
        "Adăugarea coloanei „text_descriptiv” care să fie un text ce descrie clientul și conține neapărat toate informațiile știute despre el, mai puțin despre starea contractului dacă este activ. (e.g. X, în vârstă de ... ani,\n",
        "este ...). Atenție la cazul special la coloana „extra” când numărul de elemente este 0. -  Se recomandă cel folosirea funcțiilor when și printf."
      ]
    },
    {
      "cell_type": "code",
      "execution_count": 21,
      "metadata": {
        "id": "PDpviShopgJK"
      },
      "outputs": [],
      "source": [
        "df_transformare= (\n",
        "    data_practice\n",
        "    .withColumn('varsta_la_contractare',f.col('varsta') - f.col('vechime'))\n",
        "    .drop(f.col('vechime'))\n",
        "  #  .withColumn('array_extra', f.array_join(f.col('extra'),', '))\n",
        "  #  .withColumn('extra cnt', f.size(f.col('extra') ) )\n",
        "    .withColumn('text_descriptiv',\n",
        "                f.concat(\n",
        "        f.col('nume'),\n",
        "        f.lit(', in varsta de '),\n",
        "        f.col('varsta'),\n",
        "        f.lit(' ani, este '),\n",
        "        f.col('ocupatie'),\n",
        "\n",
        "        f.when(\n",
        "            f.size(f.col('extra') ) > 0 ,\n",
        "               f.concat(\n",
        "                    f.lit(' cu extra activitati in : ') ,\n",
        "                    f.array_join(f.col('extra'),', '))\n",
        "        )\n",
        "        .otherwise(f.lit(''))\n",
        "                                                                    ))\n",
        ")"
      ]
    },
    {
      "cell_type": "code",
      "execution_count": 22,
      "metadata": {
        "colab": {
          "base_uri": "https://localhost:8080/"
        },
        "id": "QgbMWWuIqQbB",
        "outputId": "297b040c-2525-4a81-d28b-9f0ce5c2ac11"
      },
      "outputs": [
        {
          "name": "stdout",
          "output_type": "stream",
          "text": [
            "+------------+------+----------------------+-------+----------------------------+---------------------+---------------------------------------------------------------------------------------------------+\n",
            "|nume        |varsta|ocupatie              |inactiv|extra                       |varsta_la_contractare|text_descriptiv                                                                                    |\n",
            "+------------+------+----------------------+-------+----------------------------+---------------------+---------------------------------------------------------------------------------------------------+\n",
            "|Daria       |33    |Inginer  mecanic      |NULL   |[EV]                        |26                   |Daria, in varsta de 33 ani, este Inginer  mecanic  cu extra activitati in : EV                     |\n",
            "|  Delia     |20    |Medic primar          |true   |NULL                        |20                   |  Delia  , in varsta de 20 ani, este Medic primar                                                  |\n",
            "|Diana       |45    |Asistent  social      |NULL   |[XBOX, 3D Printer, PV]      |22                   |Diana, in varsta de 45 ani, este Asistent  social  cu extra activitati in : XBOX, 3D Printer, PV   |\n",
            "|Doina       |37    |Specialist  marketing |NULL   |[WII, PS5]                  |26                   |Doina, in varsta de 37 ani, este Specialist  marketing  cu extra activitati in : WII, PS5          |\n",
            "| Elena      |25    |Contabil              |NULL   |NULL                        |24                   | Elena , in varsta de 25 ani, este Contabil                                                        |\n",
            "|  Eliza     |23    |Instalator            |NULL   |NULL                        |23                   |  Eliza  , in varsta de 23 ani, este Instalator                                                    |\n",
            "| Emilia     |25    |Contabil              |NULL   |NULL                        |24                   | Emilia , in varsta de 25 ani, este Contabil                                                       |\n",
            "|  Eugenia   |24    |Programator           |NULL   |NULL                        |23                   |  Eugenia  , in varsta de 24 ani, este Programator                                                 |\n",
            "|Felicia     |34    |Specialist  HR        |NULL   |[WII, PS5]                  |26                   |Felicia, in varsta de 34 ani, este Specialist  HR cu extra activitati in : WII, PS5                |\n",
            "| Florina    |28    |Șofer                 |NULL   |[EV]                        |25                   | Florina , in varsta de 28 ani, este Șofer cu extra activitati in : EV                             |\n",
            "|Vasile      |40    |Manager proiect       |NULL   |[AC, AC]                    |25                   |Vasile, in varsta de 40 ani, este Manager proiect cu extra activitati in : AC, AC                  |\n",
            "|Victor      |42    |Arhitect              |NULL   |[5G Router, XBOX]           |24                   |Victor, in varsta de 42 ani, este Arhitect cu extra activitati in : 5G Router, XBOX                |\n",
            "|Viorel      |50    | Farmacist            |false  |[PS5, 3D Printer, PC]       |18                   |Viorel, in varsta de 50 ani, este  Farmacist  cu extra activitati in : PS5, 3D Printer, PC         |\n",
            "|  Vladimir  |18    |Asistent  medical     |true   |NULL                        |18                   |  Vladimir  , in varsta de 18 ani, este Asistent  medical                                          |\n",
            "|  Voicu     |22    |Instalator            |NULL   |NULL                        |22                   |  Voicu  , in varsta de 22 ani, este Instalator                                                    |\n",
            "|Zamfir      |46    |Inginer civil         |NULL   |[3D Printer, 3D Printer, AC]|22                   |Zamfir, in varsta de 46 ani, este Inginer civil cu extra activitati in : 3D Printer, 3D Printer, AC|\n",
            "| Alexandra  |29    |Operator call center  |false  |[PC]                        |25                   | Alexandra , in varsta de 29 ani, este Operator call center cu extra activitati in : PC            |\n",
            "|Ana         |45    |Asistent social       |NULL   |[3D Printer, 5G Router, PV] |23                   |Ana, in varsta de 45 ani, este Asistent social cu extra activitati in : 3D Printer, 5G Router, PV  |\n",
            "|Alina       |44    |Asistent  social      |NULL   |[PS5, AC, PS5]              |23                   |Alina, in varsta de 44 ani, este Asistent  social cu extra activitati in : PS5, AC, PS5            |\n",
            "|Adela       |40    |Manager  proiect      |NULL   |[3D Printer, PC]            |25                   |Adela, in varsta de 40 ani, este Manager  proiect cu extra activitati in : 3D Printer, PC          |\n",
            "+------------+------+----------------------+-------+----------------------------+---------------------+---------------------------------------------------------------------------------------------------+\n",
            "only showing top 20 rows\n",
            "\n"
          ]
        }
      ],
      "source": [
        "df_transformare.show(truncate=False)"
      ]
    },
    {
      "cell_type": "markdown",
      "metadata": {
        "id": "W1Jm8MgTztHH"
      },
      "source": [
        "### Afișarea clienților inactivi / Afișarea contractelor inactive"
      ]
    },
    {
      "cell_type": "code",
      "execution_count": null,
      "metadata": {
        "colab": {
          "base_uri": "https://localhost:8080/"
        },
        "id": "uNgcUFcbzt1Z",
        "outputId": "b13683ae-4858-4c59-d3c8-935de0a1dbb3"
      },
      "outputs": [
        {
          "name": "stdout",
          "output_type": "stream",
          "text": [
            "+--------+------+-----------------+-------+-------+-----+\n",
            "|    nume|varsta|         ocupatie|vechime|inactiv|extra|\n",
            "+--------+------+-----------------+-------+-------+-----+\n",
            "|   Delia|    20|     Medic primar|      0|   true| null|\n",
            "|Vladimir|    18|Asistent  medical|      0|   true| null|\n",
            "|   Rares|    19|         Profesor|      0|   true| null|\n",
            "|  Razvan|    20|         Profesor|      0|   true| null|\n",
            "|  Teodor|    18| Asistent medical|      0|   true| null|\n",
            "|    Gina|    18|Asistent  medical|      0|   true| null|\n",
            "| Catalin|    20|     Medic primar|      0|   true| null|\n",
            "|  Florin|    20|    Medic  primar|      0|   true| null|\n",
            "| Liliana|    19|         Profesor|      0|   true| null|\n",
            "|    Paul|    19|         Profesor|      0|   true| null|\n",
            "|     Bea|    29|                 |      7|   true| null|\n",
            "+--------+------+-----------------+-------+-------+-----+\n",
            "\n"
          ]
        }
      ],
      "source": [
        "df_inactive_contracts = df_tasks.filter('inactiv is True')\n",
        "df_inactive_contracts.show(20)\n",
        "#df_inactive_contracts.count()"
      ]
    },
    {
      "cell_type": "markdown",
      "metadata": {
        "id": "hz4-7TsHX2OH"
      },
      "source": [
        "\n",
        "### Afișarea clienților cu minim și maxim de vechime / Afișarea contractelor care au minim 2 ani de vechime și maxim 5 ani vechime, inclusiv."
      ]
    },
    {
      "cell_type": "code",
      "execution_count": null,
      "metadata": {
        "colab": {
          "base_uri": "https://localhost:8080/"
        },
        "id": "w3yYUwFGZC0M",
        "outputId": "7159e57c-b683-4a47-db93-d079e054d314"
      },
      "outputs": [
        {
          "name": "stdout",
          "output_type": "stream",
          "text": [
            "+---------+------+--------------------+-------+-------+------------------+\n",
            "|     nume|varsta|            ocupatie|vechime|inactiv|             extra|\n",
            "+---------+------+--------------------+-------+-------+------------------+\n",
            "|  Florina|    28|               Șofer|      3|  false|              [EV]|\n",
            "|Alexandra|    29|Operator call center|      4|  false|              [PC]|\n",
            "|    Remus|    28|               Șofer|      3|  false|            [XBOX]|\n",
            "|    Sorin|    30|Operator  call ce...|      4|  false|             [PS5]|\n",
            "| Georgeta|    28|              Zugrav|      3|  false|            [XBOX]|\n",
            "|     Alin|    26|    Vânzător  retail|      2|  false|            [XBOX]|\n",
            "|     Ilie|    26|     Vânzător retail|      2|  false|              [PC]|\n",
            "|      Ion|    27|     Vânzător retail|      2|  false|            [XBOX]|\n",
            "|    Iosif|    26|    Vânzător  retail|      2|  false|              null|\n",
            "|     Anca|    30|Operator call center|      4|  false|              [PC]|\n",
            "|  Camelia|    30|Operator call center|      4|  false|              [PV]|\n",
            "|     Dinu|    26|     Vânzător retail|      2|  false|      [3D Printer]|\n",
            "|     Emil|    29|               Șofer|      4|  false|            [XBOX]|\n",
            "|  Mariana|    31|  Analist  financiar|      5|  false|       [5G Router]|\n",
            "|   Monica|    27|              Zugrav|      2|  false|            [XBOX]|\n",
            "|  Nicolae|    28|              Zugrav|      3|  false|      [3D Printer]|\n",
            "|     Radu|    27|              Zugrav|      2|  false|            [XBOX]|\n",
            "|     Vali|    23|                    |      4|  false|[3D Printer, XBOX]|\n",
            "+---------+------+--------------------+-------+-------+------------------+\n",
            "\n"
          ]
        }
      ],
      "source": [
        "df_vechime_2y_to_5y = (\n",
        "    df_tasks\n",
        "    .filter(f.col('vechime') >= 2)\n",
        "    .filter(f.col('vechime') <= 5)\n",
        ")\n",
        "df_vechime_2y_to_5y.show(20)"
      ]
    },
    {
      "cell_type": "markdown",
      "metadata": {
        "id": "E_1rqnUIX2rT"
      },
      "source": [
        "### Afișarea celor mai în vârstă persoane cu orice fel de contract  / Afișarea top 10 contracte sortate după vârsta lor descrescător"
      ]
    },
    {
      "cell_type": "code",
      "execution_count": null,
      "metadata": {
        "colab": {
          "base_uri": "https://localhost:8080/"
        },
        "id": "UnNQmLyLcC7I",
        "outputId": "d2635bfb-f0af-428e-f255-efaed73ae543"
      },
      "outputs": [
        {
          "name": "stdout",
          "output_type": "stream",
          "text": [
            "+--------+------+----------------+-------+-------+--------------------+\n",
            "|    nume|varsta|        ocupatie|vechime|inactiv|               extra|\n",
            "+--------+------+----------------+-------+-------+--------------------+\n",
            "|  Bogdan|    50|       Farmacist|     32|  false|[PC, 3D Printer, AC]|\n",
            "|  Viorel|    50|       Farmacist|     32|  false|[PS5, 3D Printer,...|\n",
            "|  Carmen|    50|       Farmacist|     32|  false|    [3D Printer, AC]|\n",
            "|  Lucian|    49| Designer grafic|     30|  false|      [PV, XBOX, AC]|\n",
            "|  Cosmin|    49|       Farmacist|     31|  false|      [AC, XBOX, PV]|\n",
            "| Mihaela|    49|Designer  grafic|     30|  false|       [WII, AC, PV]|\n",
            "|  Ștefan|    47| Agent imobiliar|     26|  false|    [XBOX, PS5, WII]|\n",
            "|  Zamfir|    46|   Inginer civil|     24|  false|    [3D Printer, AC]|\n",
            "|  George|    46| Agent imobiliar|     25|  false|[3D Printer, AC, ...|\n",
            "|Cristina|    46| Agent imobiliar|     25|  false|[PS5, XBOX, 3D Pr...|\n",
            "+--------+------+----------------+-------+-------+--------------------+\n",
            "\n"
          ]
        }
      ],
      "source": [
        "df_invarsta = (\n",
        "    df_tasks\n",
        "    .sort(f.desc_nulls_last(f.col('varsta')))\n",
        "    .limit(10)\n",
        "    )\n",
        "\n",
        "df_invarsta.show()"
      ]
    },
    {
      "cell_type": "markdown",
      "metadata": {
        "id": "rkNBS9smX2-F"
      },
      "source": [
        "### Afișarea celor mai în vârstă oameni la contractare / Afișarea top 5 contracte active sortate după vârsta la contractare descrescător"
      ]
    },
    {
      "cell_type": "code",
      "execution_count": null,
      "metadata": {
        "colab": {
          "base_uri": "https://localhost:8080/"
        },
        "id": "gkqAS01yX0zX",
        "outputId": "47dcee70-3275-444f-8763-01d1121f6094"
      },
      "outputs": [
        {
          "name": "stdout",
          "output_type": "stream",
          "text": [
            "+-------+------+--------------------+-------+-------+----------+---------------------+\n",
            "|   nume|varsta|            ocupatie|vechime|inactiv|     extra|varsta la contractare|\n",
            "+-------+------+--------------------+-------+-------+----------+---------------------+\n",
            "|Tiberiu|    32|  Analist  financiar|      6|  false|     [PS5]|                   26|\n",
            "|    Ana|    35|  Muncitor alimentar|      9|  false|  [EV, AC]|                   26|\n",
            "| Larisa|    37|         Electrician|     11|  false|  [PV, EV]|                   26|\n",
            "|  Doina|    37|Specialist  marke...|     11|  false|[WII, PS5]|                   26|\n",
            "|  Laura|    36|  Muncitor alimentar|     10|  false|  [AC, PV]|                   26|\n",
            "+-------+------+--------------------+-------+-------+----------+---------------------+\n",
            "\n"
          ]
        }
      ],
      "source": [
        "df_4 = (\n",
        "    df_tasks\n",
        "    .withColumn('varsta la contractare',(f.col('varsta') - f.col('vechime')))\n",
        ")\n",
        "df_4.sort(f.desc('varsta la contractare')).limit(5).show()"
      ]
    },
    {
      "cell_type": "markdown",
      "metadata": {
        "id": "sc2Ebe9LeucT"
      },
      "source": [
        "Reutilizarea Operațiilor\n",
        "\n",
        " Împărțiți setul de date în patru segmente, folosindu-vă de coloana \"inactiv\" și criteriul vârstei.\n",
        "\n",
        " Creați un segment pentru cei cu vârsta de până la 30 de ani inclusiv și un altul pentru cei peste 30 de ani, aplicând\n",
        "această divizare atât pentru înregistrările active, cât și pentru cele inactive.\n",
        "\n",
        " Scrieți fiecare set de date într-o locație diferită.\n",
        "\n",
        " Înainte de scrierea fiecărui segment, afișați datele (nu uitați să cache-uiți setul de date și înainte de\n",
        "afișare, nu numai înainte de împărțire)"
      ]
    },
    {
      "cell_type": "code",
      "execution_count": null,
      "metadata": {
        "id": "hzILWuPKe1Ze"
      },
      "outputs": [],
      "source": [
        "\n",
        "cached_data_df = df_tasks.select('varsta', 'inactiv').cache()\n",
        "\n",
        "df_active_young = (\n",
        "    cached_data_df\n",
        "    .filter(f.col('varsta') <=  f.lit(30) )\n",
        "     .filter('inactiv is false')\n",
        "    .cache()\n",
        ")\n",
        "\n",
        "\n",
        "df_inactive_young = (\n",
        "    cached_data_df\n",
        "    .filter(f.col('varsta') <=  f.lit(30) )\n",
        "    .filter('inactiv is True')\n",
        "    .cache()\n",
        ")\n",
        "\n",
        "df_active_old = (\n",
        "    cached_data_df\n",
        "    .filter(f.col('varsta') >  f.lit(30) )\n",
        "    .filter('inactiv is False')\n",
        "    .cache()\n",
        ")\n",
        "\n",
        "df_inactive_old = (\n",
        "    cached_data_df\n",
        "    .filter(f.col('varsta') >  f.lit(30) )\n",
        "    .filter('inactiv is True')\n",
        "    .cache()\n",
        ")\n",
        "\n",
        "\n"
      ]
    },
    {
      "cell_type": "code",
      "execution_count": null,
      "metadata": {
        "colab": {
          "base_uri": "https://localhost:8080/"
        },
        "id": "OTvNuOm2hRMe",
        "outputId": "728dba23-eaa2-49d3-cdde-b888cf7282aa"
      },
      "outputs": [
        {
          "name": "stdout",
          "output_type": "stream",
          "text": [
            "+------+-------+\n",
            "|varsta|inactiv|\n",
            "+------+-------+\n",
            "|    25|  false|\n",
            "|    23|  false|\n",
            "|    25|  false|\n",
            "|    24|  false|\n",
            "|    28|  false|\n",
            "|    22|  false|\n",
            "|    29|  false|\n",
            "|    23|  false|\n",
            "|    28|  false|\n",
            "|    22|  false|\n",
            "|    22|  false|\n",
            "|    30|  false|\n",
            "|    28|  false|\n",
            "|    21|  false|\n",
            "|    26|  false|\n",
            "|    26|  false|\n",
            "|    27|  false|\n",
            "|    26|  false|\n",
            "|    30|  false|\n",
            "|    30|  false|\n",
            "+------+-------+\n",
            "only showing top 20 rows\n",
            "\n"
          ]
        }
      ],
      "source": [
        "df_active_young.show()"
      ]
    },
    {
      "cell_type": "code",
      "execution_count": null,
      "metadata": {
        "colab": {
          "base_uri": "https://localhost:8080/"
        },
        "id": "ziUyy3-eiBK6",
        "outputId": "d3d68404-378c-40c9-e6c5-f34075d1b38a"
      },
      "outputs": [
        {
          "name": "stdout",
          "output_type": "stream",
          "text": [
            "+------+-------+\n",
            "|varsta|inactiv|\n",
            "+------+-------+\n",
            "|    20|   true|\n",
            "|    18|   true|\n",
            "|    19|   true|\n",
            "|    20|   true|\n",
            "|    18|   true|\n",
            "|    18|   true|\n",
            "|    20|   true|\n",
            "|    20|   true|\n",
            "|    19|   true|\n",
            "|    19|   true|\n",
            "|    29|   true|\n",
            "+------+-------+\n",
            "\n"
          ]
        }
      ],
      "source": [
        "df_inactive_young.show()"
      ]
    },
    {
      "cell_type": "code",
      "execution_count": null,
      "metadata": {
        "colab": {
          "base_uri": "https://localhost:8080/"
        },
        "id": "DYbQRh9TiEJ-",
        "outputId": "b6f51a0f-f4fd-4fe2-ba4b-7666b62ec858"
      },
      "outputs": [
        {
          "name": "stdout",
          "output_type": "stream",
          "text": [
            "+------+-------+\n",
            "|varsta|inactiv|\n",
            "+------+-------+\n",
            "|    33|  false|\n",
            "|    45|  false|\n",
            "|    37|  false|\n",
            "|    34|  false|\n",
            "|    40|  false|\n",
            "|    42|  false|\n",
            "|    50|  false|\n",
            "|    46|  false|\n",
            "|    45|  false|\n",
            "|    44|  false|\n",
            "|    40|  false|\n",
            "|    47|  false|\n",
            "|    32|  false|\n",
            "|    38|  false|\n",
            "|    40|  false|\n",
            "|    37|  false|\n",
            "|    36|  false|\n",
            "|    40|  false|\n",
            "|    39|  false|\n",
            "|    45|  false|\n",
            "+------+-------+\n",
            "only showing top 20 rows\n",
            "\n"
          ]
        }
      ],
      "source": [
        "df_active_old.show()"
      ]
    },
    {
      "cell_type": "code",
      "execution_count": null,
      "metadata": {
        "colab": {
          "base_uri": "https://localhost:8080/"
        },
        "id": "druIeLQpiHgE",
        "outputId": "2180ff65-3d24-4be7-82a4-ad01d1be30ba"
      },
      "outputs": [
        {
          "name": "stdout",
          "output_type": "stream",
          "text": [
            "+------+-------+\n",
            "|varsta|inactiv|\n",
            "+------+-------+\n",
            "+------+-------+\n",
            "\n"
          ]
        }
      ],
      "source": [
        "df_inactive_old.show()"
      ]
    },
    {
      "cell_type": "code",
      "execution_count": null,
      "metadata": {
        "id": "1CDER5f2iPJV"
      },
      "outputs": [],
      "source": [
        "df_active_young.write.format('parquet').save('/content/drive/MyDrive/Colab Notebooks/practice/outputs/1')\n",
        "df_inactive_young.write.format('parquet').save('/content/drive/MyDrive/Colab Notebooks/practice/outputs/2')\n",
        "df_active_old.write.format('parquet').save('/content/drive/MyDrive/Colab Notebooks/practice/outputs/3')\n",
        "df_inactive_old.write.format('parquet').save('/content/drive/MyDrive/Colab Notebooks/practice/outputs/4')\n"
      ]
    },
    {
      "cell_type": "code",
      "execution_count": null,
      "metadata": {
        "id": "UUjaNZb6SE-R"
      },
      "outputs": [],
      "source": [
        "from pyspark.sql import functions as f"
      ]
    },
    {
      "cell_type": "code",
      "execution_count": null,
      "metadata": {
        "id": "tqFhLdhgVohH"
      },
      "outputs": [],
      "source": [
        "data_without_personal_columns_df = data_practice.drop('varsta', 'extra')"
      ]
    },
    {
      "cell_type": "code",
      "execution_count": null,
      "metadata": {
        "colab": {
          "base_uri": "https://localhost:8080/"
        },
        "id": "Y3lE8JtXWLFJ",
        "outputId": "3a49add3-3a85-48f6-fbd4-9bb79ef91c20"
      },
      "outputs": [
        {
          "name": "stdout",
          "output_type": "stream",
          "text": [
            "+------------+--------------------+-------+-------+\n",
            "|        nume|            ocupatie|vechime|inactiv|\n",
            "+------------+--------------------+-------+-------+\n",
            "|       Daria|   Inginer  mecanic |      7|   null|\n",
            "|     Delia  |        Medic primar|      0|   true|\n",
            "|       Diana|   Asistent  social |     23|   null|\n",
            "|       Doina|Specialist  marke...|     11|   null|\n",
            "|      Elena |            Contabil|      1|   null|\n",
            "|     Eliza  |          Instalator|      0|   null|\n",
            "|     Emilia |            Contabil|      1|   null|\n",
            "|   Eugenia  |        Programator |      1|   null|\n",
            "|     Felicia|      Specialist  HR|      8|   null|\n",
            "|    Florina |               Șofer|      3|   null|\n",
            "|      Vasile|     Manager proiect|     15|   null|\n",
            "|      Victor|            Arhitect|     18|   null|\n",
            "|      Viorel|          Farmacist |     32|  false|\n",
            "|  Vladimir  |   Asistent  medical|      0|   true|\n",
            "|     Voicu  |          Instalator|      0|   null|\n",
            "|      Zamfir|       Inginer civil|     24|   null|\n",
            "|  Alexandra |Operator call center|      4|  false|\n",
            "|         Ana|     Asistent social|     22|   null|\n",
            "|       Alina|    Asistent  social|     21|   null|\n",
            "|       Adela|    Manager  proiect|     15|   null|\n",
            "+------------+--------------------+-------+-------+\n",
            "only showing top 20 rows\n",
            "\n"
          ]
        }
      ],
      "source": [
        "data_without_personal_columns_df.show()"
      ]
    },
    {
      "cell_type": "code",
      "execution_count": null,
      "metadata": {
        "id": "QzeXLYEVWTNj"
      },
      "outputs": [],
      "source": [
        "df_rename = data_without_personal_columns_df.withColumnRenamed('ocupatie','job')"
      ]
    },
    {
      "cell_type": "code",
      "execution_count": null,
      "metadata": {
        "colab": {
          "base_uri": "https://localhost:8080/"
        },
        "id": "HsRu6WifWscf",
        "outputId": "e56f4db4-520a-460a-e00b-50412e70e4ea"
      },
      "outputs": [
        {
          "name": "stdout",
          "output_type": "stream",
          "text": [
            "+------------+--------------------+-------+-------+\n",
            "|        nume|                 job|vechime|inactiv|\n",
            "+------------+--------------------+-------+-------+\n",
            "|       Daria|   Inginer  mecanic |      7|   null|\n",
            "|     Delia  |        Medic primar|      0|   true|\n",
            "|       Diana|   Asistent  social |     23|   null|\n",
            "|       Doina|Specialist  marke...|     11|   null|\n",
            "|      Elena |            Contabil|      1|   null|\n",
            "|     Eliza  |          Instalator|      0|   null|\n",
            "|     Emilia |            Contabil|      1|   null|\n",
            "|   Eugenia  |        Programator |      1|   null|\n",
            "|     Felicia|      Specialist  HR|      8|   null|\n",
            "|    Florina |               Șofer|      3|   null|\n",
            "|      Vasile|     Manager proiect|     15|   null|\n",
            "|      Victor|            Arhitect|     18|   null|\n",
            "|      Viorel|          Farmacist |     32|  false|\n",
            "|  Vladimir  |   Asistent  medical|      0|   true|\n",
            "|     Voicu  |          Instalator|      0|   null|\n",
            "|      Zamfir|       Inginer civil|     24|   null|\n",
            "|  Alexandra |Operator call center|      4|  false|\n",
            "|         Ana|     Asistent social|     22|   null|\n",
            "|       Alina|    Asistent  social|     21|   null|\n",
            "|       Adela|    Manager  proiect|     15|   null|\n",
            "+------------+--------------------+-------+-------+\n",
            "only showing top 20 rows\n",
            "\n"
          ]
        }
      ],
      "source": [
        "df_rename.show()"
      ]
    },
    {
      "cell_type": "code",
      "execution_count": null,
      "metadata": {
        "colab": {
          "base_uri": "https://localhost:8080/"
        },
        "id": "5p3I39tZXJmz",
        "outputId": "4ee54857-7783-4370-9d79-b712d4ee2935"
      },
      "outputs": [
        {
          "name": "stdout",
          "output_type": "stream",
          "text": [
            "== Parsed Logical Plan ==\n",
            "Project [nume#93, ocupatie#95 AS job#168, vechime#96, inactiv#97]\n",
            "+- Project [nume#93, ocupatie#95, vechime#96, inactiv#97]\n",
            "   +- Relation[nume#93,varsta#94,ocupatie#95,vechime#96,inactiv#97,extra#98] parquet\n",
            "\n",
            "== Analyzed Logical Plan ==\n",
            "nume: string, job: string, vechime: int, inactiv: boolean\n",
            "Project [nume#93, ocupatie#95 AS job#168, vechime#96, inactiv#97]\n",
            "+- Project [nume#93, ocupatie#95, vechime#96, inactiv#97]\n",
            "   +- Relation[nume#93,varsta#94,ocupatie#95,vechime#96,inactiv#97,extra#98] parquet\n",
            "\n",
            "== Optimized Logical Plan ==\n",
            "Project [nume#93, ocupatie#95 AS job#168, vechime#96, inactiv#97]\n",
            "+- Relation[nume#93,varsta#94,ocupatie#95,vechime#96,inactiv#97,extra#98] parquet\n",
            "\n",
            "== Physical Plan ==\n",
            "*(1) Project [nume#93, ocupatie#95 AS job#168, vechime#96, inactiv#97]\n",
            "+- *(1) ColumnarToRow\n",
            "   +- FileScan parquet [nume#93,ocupatie#95,vechime#96,inactiv#97] Batched: true, DataFilters: [], Format: Parquet, Location: InMemoryFileIndex[file:/content/drive/MyDrive/Colab Notebooks/practice/parquet], PartitionFilters: [], PushedFilters: [], ReadSchema: struct<nume:string,ocupatie:string,vechime:int,inactiv:boolean>\n",
            "\n"
          ]
        }
      ],
      "source": [
        "df_rename.explain('extended')"
      ]
    },
    {
      "cell_type": "code",
      "execution_count": null,
      "metadata": {
        "colab": {
          "base_uri": "https://localhost:8080/"
        },
        "id": "AGtk09FoYgF7",
        "outputId": "341fe126-d530-4518-85b4-3d9225319cc9"
      },
      "outputs": [
        {
          "name": "stdout",
          "output_type": "stream",
          "text": [
            "Column<'(((((varsta * 2) + vechime) - 3) / 2) < 40)'>\n"
          ]
        }
      ],
      "source": [
        "print((f.col('varsta') * f.lit(2) + f.col('vechime') - f.lit(3)) / f.lit(2) < 40)"
      ]
    },
    {
      "cell_type": "code",
      "execution_count": null,
      "metadata": {
        "colab": {
          "base_uri": "https://localhost:8080/"
        },
        "id": "RHF4zIfuZfxL",
        "outputId": "29158c8e-9df7-4e5f-c3c4-750676910d63"
      },
      "outputs": [
        {
          "name": "stdout",
          "output_type": "stream",
          "text": [
            "root\n",
            " |-- nume: string (nullable = true)\n",
            " |-- job: string (nullable = true)\n",
            " |-- vechime: integer (nullable = true)\n",
            " |-- inactiv: boolean (nullable = true)\n",
            "\n"
          ]
        }
      ],
      "source": [
        "df_rename.printSchema()"
      ]
    },
    {
      "cell_type": "code",
      "execution_count": null,
      "metadata": {
        "id": "p_nJUDi1dfeK"
      },
      "outputs": [],
      "source": []
    },
    {
      "cell_type": "code",
      "execution_count": null,
      "metadata": {
        "id": "uQIOlVpudGlC"
      },
      "outputs": [],
      "source": [
        "df_clean_nume = (\n",
        "    data_practice\n",
        "    .withColumn('nume', f.trim(f.col('nume'))   )\n",
        "    .withColumn('job',f.trim(f.col('job')))\n",
        "    .withColumn()\n",
        "\n",
        ")"
      ]
    },
    {
      "cell_type": "code",
      "execution_count": null,
      "metadata": {
        "colab": {
          "base_uri": "https://localhost:8080/"
        },
        "id": "_fFiP-prdVwL",
        "outputId": "656f6380-2ace-47ac-8d73-c248918ff491"
      },
      "outputs": [
        {
          "name": "stdout",
          "output_type": "stream",
          "text": [
            "+---------+--------------------+-------+-------+\n",
            "|     nume|                 job|vechime|inactiv|\n",
            "+---------+--------------------+-------+-------+\n",
            "|    Daria|    Inginer  mecanic|      7|   null|\n",
            "|    Delia|        Medic primar|      0|   true|\n",
            "|    Diana|    Asistent  social|     23|   null|\n",
            "|    Doina|Specialist  marke...|     11|   null|\n",
            "|    Elena|            Contabil|      1|   null|\n",
            "|    Eliza|          Instalator|      0|   null|\n",
            "|   Emilia|            Contabil|      1|   null|\n",
            "|  Eugenia|         Programator|      1|   null|\n",
            "|  Felicia|      Specialist  HR|      8|   null|\n",
            "|  Florina|               Șofer|      3|   null|\n",
            "|   Vasile|     Manager proiect|     15|   null|\n",
            "|   Victor|            Arhitect|     18|   null|\n",
            "|   Viorel|           Farmacist|     32|  false|\n",
            "| Vladimir|   Asistent  medical|      0|   true|\n",
            "|    Voicu|          Instalator|      0|   null|\n",
            "|   Zamfir|       Inginer civil|     24|   null|\n",
            "|Alexandra|Operator call center|      4|  false|\n",
            "|      Ana|     Asistent social|     22|   null|\n",
            "|    Alina|    Asistent  social|     21|   null|\n",
            "|    Adela|    Manager  proiect|     15|   null|\n",
            "+---------+--------------------+-------+-------+\n",
            "only showing top 20 rows\n",
            "\n"
          ]
        }
      ],
      "source": [
        "df_clean_nume.show()"
      ]
    },
    {
      "cell_type": "code",
      "execution_count": null,
      "metadata": {
        "id": "VDpCae4CeAUQ"
      },
      "outputs": [],
      "source": []
    }
  ],
  "metadata": {
    "colab": {
      "provenance": []
    },
    "kernelspec": {
      "display_name": "Python 3",
      "name": "python3"
    },
    "language_info": {
      "codemirror_mode": {
        "name": "ipython",
        "version": 3
      },
      "file_extension": ".py",
      "mimetype": "text/x-python",
      "name": "python",
      "nbconvert_exporter": "python",
      "pygments_lexer": "ipython3",
      "version": "3.9.21"
    }
  },
  "nbformat": 4,
  "nbformat_minor": 0
}
