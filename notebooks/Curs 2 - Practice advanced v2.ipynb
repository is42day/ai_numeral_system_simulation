{
 "cells": [
  {
   "cell_type": "code",
   "execution_count": 1,
   "metadata": {},
   "outputs": [
    {
     "name": "stdout",
     "output_type": "stream",
     "text": [
      "✅ [notebook_setup] Project root already in sys.path.\n"
     ]
    },
    {
     "name": "stderr",
     "output_type": "stream",
     "text": [
      "Setting default log level to \"WARN\".\n",
      "To adjust logging level use sc.setLogLevel(newLevel). For SparkR, use setLogLevel(newLevel).\n",
      "25/03/29 14:25:58 WARN NativeCodeLoader: Unable to load native-hadoop library for your platform... using builtin-java classes where applicable\n",
      "25/03/29 14:25:59 WARN Utils: Service 'SparkUI' could not bind on port 4040. Attempting port 4041.\n",
      "25/03/29 14:25:59 WARN Utils: Service 'SparkUI' could not bind on port 4041. Attempting port 4042.\n"
     ]
    }
   ],
   "source": [
    "# %%\n",
    "# ✅ Cell 1: Setup & Start Spark Session\n",
    "\n",
    "import sys, os\n",
    "sys.path.append(\"/app\")  # Mount path for container\n",
    "\n",
    "import pandas as pd\n",
    "from pyspark.sql import SparkSession\n",
    "from pyspark.sql.functions import (\n",
    "    col, trim, regexp_replace, coalesce, lit,\n",
    "    pandas_udf, udf, when, concat_ws\n",
    ")\n",
    "from pyspark.sql.types import StringType\n",
    "import unicodedata\n",
    "\n",
    "from utils.notebook_setup import enable_project_imports\n",
    "enable_project_imports()\n",
    "\n",
    "from utils.io_helpers import list_files_with_aliases, load_file_with_alias\n",
    "\n",
    "# Start Spark\n",
    "spark = SparkSession.builder.appName(\"Pyspark - Multi-file Clean & Transform\").getOrCreate()\n",
    "spark.sparkContext.setLogLevel(\"ERROR\")"
   ]
  },
  {
   "cell_type": "code",
   "execution_count": 2,
   "metadata": {},
   "outputs": [
    {
     "name": "stdout",
     "output_type": "stream",
     "text": [
      "📄 Loaded files:\n",
      "📥 Loading file: file1 → /app/data/input/practice/json/part-00000-46e2d8a4-96d4-4b0e-a4a9-992dbceb1653-c000.json\n"
     ]
    },
    {
     "name": "stderr",
     "output_type": "stream",
     "text": [
      "                                                                                \r"
     ]
    },
    {
     "name": "stdout",
     "output_type": "stream",
     "text": [
      "✅ Loaded file1: /app/data/input/practice/json/part-00000-46e2d8a4-96d4-4b0e-a4a9-992dbceb1653-c000.json\n",
      "📥 Loading file: file2 → /app/data/input/practice/json/part-00001-46e2d8a4-96d4-4b0e-a4a9-992dbceb1653-c000.json\n",
      "✅ Loaded file2: /app/data/input/practice/json/part-00001-46e2d8a4-96d4-4b0e-a4a9-992dbceb1653-c000.json\n",
      "📥 Loading file: file3 → /app/data/input/practice/json/part-00002-46e2d8a4-96d4-4b0e-a4a9-992dbceb1653-c000.json\n",
      "✅ Loaded file3: /app/data/input/practice/json/part-00002-46e2d8a4-96d4-4b0e-a4a9-992dbceb1653-c000.json\n",
      "+-----------------------+-------+---------+--------------------+------+-------+\n",
      "|extra                  |inactiv|nume     |ocupatie            |varsta|vechime|\n",
      "+-----------------------+-------+---------+--------------------+------+-------+\n",
      "|[PV, EV]               |NULL   |Andrei   |Specialist marketing|38    |13     |\n",
      "|[3D Printer, WII]      |NULL   |Alexandru|Specialist HR       |34    |8      |\n",
      "|[AC, EV, 5G Router]    |NULL   |Adrian   |Inginer civil       |45    |23     |\n",
      "|[XBOX]                 |NULL   | Alin    |Vânzător  retail    |26    |2      |\n",
      "|[5G Router, 3D Printer]|NULL   |Anton    |Manager proiect     |40    |15     |\n",
      "+-----------------------+-------+---------+--------------------+------+-------+\n",
      "only showing top 5 rows\n",
      "\n"
     ]
    }
   ],
   "source": [
    "# %%\n",
    "# ✅ Cell 2: Load ALL files into a single DataFrame\n",
    "\n",
    "data_type = \"json\"\n",
    "input_folder = f\"/app/data/input/practice/{data_type}\"\n",
    "\n",
    "aliases = list_files_with_aliases(input_folder, ext=data_type)\n",
    "print(\"📄 Loaded files:\")\n",
    "\n",
    "# Load and union all dataframes\n",
    "combined_df = None\n",
    "\n",
    "for alias, path in aliases.items():\n",
    "    df = load_file_with_alias(spark, input_folder, alias, ext=data_type)\n",
    "    print(f\"✅ Loaded {alias}: {path}\")\n",
    "    combined_df = df if combined_df is None else combined_df.unionByName(df, allowMissingColumns=True)\n",
    "\n",
    "combined_df.show(5, truncate=False)"
   ]
  },
  {
   "cell_type": "code",
   "execution_count": 3,
   "metadata": {},
   "outputs": [],
   "source": [
    "# ✅ Cell 3: Data Cleaning functions\n",
    "\n",
    "@pandas_udf(StringType())\n",
    "def remove_accents(series: pd.Series) -> pd.Series:\n",
    "    return series.apply(lambda s: ''.join(\n",
    "        c for c in unicodedata.normalize('NFD', s) if unicodedata.category(c) != 'Mn'\n",
    "    ) if pd.notnull(s) else s)\n",
    "\n",
    "@udf(StringType())\n",
    "def remove_duplicates(val):\n",
    "    if not val:\n",
    "        return None\n",
    "    if isinstance(val, list):\n",
    "        cleaned = [str(x).strip() for x in val if x]\n",
    "    elif isinstance(val, str):\n",
    "        cleaned = [x.strip() for x in val.split(',') if x]\n",
    "    else:\n",
    "        return str(val).strip()\n",
    "    return ', '.join(sorted(set(cleaned)))\n"
   ]
  },
  {
   "cell_type": "code",
   "execution_count": 4,
   "metadata": {},
   "outputs": [
    {
     "name": "stderr",
     "output_type": "stream",
     "text": [
      "[Stage 4:=======================================>                   (2 + 1) / 3]\r"
     ]
    },
    {
     "name": "stdout",
     "output_type": "stream",
     "text": [
      "+---------------------+-------+---------+--------------------+------+---------------------+-------------------------------------------------------------------------------+\n",
      "|extra                |inactiv|nume     |ocupatie            |varsta|varsta_la_contractare|text_descriptiv                                                                |\n",
      "+---------------------+-------+---------+--------------------+------+---------------------+-------------------------------------------------------------------------------+\n",
      "|EV, PV               |false  |Andrei   |Specialist marketing|38    |25                   |Andrei în vârstă de 38 ani este Specialist marketing și deține: EV, PV         |\n",
      "|3D Printer, WII      |false  |Alexandru|Specialist HR       |34    |26                   |Alexandru în vârstă de 34 ani este Specialist HR și deține: 3D Printer, WII    |\n",
      "|5G Router, AC, EV    |false  |Adrian   |Inginer civil       |45    |22                   |Adrian în vârstă de 45 ani este Inginer civil și deține: 5G Router, AC, EV     |\n",
      "|XBOX                 |false  |Alin     |Vanzator retail     |26    |24                   |Alin în vârstă de 26 ani este Vanzator retail și deține: XBOX                  |\n",
      "|3D Printer, 5G Router|false  |Anton    |Manager proiect     |40    |25                   |Anton în vârstă de 40 ani este Manager proiect și deține: 3D Printer, 5G Router|\n",
      "+---------------------+-------+---------+--------------------+------+---------------------+-------------------------------------------------------------------------------+\n",
      "only showing top 5 rows\n",
      "\n"
     ]
    },
    {
     "name": "stderr",
     "output_type": "stream",
     "text": [
      "                                                                                \r"
     ]
    }
   ],
   "source": [
    "# %%\n",
    "# ✅ Cell 4: Apply Cleaning & Transformation\n",
    "\n",
    "clean_df = combined_df \\\n",
    "    .withColumn(\"nume\", remove_accents(trim(col(\"nume\")))) \\\n",
    "    .withColumn(\"ocupatie\", remove_accents(trim(regexp_replace(col(\"ocupatie\"), r\"\\s+\", \" \")))) \\\n",
    "    .withColumn(\"extra\", remove_duplicates(col(\"extra\"))) \\\n",
    "    .withColumn(\"inactiv\", coalesce(col(\"inactiv\"), lit(False))) \\\n",
    "    .withColumn(\"varsta_la_contractare\", col(\"varsta\") - col(\"vechime\")) \\\n",
    "    .drop(\"vechime\") \\\n",
    "    .withColumn(\"text_descriptiv\", \n",
    "        when(col(\"extra\").isNull() | (col(\"extra\") == \"\"), \n",
    "             concat_ws(\" \", col(\"nume\"), lit(\"în vârstă de\"), col(\"varsta\"), lit(\"ani este\"), col(\"ocupatie\")))\n",
    "        .otherwise(\n",
    "             concat_ws(\" \", col(\"nume\"), lit(\"în vârstă de\"), col(\"varsta\"), lit(\"ani este\"), col(\"ocupatie\"), lit(\"și deține:\"), col(\"extra\"))\n",
    "        )\n",
    "    )\n",
    "\n",
    "clean_df.cache()\n",
    "clean_df.show(5, truncate=False)"
   ]
  },
  {
   "cell_type": "code",
   "execution_count": 7,
   "metadata": {},
   "outputs": [
    {
     "name": "stdout",
     "output_type": "stream",
     "text": [
      "✅ All validation checks passed!\n",
      "+---------------------+-------+--------+---------------+------+---------------------+----------------------------------------------------------------------------------+\n",
      "|extra                |inactiv|nume    |ocupatie       |varsta|varsta_la_contractare|text_descriptiv                                                                   |\n",
      "+---------------------+-------+--------+---------------+------+---------------------+----------------------------------------------------------------------------------+\n",
      "|3D Printer, AC, PC   |false  |Bogdan  |Farmacist      |50    |18                   |Bogdan în vârstă de 50 ani este Farmacist și deține: 3D Printer, AC, PC           |\n",
      "|3D Printer, PC, PS5  |false  |Viorel  |Farmacist      |50    |18                   |Viorel în vârstă de 50 ani este Farmacist și deține: 3D Printer, PC, PS5          |\n",
      "|3D Printer, AC       |false  |Carmen  |Farmacist      |50    |18                   |Carmen în vârstă de 50 ani este Farmacist și deține: 3D Printer, AC               |\n",
      "|AC, PV, WII          |false  |Mihaela |Designer grafic|49    |19                   |Mihaela în vârstă de 49 ani este Designer grafic și deține: AC, PV, WII           |\n",
      "|AC, PV, XBOX         |false  |Cosmin  |Farmacist      |49    |18                   |Cosmin în vârstă de 49 ani este Farmacist și deține: AC, PV, XBOX                 |\n",
      "|AC, PV, XBOX         |false  |Lucian  |Designer grafic|49    |19                   |Lucian în vârstă de 49 ani este Designer grafic și deține: AC, PV, XBOX           |\n",
      "|PS5, WII, XBOX       |false  |Stefan  |Agent imobiliar|47    |21                   |Stefan în vârstă de 47 ani este Agent imobiliar și deține: PS5, WII, XBOX         |\n",
      "|3D Printer, AC, WII  |false  |George  |Agent imobiliar|46    |21                   |George în vârstă de 46 ani este Agent imobiliar și deține: 3D Printer, AC, WII    |\n",
      "|3D Printer, AC       |false  |Zamfir  |Inginer civil  |46    |22                   |Zamfir în vârstă de 46 ani este Inginer civil și deține: 3D Printer, AC           |\n",
      "|3D Printer, PS5, XBOX|false  |Cristina|Agent imobiliar|46    |21                   |Cristina în vârstă de 46 ani este Agent imobiliar și deține: 3D Printer, PS5, XBOX|\n",
      "+---------------------+-------+--------+---------------+------+---------------------+----------------------------------------------------------------------------------+\n",
      "only showing top 10 rows\n",
      "\n",
      "+---------------+-------+---------+------------------+------+---------------------+---------------------------------------------------------------------------+\n",
      "|extra          |inactiv|nume     |ocupatie          |varsta|varsta_la_contractare|text_descriptiv                                                            |\n",
      "+---------------+-------+---------+------------------+------+---------------------+---------------------------------------------------------------------------+\n",
      "|AC, EV         |false  |Ana      |Muncitor alimentar|35    |26                   |Ana în vârstă de 35 ani este Muncitor alimentar și deține: AC, EV          |\n",
      "|XBOX           |false  |Loredana |Analist financiar |32    |26                   |Loredana în vârstă de 32 ani este Analist financiar și deține: XBOX        |\n",
      "|EV             |false  |Daria    |Inginer mecanic   |33    |26                   |Daria în vârstă de 33 ani este Inginer mecanic și deține: EV               |\n",
      "|PS5, PV        |false  |Magdalena|Electrician       |37    |26                   |Magdalena în vârstă de 37 ani este Electrician și deține: PS5, PV          |\n",
      "|3D Printer, WII|false  |Alexandru|Specialist HR     |34    |26                   |Alexandru în vârstă de 34 ani este Specialist HR și deține: 3D Printer, WII|\n",
      "+---------------+-------+---------+------------------+------+---------------------+---------------------------------------------------------------------------+\n",
      "only showing top 5 rows\n",
      "\n"
     ]
    }
   ],
   "source": [
    "# %%\n",
    "# ✅ Cell 5: Validation (in Pandas)\n",
    "\n",
    "pdf = clean_df.toPandas()\n",
    "pdf.head(10)\n",
    "\n",
    "# ✅ Ensure no diacritics and trimmed values\n",
    "assert pdf['nume'].apply(lambda x: x == x.strip()).all()\n",
    "assert pdf['ocupatie'].apply(lambda x: x == x.strip()).all()\n",
    "assert pdf['nume'].apply(lambda x: all(unicodedata.category(c) != \"Mn\" for c in unicodedata.normalize(\"NFD\", x))).all()\n",
    "\n",
    "# ✅ 'extra' checks\n",
    "assert pdf['extra'].notna().sum() > 0\n",
    "assert pdf['extra'].dropna().apply(lambda x: len(x.split(\",\")) == len(set(x.split(\",\")))).all()\n",
    "\n",
    "# ✅ 'inactiv' checks\n",
    "assert pdf['inactiv'].apply(lambda x: isinstance(x, bool)).all()\n",
    "\n",
    "print(\"✅ All validation checks passed!\")\n",
    "\n",
    "# %%\n",
    "# ✅ Cell 6: Analysis examples\n",
    "\n",
    "# Example 1: Clients aged top 10 (active)\n",
    "clean_df.filter(col(\"inactiv\") == False).orderBy(col(\"varsta\").desc()).show(10, truncate=False)\n",
    "\n",
    "# Example 2: Oldest at contract (top 5 active)\n",
    "clean_df.filter(col(\"inactiv\") == False).orderBy(col(\"varsta_la_contractare\").desc()).show(5, truncate=False)\n"
   ]
  }
 ],
 "metadata": {
  "kernelspec": {
   "display_name": "Python 3",
   "language": "python",
   "name": "python3"
  },
  "language_info": {
   "codemirror_mode": {
    "name": "ipython",
    "version": 3
   },
   "file_extension": ".py",
   "mimetype": "text/x-python",
   "name": "python",
   "nbconvert_exporter": "python",
   "pygments_lexer": "ipython3",
   "version": "3.9.21"
  }
 },
 "nbformat": 4,
 "nbformat_minor": 2
}
