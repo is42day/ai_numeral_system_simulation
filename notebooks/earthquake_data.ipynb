{
 "cells": [
  {
   "cell_type": "code",
   "execution_count": null,
   "metadata": {},
   "outputs": [],
   "source": [
    "import requests\n",
    "import pandas as pd\n",
    "\n",
    "# Define the API endpoint and parameters\n",
    "url = 'https://earthquake.usgs.gov/fdsnws/event/1/query'\n",
    "params = {\n",
    "    'format': 'geojson',\n",
    "    'starttime': '2022-01-01',\n",
    "    'endtime': '2022-12-31',\n",
    "    'minmagnitude': 5\n",
    "}\n",
    "\n",
    "# Send the GET request\n",
    "response = requests.get(url, params=params)\n",
    "data = response.json()\n",
    "\n",
    "# Extract features\n",
    "features = data['features']\n",
    "\n",
    "# Create lists to hold data\n",
    "places = []\n",
    "magnitudes = []\n",
    "times = []\n",
    "latitudes = []\n",
    "longitudes = []\n",
    "\n",
    "# Populate lists with data\n",
    "for feature in features:\n",
    "    properties = feature['properties']\n",
    "    geometry = feature['geometry']\n",
    "    places.append(properties['place'])\n",
    "    magnitudes.append(properties['mag'])\n",
    "    times.append(pd.to_datetime(properties['time'], unit='ms'))\n",
    "    latitudes.append(geometry['coordinates'][1])\n",
    "    longitudes.append(geometry['coordinates'][0])\n",
    "\n",
    "# Create a DataFrame\n",
    "df = pd.DataFrame({\n",
    "    'Place': places,\n",
    "    'Magnitude': magnitudes,\n",
    "    'Time': times,\n",
    "    'Latitude': latitudes,\n",
    "    'Longitude': longitudes\n",
    "})\n",
    "\n",
    "# Display the first few rows\n",
    "print(df.head())\n"
   ]
  },
  {
   "cell_type": "code",
   "execution_count": null,
   "metadata": {},
   "outputs": [],
   "source": [
    "print(df.describe())\n"
   ]
  },
  {
   "cell_type": "code",
   "execution_count": null,
   "metadata": {},
   "outputs": [],
   "source": [
    "print(df.nlargest(10, 'Magnitude'))"
   ]
  },
  {
   "cell_type": "code",
   "execution_count": null,
   "metadata": {},
   "outputs": [],
   "source": [
    "import matplotlib.pyplot as plt\n",
    "\n",
    "plt.hist(df['Magnitude'], bins=20, edgecolor='black')\n",
    "plt.title('Distribution of Earthquake Magnitudes in 2022')\n",
    "plt.xlabel('Magnitude')\n",
    "plt.ylabel('Frequency')\n",
    "plt.show()\n"
   ]
  },
  {
   "cell_type": "code",
   "execution_count": null,
   "metadata": {},
   "outputs": [],
   "source": [
    "import folium\n",
    "from folium.plugins import HeatMap\n",
    "\n",
    "# Create a base map\n",
    "m = folium.Map(location=[0, 0], zoom_start=2)\n",
    "\n",
    "# Add earthquake locations to the map\n",
    "for idx, row in df.iterrows():\n",
    "    folium.CircleMarker(\n",
    "        location=[row['Latitude'], row['Longitude']],\n",
    "        radius=row['Magnitude'],\n",
    "        popup=f\"{row['Place']} (Mag: {row['Magnitude']})\",\n",
    "        color='red',\n",
    "        fill=True,\n",
    "        fill_color='red'\n",
    "    ).add_to(m)\n",
    "\n",
    "# Display the map\n",
    "m.save('earthquakes_2022.html')\n"
   ]
  },
  {
   "cell_type": "code",
   "execution_count": null,
   "metadata": {},
   "outputs": [],
   "source": []
  }
 ],
 "metadata": {
  "kernelspec": {
   "display_name": "Python 3",
   "language": "python",
   "name": "python3"
  },
  "language_info": {
   "codemirror_mode": {
    "name": "ipython",
    "version": 3
   },
   "file_extension": ".py",
   "mimetype": "text/x-python",
   "name": "python",
   "nbconvert_exporter": "python",
   "pygments_lexer": "ipython3",
   "version": "3.9.21"
  }
 },
 "nbformat": 4,
 "nbformat_minor": 2
}
