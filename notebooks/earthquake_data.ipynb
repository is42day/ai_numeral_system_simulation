{
 "cells": [
  {
   "cell_type": "code",
   "execution_count": 2,
   "metadata": {},
   "outputs": [
    {
     "name": "stdout",
     "output_type": "stream",
     "text": [
      "                                 Place  Magnitude                    Time  \\\n",
      "0        67 km WSW of Changuillo, Peru        5.2 2022-12-30 21:53:29.589   \n",
      "1                      south of Africa        5.2 2022-12-30 21:02:26.831   \n",
      "2  216 km ENE of Lospalos, Timor Leste        5.0 2022-12-30 12:10:45.211   \n",
      "3          65 km SSE of ‘Ohonua, Tonga        5.4 2022-12-30 09:42:09.278   \n",
      "4  282 km W of Puerto Chacabuco, Chile        5.3 2022-12-30 05:19:18.616   \n",
      "\n",
      "   Latitude  Longitude  \n",
      "0  -14.9955   -75.7501  \n",
      "1  -52.7091    27.9903  \n",
      "2   -7.9548   128.8795  \n",
      "3  -21.8971  -174.7611  \n",
      "4  -45.8405   -76.4020  \n"
     ]
    }
   ],
   "source": [
    "import requests\n",
    "import pandas as pd\n",
    "\n",
    "# Define the API endpoint and parameters\n",
    "url = 'https://earthquake.usgs.gov/fdsnws/event/1/query'\n",
    "params = {\n",
    "    'format': 'geojson',\n",
    "    'starttime': '2022-01-01',\n",
    "    'endtime': '2022-12-31',\n",
    "    'minmagnitude': 5\n",
    "}\n",
    "\n",
    "# Send the GET request\n",
    "response = requests.get(url, params=params)\n",
    "data = response.json()\n",
    "\n",
    "# Extract features\n",
    "features = data['features']\n",
    "\n",
    "# Create lists to hold data\n",
    "places = []\n",
    "magnitudes = []\n",
    "times = []\n",
    "latitudes = []\n",
    "longitudes = []\n",
    "\n",
    "# Populate lists with data\n",
    "for feature in features:\n",
    "    properties = feature['properties']\n",
    "    geometry = feature['geometry']\n",
    "    places.append(properties['place'])\n",
    "    magnitudes.append(properties['mag'])\n",
    "    times.append(pd.to_datetime(properties['time'], unit='ms'))\n",
    "    latitudes.append(geometry['coordinates'][1])\n",
    "    longitudes.append(geometry['coordinates'][0])\n",
    "\n",
    "# Create a DataFrame\n",
    "df = pd.DataFrame({\n",
    "    'Place': places,\n",
    "    'Magnitude': magnitudes,\n",
    "    'Time': times,\n",
    "    'Latitude': latitudes,\n",
    "    'Longitude': longitudes\n",
    "})\n",
    "\n",
    "# Display the first few rows\n",
    "print(df.head())\n"
   ]
  },
  {
   "cell_type": "code",
   "execution_count": 3,
   "metadata": {},
   "outputs": [
    {
     "name": "stdout",
     "output_type": "stream",
     "text": [
      "         Magnitude                           Time     Latitude    Longitude\n",
      "count  1725.000000                           1725  1725.000000  1725.000000\n",
      "mean      5.324510  2022-06-26 13:11:27.139853056    -3.314550    29.709656\n",
      "min       5.000000     2022-01-01 08:08:09.823000   -69.773900  -179.929500\n",
      "25%       5.100000  2022-03-22 17:43:25.212999936   -23.496000   -73.975600\n",
      "50%       5.200000  2022-06-21 19:08:15.929999872    -5.460400    86.782700\n",
      "75%       5.500000  2022-09-29 09:55:57.972999936    21.640900   140.814400\n",
      "max       7.600000     2022-12-30 21:53:29.589000    84.260700   179.998100\n",
      "std       0.388001                            NaN    31.587143   122.151131\n"
     ]
    }
   ],
   "source": [
    "print(df.describe())\n"
   ]
  },
  {
   "cell_type": "code",
   "execution_count": 4,
   "metadata": {},
   "outputs": [
    {
     "name": "stdout",
     "output_type": "stream",
     "text": [
      "                                      Place  Magnitude  \\\n",
      "486          35 km SSW of Aguililla, Mexico        7.6   \n",
      "527   70 km E of Kainantu, Papua New Guinea        7.6   \n",
      "253             205 km ESE of Neiafu, Tonga        7.3   \n",
      "1328              57 km ENE of Namie, Japan        7.3   \n",
      "962               10 km W of Azángaro, Peru        7.2   \n",
      "198    18 km SW of Malango, Solomon Islands        7.0   \n",
      "246                             Fiji region        7.0   \n",
      "258               south of the Fiji Islands        7.0   \n",
      "511          209 km SSE of Isangel, Vanuatu        7.0   \n",
      "729         11 km NE of Bantay, Philippines        7.0   \n",
      "\n",
      "                        Time  Latitude  Longitude  \n",
      "486  2022-09-19 18:05:08.217   18.4552  -102.9561  \n",
      "527  2022-09-10 23:47:00.233   -6.2944   146.5038  \n",
      "253  2022-11-11 10:48:46.710  -19.2881  -172.1471  \n",
      "1328 2022-03-16 14:36:30.997   37.7132   141.5793  \n",
      "962  2022-05-26 12:02:21.110  -14.9076   -70.2924  \n",
      "198  2022-11-22 02:03:06.891   -9.8198   159.6033  \n",
      "246  2022-11-12 07:09:13.514  -20.1112  -178.3453  \n",
      "258  2022-11-09 09:51:04.068  -26.0901   178.3427  \n",
      "511  2022-09-14 11:04:06.558  -21.1909   170.2666  \n",
      "729  2022-07-27 00:43:26.871   17.5207   120.8181  \n"
     ]
    }
   ],
   "source": [
    "print(df.nlargest(10, 'Magnitude'))"
   ]
  },
  {
   "cell_type": "code",
   "execution_count": 10,
   "metadata": {},
   "outputs": [
    {
     "data": {
      "image/png": "[encoded data removed]",
      "text/plain": [
       "<Figure size 640x480 with 1 Axes>"
      ]
     },
     "metadata": {},
     "output_type": "display_data"
    }
   ],
   "source": [
    "import matplotlib.pyplot as plt\n",
    "\n",
    "plt.hist(df['Magnitude'], bins=20, edgecolor='black')\n",
    "plt.title('Distribution of Earthquake Magnitudes in 2022')\n",
    "plt.xlabel('Magnitude')\n",
    "plt.ylabel('Frequency')\n",
    "plt.show()\n"
   ]
  },
  {
   "cell_type": "code",
   "execution_count": 11,
   "metadata": {},
   "outputs": [],
   "source": [
    "import folium\n",
    "from folium.plugins import HeatMap\n",
    "\n",
    "# Create a base map\n",
    "m = folium.Map(location=[0, 0], zoom_start=2)\n",
    "\n",
    "# Add earthquake locations to the map\n",
    "for idx, row in df.iterrows():\n",
    "    folium.CircleMarker(\n",
    "        location=[row['Latitude'], row['Longitude']],\n",
    "        radius=row['Magnitude'],\n",
    "        popup=f\"{row['Place']} (Mag: {row['Magnitude']})\",\n",
    "        color='red',\n",
    "        fill=True,\n",
    "        fill_color='red'\n",
    "    ).add_to(m)\n",
    "\n",
    "# Display the map\n",
    "m.save('earthquakes_2022.html')\n"
   ]
  },
  {
   "cell_type": "code",
   "execution_count": null,
   "metadata": {},
   "outputs": [],
   "source": []
  }
 ],
 "metadata": {
  "kernelspec": {
   "display_name": "Python 3",
   "language": "python",
   "name": "python3"
  },
  "language_info": {
   "codemirror_mode": {
    "name": "ipython",
    "version": 3
   },
   "file_extension": ".py",
   "mimetype": "text/x-python",
   "name": "python",
   "nbconvert_exporter": "python",
   "pygments_lexer": "ipython3",
   "version": "3.9.21"
  }
 },
 "nbformat": 4,
 "nbformat_minor": 2
}
